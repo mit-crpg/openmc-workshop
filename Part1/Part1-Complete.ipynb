{
 "cells": [
  {
   "cell_type": "markdown",
   "metadata": {},
   "source": [
    "# Part 1: OpenMC Basics\n",
    "\n",
    "Welcome to the OpenMC workshop. This part will show the very basics of input file syntax using OpenMC's Python API\n",
    "\n",
    "<span style=\"color:red\">HINTS:</span>\n",
    "* To run the commands, click on the relevant cell and hit the `shift + enter` keys simultaneously\n",
    "* You need to fill in some code indicated wih `#TODO`s\n",
    "\n",
    "Debugging tips\n",
    "* Did you run all of the cells above your current cell? Try `Run -> Run All Above Selected Cell` from the menu\n",
    "* Has the cell accidentally been switched from a `Code` cell to a `Raw` or `Markdown` cell? Check the dropdown menu that is to the far right of the save button\n",
    "* If all else fails, switch over to the filled-in .ipynb file."
   ]
  },
  {
   "cell_type": "markdown",
   "metadata": {},
   "source": [
    "# Materials"
   ]
  },
  {
   "cell_type": "markdown",
   "metadata": {},
   "source": [
    "We will start by defining the materials that we need for a pincell problem. Here are UO2 and zirconium materials, for example."
   ]
  },
  {
   "cell_type": "code",
   "execution_count": 1,
   "metadata": {},
   "outputs": [],
   "source": [
    "import openmc"
   ]
  },
  {
   "cell_type": "code",
   "execution_count": 2,
   "metadata": {},
   "outputs": [],
   "source": [
    "uo2 = openmc.Material()\n",
    "uo2.add_element('U', 1.0, enrichment=3.2)\n",
    "uo2.add_element('O', 2.0)\n",
    "uo2.set_density('g/cm3', 10.0)\n",
    "\n",
    "zirconium = openmc.Material()\n",
    "zirconium.add_element('Zr', 1.0)\n",
    "zirconium.set_density('g/cm3', 6.6)"
   ]
  },
  {
   "cell_type": "markdown",
   "metadata": {},
   "source": [
    "Now, you try adding the elements we need for H2O water."
   ]
  },
  {
   "cell_type": "code",
   "execution_count": 3,
   "metadata": {},
   "outputs": [],
   "source": [
    "water = openmc.Material()"
   ]
  },
  {
   "cell_type": "markdown",
   "metadata": {},
   "source": [
    "Try using Jupyter's auto-completion tools, type just `water.` then hit `tab` which should give you a dropdown menu. (You will need to evaluate the cell above first so that `water` is defined.)\n",
    "\n",
    "<span style=\"color:red\">Extra input is needed here</span>"
   ]
  },
  {
   "cell_type": "code",
   "execution_count": 4,
   "metadata": {},
   "outputs": [],
   "source": [
    "#TODO: add 2 H and 1 O to the water material.\n",
    "water.add_element('H', 2.0)\n",
    "water.add_element('O', 1.0)\n",
    "water.set_density('g/cm3', 0.7)"
   ]
  },
  {
   "cell_type": "markdown",
   "metadata": {},
   "source": [
    "For some materials like water, you will also need to add S($\\alpha$, $\\beta$) tables which describe thermal neutron cross sections for the combined molecule"
   ]
  },
  {
   "cell_type": "code",
   "execution_count": 5,
   "metadata": {},
   "outputs": [],
   "source": [
    "water.add_s_alpha_beta('c_H_in_H2O')"
   ]
  },
  {
   "cell_type": "markdown",
   "metadata": {},
   "source": [
    "Now we have defined our materials in Python, but we need to write them out to an XML file that the C++ physics solver can read. The `cat` command below will show you what the actual XML files look like."
   ]
  },
  {
   "cell_type": "code",
   "execution_count": 6,
   "metadata": {},
   "outputs": [],
   "source": [
    "materials = openmc.Materials([uo2, zirconium, water])\n",
    "materials.export_to_xml()"
   ]
  },
  {
   "cell_type": "code",
   "execution_count": 7,
   "metadata": {},
   "outputs": [
    {
     "name": "stdout",
     "output_type": "stream",
     "text": [
      "<?xml version='1.0' encoding='utf-8'?>\n",
      "<materials>\n",
      "  <material depletable=\"true\" id=\"1\">\n",
      "    <density units=\"g/cm3\" value=\"10.0\" />\n",
      "    <nuclide ao=\"0.0002895591829726249\" name=\"U234\" />\n",
      "    <nuclide ao=\"0.03239590764444486\" name=\"U235\" />\n",
      "    <nuclide ao=\"0.9671661443552968\" name=\"U238\" />\n",
      "    <nuclide ao=\"0.00014838881728587684\" name=\"U236\" />\n",
      "    <nuclide ao=\"1.999242\" name=\"O16\" />\n",
      "    <nuclide ao=\"0.000758\" name=\"O17\" />\n",
      "  </material>\n",
      "  <material id=\"2\">\n",
      "    <density units=\"g/cm3\" value=\"6.6\" />\n",
      "    <nuclide ao=\"0.5145\" name=\"Zr90\" />\n",
      "    <nuclide ao=\"0.1122\" name=\"Zr91\" />\n",
      "    <nuclide ao=\"0.1715\" name=\"Zr92\" />\n",
      "    <nuclide ao=\"0.1738\" name=\"Zr94\" />\n",
      "    <nuclide ao=\"0.028\" name=\"Zr96\" />\n",
      "  </material>\n",
      "  <material id=\"3\">\n",
      "    <density units=\"g/cm3\" value=\"0.7\" />\n",
      "    <nuclide ao=\"1.99968852\" name=\"H1\" />\n",
      "    <nuclide ao=\"0.00031148\" name=\"H2\" />\n",
      "    <nuclide ao=\"0.999621\" name=\"O16\" />\n",
      "    <nuclide ao=\"0.000379\" name=\"O17\" />\n",
      "    <sab name=\"c_H_in_H2O\" />\n",
      "  </material>\n",
      "</materials>\n"
     ]
    }
   ],
   "source": [
    "!cat materials.xml"
   ]
  },
  {
   "cell_type": "markdown",
   "metadata": {},
   "source": [
    "# Geometry\n",
    "\n",
    "Next, let's define the geometry, starting with the surfaces. OpenMC supports many basic shapes like planes, cylinders, and cones. Here are the cylinders we'll need for the pincell problem."
   ]
  },
  {
   "cell_type": "code",
   "execution_count": 8,
   "metadata": {},
   "outputs": [],
   "source": [
    "fuel_or = openmc.ZCylinder(r=0.39)\n",
    "clad_ir = openmc.ZCylinder(r=0.40)\n",
    "clad_or = openmc.ZCylinder(r=0.46)"
   ]
  },
  {
   "cell_type": "markdown",
   "metadata": {},
   "source": [
    "Note that this is a Python script so we can easily define helper variables and do math directly in the input file.\n",
    "\n",
    "Specify a YPlane named `top` that is located at `pitch / 2`.\n",
    "\n",
    "<span style=\"color:red\">Extra input is needed here</span>"
   ]
  },
  {
   "cell_type": "code",
   "execution_count": 9,
   "metadata": {},
   "outputs": [],
   "source": [
    "pitch = 1.26"
   ]
  },
  {
   "cell_type": "code",
   "execution_count": 10,
   "metadata": {},
   "outputs": [],
   "source": [
    "left = openmc.XPlane(x0=-pitch/2)\n",
    "right = openmc.XPlane(x0=pitch/2)\n",
    "bottom = openmc.YPlane(y0=-pitch/2)\n",
    "top = openmc.YPlane(y0=pitch/2)\n",
    "#TODO: specify a YPlane named \"top\" with a y0 of pitch / 2."
   ]
  },
  {
   "cell_type": "markdown",
   "metadata": {},
   "source": [
    "We also need to specify boundary conditions on the surfaces, where appropriate. We can use `reflective`, `vacuum`, or `periodic` BCs."
   ]
  },
  {
   "cell_type": "code",
   "execution_count": 11,
   "metadata": {},
   "outputs": [],
   "source": [
    "left.boundary_type = 'reflective'\n",
    "right.boundary_type = 'reflective'\n",
    "bottom.boundary_type = 'reflective'\n",
    "top.boundary_type = 'reflective'"
   ]
  },
  {
   "cell_type": "markdown",
   "metadata": {},
   "source": [
    "Next come the cells. Here we must specify what material is inside of each cell and what region of the geometry it covers.\n",
    "\n",
    "Regions are specified with Boolean logic. We use `+` and `-` to indicate which side of a surface we want (e.g. the `-` for the inside of a cylinder and `+` for the outside). We can the combine them with the operators `&, |, ~` (and, or, not). You can also use parentheses, `(, )`."
   ]
  },
  {
   "cell_type": "code",
   "execution_count": 12,
   "metadata": {},
   "outputs": [],
   "source": [
    "fuel = openmc.Cell()\n",
    "fuel.fill = uo2\n",
    "fuel.region = -fuel_or"
   ]
  },
  {
   "cell_type": "code",
   "execution_count": 13,
   "metadata": {},
   "outputs": [],
   "source": [
    "gap = openmc.Cell()\n",
    "gap.fill = None\n",
    "gap.region = +fuel_or & -clad_ir"
   ]
  },
  {
   "cell_type": "markdown",
   "metadata": {},
   "source": [
    "Try specifying a `clad` cell that contains `zirconium` and lies outside of the `clad_ir` surface and inside of the `clad_or` surface.\n",
    "\n",
    "<span style=\"color:red\">Extra input is needed here</span>"
   ]
  },
  {
   "cell_type": "code",
   "execution_count": 14,
   "metadata": {},
   "outputs": [],
   "source": [
    "clad = openmc.Cell()\n",
    "clad.fill = zirconium\n",
    "clad.region = +clad_ir & -clad_or\n",
    "#TODO: set the fill to zirconium\n",
    "#TODO: set the region to +clad_ir & -clad_or"
   ]
  },
  {
   "cell_type": "code",
   "execution_count": 15,
   "metadata": {},
   "outputs": [],
   "source": [
    "coolant = openmc.Cell()\n",
    "coolant.fill = water\n",
    "coolant.region = +clad_or & +left & -right & +bottom & -top"
   ]
  },
  {
   "cell_type": "markdown",
   "metadata": {},
   "source": [
    "A collection of cells is called a universe. This is a useful concept because we can define multi-layered geometry by using a universe as a fill, e.g. `cell.fill = univ`. We can also put universes into rectangular or hexagonal lattices for repetitive structures like fuel assemblies."
   ]
  },
  {
   "cell_type": "code",
   "execution_count": 16,
   "metadata": {},
   "outputs": [],
   "source": [
    "univ = openmc.Universe()\n",
    "univ.add_cells([fuel, gap, clad, coolant])"
   ]
  },
  {
   "cell_type": "markdown",
   "metadata": {},
   "source": [
    "You can also plot the geometry directly from Python."
   ]
  },
  {
   "cell_type": "code",
   "execution_count": 17,
   "metadata": {},
   "outputs": [
    {
     "data": {
      "text/plain": [
       "<matplotlib.image.AxesImage at 0x7f693e449128>"
      ]
     },
     "execution_count": 17,
     "metadata": {},
     "output_type": "execute_result"
    },
    {
     "data": {
      "image/png": "[encoded data removed]",
      "text/plain": [
       "<Figure size 432x288 with 1 Axes>"
      ]
     },
     "metadata": {
      "needs_background": "light"
     },
     "output_type": "display_data"
    }
   ],
   "source": [
    "univ.plot(width=(pitch, pitch))"
   ]
  },
  {
   "cell_type": "code",
   "execution_count": 18,
   "metadata": {},
   "outputs": [],
   "source": [
    "geom = openmc.Geometry(univ)\n",
    "geom.export_to_xml()"
   ]
  },
  {
   "cell_type": "markdown",
   "metadata": {},
   "source": [
    "# Starting source and settings\n",
    "\n",
    "Now come the settings. First, we will specify the initial source. Here we will just use a point source at the origin, but there are many options available here. You can specify multiple sources with different strengths and you can specify distributions for the energy and direction for each source."
   ]
  },
  {
   "cell_type": "code",
   "execution_count": 19,
   "metadata": {},
   "outputs": [],
   "source": [
    "settings = openmc.Settings()"
   ]
  },
  {
   "cell_type": "code",
   "execution_count": 20,
   "metadata": {},
   "outputs": [],
   "source": [
    "point = openmc.stats.Point((0, 0, 0))\n",
    "src = openmc.Source(space=point)\n",
    "settings.source = src"
   ]
  },
  {
   "cell_type": "markdown",
   "metadata": {},
   "source": [
    "Next, we need to specify how many batches to run, how many inactive batches, and how many particles per batch.\n",
    "\n",
    "Try setting the number of particles to 1000.\n",
    "\n",
    "<span style=\"color:red\">Extra input is needed here</span>"
   ]
  },
  {
   "cell_type": "code",
   "execution_count": 21,
   "metadata": {},
   "outputs": [],
   "source": [
    "settings.batches = 100\n",
    "settings.inactive = 10\n",
    "settings.particles = 1000\n",
    "#TODO: set the number of particles to 1000\n",
    "\n",
    "settings.export_to_xml()"
   ]
  },
  {
   "cell_type": "markdown",
   "metadata": {},
   "source": [
    "# Tallies\n",
    "\n",
    "Now for the last step: specifying tallies. Tallies will tell us information about the fluxes, currents, and reaction rates in the problem. We can use filters to discretize the tallies by cells, materials, universes, energy, spherical harmonics moments, and many other attributes."
   ]
  },
  {
   "cell_type": "code",
   "execution_count": 22,
   "metadata": {},
   "outputs": [],
   "source": [
    "cell_filter = openmc.CellFilter([fuel, clad, coolant])"
   ]
  },
  {
   "cell_type": "code",
   "execution_count": 23,
   "metadata": {},
   "outputs": [],
   "source": [
    "tally = openmc.Tally()\n",
    "tally.filters = [cell_filter]\n",
    "tally.scores = ['total', 'absorption']"
   ]
  },
  {
   "cell_type": "code",
   "execution_count": 24,
   "metadata": {},
   "outputs": [],
   "source": [
    "tallies = openmc.Tallies([tally])"
   ]
  },
  {
   "cell_type": "markdown",
   "metadata": {},
   "source": [
    "# Tallies for multigroup cross sections\n",
    "\n",
    "A feature we want you to be aware of: OpenMC has automated pre- and post-processing features for generating MGXS (multigroup cross sections).\n",
    "\n",
    "Don't worry much about the syntax here; just know to look for these features if you need them!"
   ]
  },
  {
   "cell_type": "code",
   "execution_count": 25,
   "metadata": {},
   "outputs": [],
   "source": [
    "groups = openmc.mgxs.EnergyGroups()\n",
    "groups.group_edges = [0., 0.625, 20.0e6]"
   ]
  },
  {
   "cell_type": "code",
   "execution_count": 26,
   "metadata": {},
   "outputs": [],
   "source": [
    "mgxs_lib = openmc.mgxs.Library(geom)\n",
    "mgxs_lib.energy_groups = groups\n",
    "mgxs_lib.mgxs_types = ['nu-fission', 'scatter matrix', 'chi']"
   ]
  },
  {
   "cell_type": "code",
   "execution_count": 27,
   "metadata": {},
   "outputs": [],
   "source": [
    "mgxs_lib.domain_type = 'material'\n",
    "mgxs_lib.domains = materials"
   ]
  },
  {
   "cell_type": "code",
   "execution_count": 28,
   "metadata": {},
   "outputs": [],
   "source": [
    "mgxs_lib.build_library()\n",
    "mgxs_lib.add_to_tallies_file(tallies)"
   ]
  },
  {
   "cell_type": "code",
   "execution_count": 29,
   "metadata": {},
   "outputs": [
    {
     "name": "stderr",
     "output_type": "stream",
     "text": [
      "/home/smharper/openmc/openmc/mixin.py:68: IDWarning: Another Filter instance already exists with id=29.\n",
      "  warn(msg, IDWarning)\n",
      "/home/smharper/openmc/openmc/mixin.py:68: IDWarning: Another Filter instance already exists with id=3.\n",
      "  warn(msg, IDWarning)\n",
      "/home/smharper/openmc/openmc/mixin.py:68: IDWarning: Another Filter instance already exists with id=6.\n",
      "  warn(msg, IDWarning)\n"
     ]
    }
   ],
   "source": [
    "tallies.export_to_xml()"
   ]
  },
  {
   "cell_type": "markdown",
   "metadata": {},
   "source": [
    "# Running OpenMC\n",
    "\n",
    "Okay, now we are finally ready to run the code! Here we will use the Python API's `run` function. We could instead call `openmc` (or maybe `mpiexec openmc`) from the terminal."
   ]
  },
  {
   "cell_type": "code",
   "execution_count": 30,
   "metadata": {},
   "outputs": [
    {
     "name": "stdout",
     "output_type": "stream",
     "text": [
      "                                %%%%%%%%%%%%%%%\n",
      "                           %%%%%%%%%%%%%%%%%%%%%%%%\n",
      "                        %%%%%%%%%%%%%%%%%%%%%%%%%%%%%%\n",
      "                      %%%%%%%%%%%%%%%%%%%%%%%%%%%%%%%%%%\n",
      "                    %%%%%%%%%%%%%%%%%%%%%%%%%%%%%%%%%%%%%%\n",
      "                   %%%%%%%%%%%%%%%%%%%%%%%%%%%%%%%%%%%%%%%%\n",
      "                                    %%%%%%%%%%%%%%%%%%%%%%%%\n",
      "                                     %%%%%%%%%%%%%%%%%%%%%%%%\n",
      "                 ###############      %%%%%%%%%%%%%%%%%%%%%%%%\n",
      "                ##################     %%%%%%%%%%%%%%%%%%%%%%%\n",
      "                ###################     %%%%%%%%%%%%%%%%%%%%%%%\n",
      "                ####################     %%%%%%%%%%%%%%%%%%%%%%\n",
      "                #####################     %%%%%%%%%%%%%%%%%%%%%\n",
      "                ######################     %%%%%%%%%%%%%%%%%%%%\n",
      "                #######################     %%%%%%%%%%%%%%%%%%\n",
      "                 #######################     %%%%%%%%%%%%%%%%%\n",
      "                 ######################     %%%%%%%%%%%%%%%%%\n",
      "                  ####################     %%%%%%%%%%%%%%%%%\n",
      "                    #################     %%%%%%%%%%%%%%%%%\n",
      "                     ###############     %%%%%%%%%%%%%%%%\n",
      "                       ############     %%%%%%%%%%%%%%%\n",
      "                          ########     %%%%%%%%%%%%%%\n",
      "                                      %%%%%%%%%%%\n",
      "\n",
      "                   | The OpenMC Monte Carlo Code\n",
      "         Copyright | 2011-2021 MIT and OpenMC contributors\n",
      "           License | https://docs.openmc.org/en/latest/license.html\n",
      "           Version | 0.13.0-dev\n",
      "          Git SHA1 | 34625605b36b2776b4b43061b76563e550827c7e\n",
      "         Date/Time | 2021-04-06 23:19:34\n",
      "    OpenMP Threads | 1\n",
      "\n",
      " Reading settings XML file...\n",
      " Reading cross sections XML file...\n",
      " Reading materials XML file...\n",
      " Reading geometry XML file...\n",
      " Reading U234 from /home/smharper/nuclear-data/endfb71_hdf5/U234.h5\n",
      " Reading U235 from /home/smharper/nuclear-data/endfb71_hdf5/U235.h5\n",
      " Reading U238 from /home/smharper/nuclear-data/endfb71_hdf5/U238.h5\n",
      " Reading U236 from /home/smharper/nuclear-data/endfb71_hdf5/U236.h5\n",
      " Reading O16 from /home/smharper/nuclear-data/endfb71_hdf5/O16.h5\n",
      " Reading O17 from /home/smharper/nuclear-data/endfb71_hdf5/O17.h5\n",
      " Reading Zr90 from /home/smharper/nuclear-data/endfb71_hdf5/Zr90.h5\n",
      " Reading Zr91 from /home/smharper/nuclear-data/endfb71_hdf5/Zr91.h5\n",
      " Reading Zr92 from /home/smharper/nuclear-data/endfb71_hdf5/Zr92.h5\n",
      " Reading Zr94 from /home/smharper/nuclear-data/endfb71_hdf5/Zr94.h5\n",
      " Reading Zr96 from /home/smharper/nuclear-data/endfb71_hdf5/Zr96.h5\n",
      " Reading H1 from /home/smharper/nuclear-data/endfb71_hdf5/H1.h5\n",
      " Reading H2 from /home/smharper/nuclear-data/endfb71_hdf5/H2.h5\n",
      " Reading c_H_in_H2O from /home/smharper/nuclear-data/endfb71_hdf5/c_H_in_H2O.h5\n",
      " Minimum neutron data temperature: 294.0 K\n",
      " Maximum neutron data temperature: 294.0 K\n",
      " Reading tallies XML file...\n",
      " Preparing distributed cell instances...\n",
      " Writing summary.h5 file...\n",
      " Maximum neutron transport energy: 20000000.0 eV for U235\n",
      " Initializing source particles...\n",
      "\n",
      " ====================>     K EIGENVALUE SIMULATION     <====================\n",
      "\n",
      "  Bat./Gen.      k            Average k\n",
      "  =========   ========   ====================\n",
      "        1/1    1.31996\n",
      "        2/1    1.44192\n",
      "        3/1    1.34490\n",
      "        4/1    1.46550\n",
      "        5/1    1.35391\n",
      "        6/1    1.41115\n",
      "        7/1    1.36412\n",
      "        8/1    1.35087\n",
      "        9/1    1.38391\n",
      "       10/1    1.27949\n",
      "       11/1    1.35187\n",
      "       12/1    1.27681    1.31434 +/- 0.03753\n",
      "       13/1    1.43155    1.35341 +/- 0.04468\n",
      "       14/1    1.38553    1.36144 +/- 0.03260\n",
      "       15/1    1.35501    1.36015 +/- 0.02528\n",
      "       16/1    1.44838    1.37486 +/- 0.02534\n",
      "       17/1    1.35897    1.37259 +/- 0.02154\n",
      "       18/1    1.38578    1.37424 +/- 0.01873\n",
      "       19/1    1.30137    1.36614 +/- 0.01839\n",
      "       20/1    1.28970    1.35850 +/- 0.01814\n",
      "       21/1    1.25580    1.34916 +/- 0.01888\n",
      "       22/1    1.35301    1.34948 +/- 0.01724\n",
      "       23/1    1.44244    1.35663 +/- 0.01739\n",
      "       24/1    1.34983    1.35615 +/- 0.01611\n",
      "       25/1    1.37531    1.35742 +/- 0.01505\n",
      "       26/1    1.42212    1.36147 +/- 0.01465\n",
      "       27/1    1.41116    1.36439 +/- 0.01407\n",
      "       28/1    1.41566    1.36724 +/- 0.01357\n",
      "       29/1    1.28507    1.36291 +/- 0.01354\n",
      "       30/1    1.41307    1.36542 +/- 0.01309\n",
      "       31/1    1.44964    1.36943 +/- 0.01308\n",
      "       32/1    1.34759    1.36844 +/- 0.01251\n",
      "       33/1    1.34519    1.36743 +/- 0.01200\n",
      "       34/1    1.42102    1.36966 +/- 0.01170\n",
      "       35/1    1.35697    1.36915 +/- 0.01123\n",
      "       36/1    1.38291    1.36968 +/- 0.01081\n",
      "       37/1    1.34217    1.36866 +/- 0.01045\n",
      "       38/1    1.32790    1.36721 +/- 0.01017\n",
      "       39/1    1.39184    1.36806 +/- 0.00985\n",
      "       40/1    1.38861    1.36874 +/- 0.00954\n",
      "       41/1    1.40409    1.36988 +/- 0.00930\n",
      "       42/1    1.27034    1.36677 +/- 0.00953\n",
      "       43/1    1.42167    1.36844 +/- 0.00938\n",
      "       44/1    1.43793    1.37048 +/- 0.00933\n",
      "       45/1    1.37304    1.37055 +/- 0.00906\n",
      "       46/1    1.54815    1.37549 +/- 0.01009\n",
      "       47/1    1.35224    1.37486 +/- 0.00984\n",
      "       48/1    1.40311    1.37560 +/- 0.00960\n",
      "       49/1    1.33575    1.37458 +/- 0.00941\n",
      "       50/1    1.41990    1.37571 +/- 0.00924\n",
      "       51/1    1.36522    1.37546 +/- 0.00902\n",
      "       52/1    1.43925    1.37698 +/- 0.00893\n",
      "       53/1    1.37338    1.37689 +/- 0.00872\n",
      "       54/1    1.30589    1.37528 +/- 0.00867\n",
      "       55/1    1.32695    1.37420 +/- 0.00854\n",
      "       56/1    1.37123    1.37414 +/- 0.00835\n",
      "       57/1    1.38083    1.37428 +/- 0.00818\n",
      "       58/1    1.33766    1.37352 +/- 0.00804\n",
      "       59/1    1.33561    1.37275 +/- 0.00791\n",
      "       60/1    1.39913    1.37327 +/- 0.00777\n",
      "       61/1    1.45198    1.37482 +/- 0.00777\n",
      "       62/1    1.27017    1.37280 +/- 0.00788\n",
      "       63/1    1.39028    1.37313 +/- 0.00774\n",
      "       64/1    1.25901    1.37102 +/- 0.00788\n",
      "       65/1    1.38481    1.37127 +/- 0.00774\n",
      "       66/1    1.39488    1.37169 +/- 0.00761\n",
      "       67/1    1.41280    1.37241 +/- 0.00751\n",
      "       68/1    1.35869    1.37218 +/- 0.00739\n",
      "       69/1    1.40239    1.37269 +/- 0.00728\n",
      "       70/1    1.39545    1.37307 +/- 0.00717\n",
      "       71/1    1.29332    1.37176 +/- 0.00717\n",
      "       72/1    1.30403    1.37067 +/- 0.00714\n",
      "       73/1    1.34604    1.37028 +/- 0.00703\n",
      "       74/1    1.38346    1.37048 +/- 0.00693\n",
      "       75/1    1.29923    1.36939 +/- 0.00691\n",
      "       76/1    1.33811    1.36891 +/- 0.00682\n",
      "       77/1    1.35975    1.36878 +/- 0.00672\n",
      "       78/1    1.40170    1.36926 +/- 0.00663\n",
      "       79/1    1.37284    1.36931 +/- 0.00654\n",
      "       80/1    1.37060    1.36933 +/- 0.00644\n",
      "       81/1    1.38280    1.36952 +/- 0.00635\n",
      "       82/1    1.37348    1.36958 +/- 0.00627\n",
      "       83/1    1.32869    1.36902 +/- 0.00620\n",
      "       84/1    1.47459    1.37044 +/- 0.00628\n",
      "       85/1    1.39068    1.37071 +/- 0.00621\n",
      "       86/1    1.36406    1.37062 +/- 0.00612\n",
      "       87/1    1.39529    1.37095 +/- 0.00605\n",
      "       88/1    1.38917    1.37118 +/- 0.00598\n",
      "       89/1    1.29751    1.37025 +/- 0.00598\n",
      "       90/1    1.41009    1.37074 +/- 0.00592\n",
      "       91/1    1.41869    1.37134 +/- 0.00588\n",
      "       92/1    1.40654    1.37177 +/- 0.00582\n",
      "       93/1    1.41643    1.37230 +/- 0.00578\n",
      "       94/1    1.36752    1.37225 +/- 0.00571\n",
      "       95/1    1.38544    1.37240 +/- 0.00564\n",
      "       96/1    1.32988    1.37191 +/- 0.00560\n",
      "       97/1    1.36455    1.37182 +/- 0.00553\n",
      "       98/1    1.35988    1.37169 +/- 0.00547\n",
      "       99/1    1.37054    1.37167 +/- 0.00541\n",
      "      100/1    1.29708    1.37085 +/- 0.00541\n",
      " Creating state point statepoint.100.h5...\n",
      "\n",
      " =======================>     TIMING STATISTICS     <=======================\n",
      "\n",
      " Total time for initialization     = 1.1719e+00 seconds\n",
      "   Reading cross sections          = 1.1523e+00 seconds\n",
      " Total time in simulation          = 1.5745e+01 seconds\n",
      "   Time in transport only          = 1.5722e+01 seconds\n",
      "   Time in inactive batches        = 1.1637e+00 seconds\n",
      "   Time in active batches          = 1.4582e+01 seconds\n",
      "   Time synchronizing fission bank = 6.1219e-03 seconds\n",
      "     Sampling source sites         = 5.0043e-03 seconds\n",
      "     SEND/RECV source sites        = 1.0720e-03 seconds\n",
      "   Time accumulating tallies       = 1.3248e-03 seconds\n",
      "   Time writing statepoints        = 1.0152e-02 seconds\n",
      " Total time for finalization       = 3.1048e-04 seconds\n",
      " Total time elapsed                = 1.6929e+01 seconds\n",
      " Calculation Rate (inactive)       = 8593.01 particles/second\n",
      " Calculation Rate (active)         = 6172.20 particles/second\n",
      "\n",
      " ============================>     RESULTS     <============================\n",
      "\n",
      " k-effective (Collision)     = 1.37334 +/- 0.00477\n",
      " k-effective (Track-length)  = 1.37085 +/- 0.00541\n",
      " k-effective (Absorption)    = 1.37958 +/- 0.00312\n",
      " Combined k-effective        = 1.37831 +/- 0.00312\n",
      " Leakage Fraction            = 0.00000 +/- 0.00000\n",
      "\n"
     ]
    }
   ],
   "source": [
    "openmc.run()"
   ]
  },
  {
   "cell_type": "markdown",
   "metadata": {},
   "source": [
    "We can see the eigenvalue from the output above. The more interesting output data---the tally results---are stored in an HDF5 statepoint file. We'll talk about how to analyze that in the next section of the workshop.\n",
    "\n",
    "But for simple datasets we can also use the `tallies.out` text file that is automatically written by the code. Here's what that looks like:"
   ]
  },
  {
   "cell_type": "code",
   "execution_count": 31,
   "metadata": {},
   "outputs": [
    {
     "name": "stdout",
     "output_type": "stream",
     "text": [
      " ============================>     TALLY 1     <============================\n",
      "\n",
      " Cell 1\n",
      "   Total Material\n",
      "     Total Reaction Rate                  6.15083 +/- 0.00998921\n",
      "     Absorption Rate                      0.9412 +/- 0.00312478\n",
      " Cell 3\n",
      "   Total Material\n",
      "     Total Reaction Rate                  1.47180 +/- 0.00243029\n",
      "     Absorption Rate                      0.00979174 +/- 8.31879e-05\n",
      " Cell 4\n",
      "   Total Material\n",
      "     Total Reaction Rate                  22.1229 +/- 0.0459207\n",
      "     Absorption Rate                      0.0477804 +/- 0.000225718\n",
      " ===========================>     TALLY 24     <============================\n",
      "\n",
      " Material 1\n",
      "   Incoming Energy [0.0, 0.625)\n",
      "     Total Material\n",
      "       Flux                                 1.86255 +/- 0.00774245\n",
      "       Nu-Fission Rate                      1.10929 +/- 0.00529943\n",
      "   Incoming Energy [0.625, 20000000.0)\n",
      "     Total Material\n",
      "       Flux                                 11.9268 +/- 0.0230175\n",
      "       Nu-Fission Rate                      0.261558 +/- 0.000777324\n",
      " Material 2\n",
      "   Incoming Energy [0.0, 0.625)\n",
      "     Total Material\n",
      "       Flux                                 0.680866 +/- 0.00291625\n",
      "       Nu-Fission Rate                      0.00000 +/- 0.00000\n",
      "   Incoming Energy [0.625, 20000000.0)\n",
      "     Total Material\n",
      "       Flux                                 4.00656 +/- 0.00744457\n",
      "       Nu-Fission Rate                      0.00000 +/- 0.00000\n",
      " Material 3\n",
      "   Incoming Energy [0.0, 0.625)\n",
      "     Total Material\n",
      "       Flux                                 4.11021 +/- 0.0189635\n",
      "       Nu-Fission Rate                      0.00000 +/- 0.00000\n",
      "   Incoming Energy [0.625, 20000000.0)\n",
      "     Total Material\n",
      "       Flux                                 22.5790 +/- 0.0398708\n",
      "       Nu-Fission Rate                      0.00000 +/- 0.00000\n",
      " ===========================>     TALLY 27     <============================\n",
      "\n",
      " Material 1\n",
      "   Incoming Energy [0.0, 0.625)\n",
      "     Total Material\n",
      "       Flux                                 1.86431 +/- 0.00771321\n",
      "   Incoming Energy [0.625, 20000000.0)\n",
      "     Total Material\n",
      "       Flux                                 11.9515 +/- 0.0279309\n",
      " Material 2\n",
      "   Incoming Energy [0.0, 0.625)\n",
      "     Total Material\n",
      "       Flux                                 0.683743 +/- 0.00537444\n",
      "   Incoming Energy [0.625, 20000000.0)\n",
      "     Total Material\n",
      "       Flux                                 4.00105 +/- 0.0150923\n",
      " Material 3\n",
      "   Incoming Energy [0.0, 0.625)\n",
      "     Total Material\n",
      "       Flux                                 4.11195 +/- 0.0204057\n",
      "   Incoming Energy [0.625, 20000000.0)\n",
      "     Total Material\n",
      "       Flux                                 22.5519 +/- 0.0354033\n",
      " ===========================>     TALLY 28     <============================\n",
      "\n",
      " Material 1\n",
      "   Incoming Energy [0.0, 0.625)\n",
      "     Outgoing Energy [0.0, 0.625)\n",
      "       Legendre expansion, P0\n",
      "         Total Material\n",
      "           Scattering Rate                      0.715156 +/- 0.00439751\n",
      "       Legendre expansion, P1\n",
      "         Total Material\n",
      "           Scattering Rate                      0.0132512 +/- 0.00165937\n",
      "     Outgoing Energy [0.625, 20000000.0)\n",
      "       Legendre expansion, P0\n",
      "         Total Material\n",
      "           Scattering Rate                      0.000833333 +/- 8.97354e-05\n",
      "       Legendre expansion, P1\n",
      "         Total Material\n",
      "           Scattering Rate                      9.49818e-05 +/- 5.36016e-05\n",
      "   Incoming Energy [0.625, 20000000.0)\n",
      "     Outgoing Energy [0.0, 0.625)\n",
      "       Legendre expansion, P0\n",
      "         Total Material\n",
      "           Scattering Rate                      0.00927778 +/- 0.00031525\n",
      "       Legendre expansion, P1\n",
      "         Total Material\n",
      "           Scattering Rate                      -0.00266132 +/- 0.000182135\n",
      "     Outgoing Energy [0.625, 20000000.0)\n",
      "       Legendre expansion, P0\n",
      "         Total Material\n",
      "           Scattering Rate                      4.49050 +/- 0.0103585\n",
      "       Legendre expansion, P1\n",
      "         Total Material\n",
      "           Scattering Rate                      0.512752 +/- 0.00509805\n",
      " Material 2\n",
      "   Incoming Energy [0.0, 0.625)\n",
      "     Outgoing Energy [0.0, 0.625)\n",
      "       Legendre expansion, P0\n",
      "         Total Material\n",
      "           Scattering Rate                      0.203456 +/- 0.00154961\n",
      "       Legendre expansion, P1\n",
      "         Total Material\n",
      "           Scattering Rate                      0.00138696 +/- 0.00075913\n",
      "     Outgoing Energy [0.625, 20000000.0)\n",
      "       Legendre expansion, P0\n",
      "         Total Material\n",
      "           Scattering Rate                      0.000311111 +/- 6.04693e-05\n",
      "       Legendre expansion, P1\n",
      "         Total Material\n",
      "           Scattering Rate                      -4.93463e-05 +/- 3.33917e-05\n",
      "   Incoming Energy [0.625, 20000000.0)\n",
      "     Outgoing Energy [0.0, 0.625)\n",
      "       Legendre expansion, P0\n",
      "         Total Material\n",
      "           Scattering Rate                      0.000844444 +/- 8.92626e-05\n",
      "       Legendre expansion, P1\n",
      "         Total Material\n",
      "           Scattering Rate                      -0.000218244 +/- 5.75257e-05\n",
      "     Outgoing Energy [0.625, 20000000.0)\n",
      "       Legendre expansion, P0\n",
      "         Total Material\n",
      "           Scattering Rate                      1.25731 +/- 0.00470948\n",
      "       Legendre expansion, P1\n",
      "         Total Material\n",
      "           Scattering Rate                      0.183299 +/- 0.0022747\n",
      " Material 3\n",
      "   Incoming Energy [0.0, 0.625)\n",
      "     Outgoing Energy [0.0, 0.625)\n",
      "       Legendre expansion, P0\n",
      "         Total Material\n",
      "           Scattering Rate                      7.72200 +/- 0.0408042\n",
      "       Legendre expansion, P1\n",
      "         Total Material\n",
      "           Scattering Rate                      2.02370 +/- 0.0116698\n",
      "     Outgoing Energy [0.625, 20000000.0)\n",
      "       Legendre expansion, P0\n",
      "         Total Material\n",
      "           Scattering Rate                      0.00196667 +/- 0.000137255\n",
      "       Legendre expansion, P1\n",
      "         Total Material\n",
      "           Scattering Rate                      0.00132342 +/- 9.83424e-05\n",
      "   Incoming Energy [0.625, 20000000.0)\n",
      "     Outgoing Energy [0.0, 0.625)\n",
      "       Legendre expansion, P0\n",
      "         Total Material\n",
      "           Scattering Rate                      0.643611 +/- 0.0016139\n",
      "       Legendre expansion, P1\n",
      "         Total Material\n",
      "           Scattering Rate                      0.196736 +/- 0.00105177\n",
      "     Outgoing Energy [0.625, 20000000.0)\n",
      "       Legendre expansion, P0\n",
      "         Total Material\n",
      "           Scattering Rate                      13.7065 +/- 0.0172737\n",
      "       Legendre expansion, P1\n",
      "         Total Material\n",
      "           Scattering Rate                      8.20273 +/- 0.0120391\n",
      " ===========================>     TALLY 31     <============================\n",
      "\n",
      " Material 1\n",
      "   Incoming Energy [0.0, 20000000.0)\n",
      "     Total Material\n",
      "       Nu-Fission Rate                      1.38055 +/- 0.00382073\n",
      " Material 2\n",
      "   Incoming Energy [0.0, 20000000.0)\n",
      "     Total Material\n",
      "       Nu-Fission Rate                      0.00000 +/- 0.00000\n",
      " Material 3\n",
      "   Incoming Energy [0.0, 20000000.0)\n",
      "     Total Material\n",
      "       Nu-Fission Rate                      0.00000 +/- 0.00000\n",
      " ===========================>     TALLY 32     <============================\n",
      "\n",
      " Material 1\n",
      "   Outgoing Energy [0.0, 0.625)\n",
      "     Total Material\n",
      "       Nu-Fission Rate                      0.00000 +/- 0.00000\n",
      "   Outgoing Energy [0.625, 20000000.0)\n",
      "     Total Material\n",
      "       Nu-Fission Rate                      1.38055 +/- 0.00382073\n",
      " Material 2\n",
      "   Outgoing Energy [0.0, 0.625)\n",
      "     Total Material\n",
      "       Nu-Fission Rate                      0.00000 +/- 0.00000\n",
      "   Outgoing Energy [0.625, 20000000.0)\n",
      "     Total Material\n",
      "       Nu-Fission Rate                      0.00000 +/- 0.00000\n",
      " Material 3\n",
      "   Outgoing Energy [0.0, 0.625)\n",
      "     Total Material\n",
      "       Nu-Fission Rate                      0.00000 +/- 0.00000\n",
      "   Outgoing Energy [0.625, 20000000.0)\n",
      "     Total Material\n",
      "       Nu-Fission Rate                      0.00000 +/- 0.00000\n"
     ]
    }
   ],
   "source": [
    "!cat tallies.out"
   ]
  },
  {
   "cell_type": "code",
   "execution_count": null,
   "metadata": {},
   "outputs": [],
   "source": []
  }
 ],
 "metadata": {
  "kernelspec": {
   "display_name": "Python 3",
   "language": "python",
   "name": "python3"
  },
  "language_info": {
   "codemirror_mode": {
    "name": "ipython",
    "version": 3
   },
   "file_extension": ".py",
   "mimetype": "text/x-python",
   "name": "python",
   "nbconvert_exporter": "python",
   "pygments_lexer": "ipython3",
   "version": "3.6.9"
  }
 },
 "nbformat": 4,
 "nbformat_minor": 4
}
