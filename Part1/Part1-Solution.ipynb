{
 "cells": [
  {
   "cell_type": "code",
   "execution_count": 1,
   "metadata": {},
   "outputs": [
    {
     "name": "stdout",
     "output_type": "stream",
     "text": [
      "0.13.0\n"
     ]
    }
   ],
   "source": [
    "import openmc\n",
    "print(openmc.__version__)"
   ]
  },
  {
   "cell_type": "markdown",
   "metadata": {},
   "source": [
    "In this segment, we will go through the basic features of the Python API for constructing input files and running OpenMC. We highly recommend having a copy of the [Python API reference documentation](http://openmc.readthedocs.org/en/latest/pythonapi/index.html) open in another browser tab that you can refer to. Also remember that within a notebook, you can press `Shift+Tab` with the cursor placed over a function, class, or method to see its documentation."
   ]
  },
  {
   "cell_type": "markdown",
   "metadata": {},
   "source": [
    "## Defining Materials\n",
    "\n",
    "We need to define the materials in the simulation.  Let's start with UO2.  Notice the difference between `add_nuclide` and `add_element`."
   ]
  },
  {
   "cell_type": "code",
   "execution_count": 2,
   "metadata": {},
   "outputs": [],
   "source": [
    "uo2 = openmc.Material()"
   ]
  },
  {
   "cell_type": "code",
   "execution_count": 3,
   "metadata": {},
   "outputs": [],
   "source": [
    "uo2.add_nuclide('U235', 0.03)\n",
    "uo2.add_nuclide('U238', 0.97)\n",
    "uo2.add_element('O', 2.0)\n",
    "uo2.set_density('g/cm3', 10.0)"
   ]
  },
  {
   "cell_type": "markdown",
   "metadata": {},
   "source": [
    "Now, let's define the zirconium and water materials.  To get accurate results with water in a thermal reactor, we need $S(\\alpha, \\beta)$ scattering tables."
   ]
  },
  {
   "cell_type": "code",
   "execution_count": 4,
   "metadata": {},
   "outputs": [],
   "source": [
    "zirconium = openmc.Material()\n",
    "zirconium.add_element('Zr', 1.0)\n",
    "zirconium.set_density('g/cm3', 6.6)\n",
    "\n",
    "water = openmc.Material()\n",
    "water.add_element('H', 2.0)\n",
    "water.add_element('O', 1.0)\n",
    "water.set_density('g/cm3', 0.7)"
   ]
  },
  {
   "cell_type": "code",
   "execution_count": 5,
   "metadata": {},
   "outputs": [],
   "source": [
    "water.add_s_alpha_beta('c_H_in_H2O')"
   ]
  },
  {
   "cell_type": "markdown",
   "metadata": {},
   "source": [
    "OpenMC needs **cross section libraries** to run. If one is specified in the materials XML file, OpenMC will use that for your simulation. If you do not, but have an environment variable `$OPENMC_CROSS_SECTIONS` set, OpenMC will default to that at runtime.\n",
    "\n",
    "It is often better to set the particular cross section library you want to use. "
   ]
  },
  {
   "cell_type": "code",
   "execution_count": 6,
   "metadata": {},
   "outputs": [],
   "source": [
    "jeff33  = \"/projects/openmc/data/jeff33_hdf5/cross_sections.xml\"\n",
    "endfb71 = \"/projects/openmc/data/endfb71_hdf5/cross_sections.xml\"\n",
    "endfb80 = \"/projects/openmc/data/endfb80_hdf5/cross_sections.xml\"\n",
    "xs = endfb80  # ENDF/B-VIII.0 is a good one."
   ]
  },
  {
   "cell_type": "markdown",
   "metadata": {},
   "source": [
    "To actually create a materials.xml file, we need to instantiate a `Materials` collection and register our materials with it."
   ]
  },
  {
   "cell_type": "code",
   "execution_count": 7,
   "metadata": {},
   "outputs": [
    {
     "name": "stdout",
     "output_type": "stream",
     "text": [
      "<?xml version='1.0' encoding='utf-8'?>\r\n",
      "<materials>\r\n",
      "  <cross_sections>/projects/openmc/data/endfb80_hdf5/cross_sections.xml</cross_sections>\r\n",
      "  <material depletable=\"true\" id=\"1\">\r\n",
      "    <density units=\"g/cm3\" value=\"10.0\" />\r\n",
      "    <nuclide ao=\"0.03\" name=\"U235\" />\r\n",
      "    <nuclide ao=\"0.97\" name=\"U238\" />\r\n",
      "    <nuclide ao=\"0.0040008\" name=\"O18\" />\r\n",
      "    <nuclide ao=\"1.9952412\" name=\"O16\" />\r\n",
      "    <nuclide ao=\"0.000758\" name=\"O17\" />\r\n",
      "  </material>\r\n",
      "  <material id=\"2\">\r\n",
      "    <density units=\"g/cm3\" value=\"6.6\" />\r\n",
      "    <nuclide ao=\"0.5145\" name=\"Zr90\" />\r\n",
      "    <nuclide ao=\"0.1122\" name=\"Zr91\" />\r\n",
      "    <nuclide ao=\"0.1715\" name=\"Zr92\" />\r\n",
      "    <nuclide ao=\"0.028\" name=\"Zr96\" />\r\n",
      "    <nuclide ao=\"0.1738\" name=\"Zr94\" />\r\n",
      "  </material>\r\n",
      "  <material id=\"3\">\r\n",
      "    <density units=\"g/cm3\" value=\"0.7\" />\r\n",
      "    <nuclide ao=\"0.00031148\" name=\"H2\" />\r\n",
      "    <nuclide ao=\"1.99968852\" name=\"H1\" />\r\n",
      "    <nuclide ao=\"0.0020004\" name=\"O18\" />\r\n",
      "    <nuclide ao=\"0.9976206\" name=\"O16\" />\r\n",
      "    <nuclide ao=\"0.000379\" name=\"O17\" />\r\n",
      "    <sab name=\"c_H_in_H2O\" />\r\n",
      "  </material>\r\n",
      "</materials>\r\n"
     ]
    }
   ],
   "source": [
    "mf = openmc.Materials((uo2, zirconium, water))\n",
    "mf.cross_sections = xs\n",
    "mf.export_to_xml()\n",
    "!cat materials.xml"
   ]
  },
  {
   "cell_type": "markdown",
   "metadata": {},
   "source": [
    "## Defining Geometry and Assigning Materials\n",
    "\n",
    "We start by defining the cylindrical and planar surfaces that we need to create the model."
   ]
  },
  {
   "cell_type": "code",
   "execution_count": 8,
   "metadata": {},
   "outputs": [],
   "source": [
    "fuel_or = openmc.ZCylinder(r=0.39)\n",
    "clad_ir = openmc.ZCylinder(r=0.40)\n",
    "clad_or = openmc.ZCylinder(r=0.46)\n",
    "\n",
    "pitch = 1.26\n",
    "left = openmc.XPlane(x0=-pitch/2, boundary_type='reflective')\n",
    "right = openmc.XPlane(x0=pitch/2, boundary_type='reflective')\n",
    "bottom = openmc.YPlane(y0=-pitch/2, boundary_type='reflective')\n",
    "top = openmc.YPlane(y0=pitch/2, boundary_type='reflective')"
   ]
  },
  {
   "cell_type": "markdown",
   "metadata": {},
   "source": [
    "With the surfaces created, we can now take advantage of the built-in operators on surfaces to create regions. The unary `-` and `+` operators correspond to the negative and positive half-spaces of a surface respectively. These half-spaces can then be combined using `&` (intersection), `|` (union), and `~` (complement)."
   ]
  },
  {
   "cell_type": "code",
   "execution_count": 9,
   "metadata": {},
   "outputs": [],
   "source": [
    "fuel_region = -fuel_or\n",
    "gap_region = +fuel_or & -clad_ir\n",
    "clad_region = +clad_ir & -clad_or\n",
    "water_region = +left & -right & +bottom & -top & +clad_or"
   ]
  },
  {
   "cell_type": "markdown",
   "metadata": {},
   "source": [
    "Each cell that we create has to a physical region and an assigned fill (material, universe, or lattice) which is placed in the region."
   ]
  },
  {
   "cell_type": "code",
   "execution_count": 10,
   "metadata": {},
   "outputs": [],
   "source": [
    "fuel = openmc.Cell()\n",
    "fuel.fill = uo2\n",
    "fuel.region = fuel_region\n",
    "\n",
    "gap = openmc.Cell()\n",
    "gap.fill = None\n",
    "gap.region = gap_region\n",
    "\n",
    "clad = openmc.Cell()\n",
    "clad.fill = zirconium\n",
    "clad.region = clad_region\n",
    "\n",
    "moderator = openmc.Cell()\n",
    "moderator.fill = water\n",
    "moderator.region = water_region"
   ]
  },
  {
   "cell_type": "markdown",
   "metadata": {},
   "source": [
    "Finally, there is some boilerplate code that we need to assign the cells we created to a universe and tell OpenMC that this universe is the \"root\" universe."
   ]
  },
  {
   "cell_type": "code",
   "execution_count": 11,
   "metadata": {},
   "outputs": [
    {
     "name": "stdout",
     "output_type": "stream",
     "text": [
      "<?xml version='1.0' encoding='utf-8'?>\r\n",
      "<geometry>\r\n",
      "  <cell id=\"1\" material=\"1\" region=\"-1\" universe=\"1\" />\r\n",
      "  <cell id=\"2\" material=\"void\" region=\"1 -2\" universe=\"1\" />\r\n",
      "  <cell id=\"3\" material=\"2\" region=\"2 -3\" universe=\"1\" />\r\n",
      "  <cell id=\"4\" material=\"3\" region=\"4 -5 6 -7 3\" universe=\"1\" />\r\n",
      "  <surface coeffs=\"0.0 0.0 0.39\" id=\"1\" type=\"z-cylinder\" />\r\n",
      "  <surface coeffs=\"0.0 0.0 0.4\" id=\"2\" type=\"z-cylinder\" />\r\n",
      "  <surface coeffs=\"0.0 0.0 0.46\" id=\"3\" type=\"z-cylinder\" />\r\n",
      "  <surface boundary=\"reflective\" coeffs=\"-0.63\" id=\"4\" type=\"x-plane\" />\r\n",
      "  <surface boundary=\"reflective\" coeffs=\"0.63\" id=\"5\" type=\"x-plane\" />\r\n",
      "  <surface boundary=\"reflective\" coeffs=\"-0.63\" id=\"6\" type=\"y-plane\" />\r\n",
      "  <surface boundary=\"reflective\" coeffs=\"0.63\" id=\"7\" type=\"y-plane\" />\r\n",
      "</geometry>\r\n"
     ]
    }
   ],
   "source": [
    "root = openmc.Universe()\n",
    "root.add_cells((fuel, gap, clad, moderator))\n",
    "\n",
    "g = openmc.Geometry()\n",
    "g.root_universe = root\n",
    "g.export_to_xml()\n",
    "!cat geometry.xml"
   ]
  },
  {
   "cell_type": "markdown",
   "metadata": {},
   "source": [
    "## Geometry plotting\n",
    "\n",
    "With materials and geometry defined, we can now make a plot of our problem. To create a plot, we simply need to specify the origin and the number of pixels in each direction. By default, the plot will be a \"slice\" plot which cuts through the geometry. For our case here, we specify that we want the plot to be colored by material (rather than by cell) and we specify the colors to use."
   ]
  },
  {
   "cell_type": "code",
   "execution_count": 12,
   "metadata": {},
   "outputs": [],
   "source": [
    "p = openmc.Plot()"
   ]
  },
  {
   "cell_type": "code",
   "execution_count": 13,
   "metadata": {},
   "outputs": [],
   "source": [
    "p.width = [pitch, pitch]\n",
    "p.pixels = [400, 400]\n",
    "p.color_by = 'material'\n",
    "p.colors = {uo2:'salmon', water:'cyan', zirconium:'gray'}"
   ]
  },
  {
   "cell_type": "markdown",
   "metadata": {},
   "source": [
    "The usual way plots are handled in OpenMC is the following:  Make an `openmc.Plots` object containing the relevant `openmc.Plot` objects.  Call the `openmc.Plots.export_to_xml()` method.  Then call `openmc.plot_geometry`.  That will activate the Fortran plotting module which will then output .ppm plot files.  You can use a utility like `convert` to change the .ppm to .png.\n",
    "\n",
    "In a Jupyter notebook, you can automate all that with `openmc.plot_inline`."
   ]
  },
  {
   "cell_type": "code",
   "execution_count": 14,
   "metadata": {},
   "outputs": [
    {
     "data": {
      "image/png": "[encoded data removed]",
      "text/plain": [
       "<IPython.core.display.Image object>"
      ]
     },
     "metadata": {},
     "output_type": "display_data"
    }
   ],
   "source": [
    "openmc.plot_inline(p)"
   ]
  },
  {
   "cell_type": "markdown",
   "metadata": {},
   "source": [
    "## Starting source and settings\n",
    "\n",
    "The Python API has a module ``openmc.stats`` with various univariate and multivariate probability distributions. We can use these distributions to create a starting source using the ``openmc.Source`` object."
   ]
  },
  {
   "cell_type": "code",
   "execution_count": 15,
   "metadata": {},
   "outputs": [],
   "source": [
    "point = openmc.stats.Point((0, 0, 0))\n",
    "src = openmc.Source(space=point)"
   ]
  },
  {
   "cell_type": "markdown",
   "metadata": {},
   "source": [
    "Now let's create a `Settings` object and give it the source we created along with specifying how many batches and particles we want to run."
   ]
  },
  {
   "cell_type": "code",
   "execution_count": 16,
   "metadata": {},
   "outputs": [],
   "source": [
    "settings = openmc.Settings()"
   ]
  },
  {
   "cell_type": "code",
   "execution_count": 17,
   "metadata": {},
   "outputs": [],
   "source": [
    "settings.source = src\n",
    "settings.batches = 100\n",
    "settings.inactive = 10\n",
    "settings.particles = 1000"
   ]
  },
  {
   "cell_type": "code",
   "execution_count": 18,
   "metadata": {},
   "outputs": [
    {
     "name": "stdout",
     "output_type": "stream",
     "text": [
      "<?xml version='1.0' encoding='utf-8'?>\r\n",
      "<settings>\r\n",
      "  <run_mode>eigenvalue</run_mode>\r\n",
      "  <particles>1000</particles>\r\n",
      "  <batches>100</batches>\r\n",
      "  <inactive>10</inactive>\r\n",
      "  <source strength=\"1.0\">\r\n",
      "    <space type=\"point\">\r\n",
      "      <parameters>0 0 0</parameters>\r\n",
      "    </space>\r\n",
      "  </source>\r\n",
      "</settings>\r\n"
     ]
    }
   ],
   "source": [
    "settings.export_to_xml()\n",
    "!cat settings.xml"
   ]
  },
  {
   "cell_type": "markdown",
   "metadata": {},
   "source": [
    "## User-defined tallies\n",
    "\n",
    "To give a quick example of how to create tallies, we will show how one would tally the total, fission, absorption, and (n,$\\gamma$) reaction rates for $^{235}$U in the cell containing fuel."
   ]
  },
  {
   "cell_type": "code",
   "execution_count": 19,
   "metadata": {},
   "outputs": [],
   "source": [
    "t = openmc.Tally(name='fuel tally')"
   ]
  },
  {
   "cell_type": "code",
   "execution_count": 20,
   "metadata": {},
   "outputs": [],
   "source": [
    "cell_filter = openmc.CellFilter(fuel.id)\n",
    "t.filters = [cell_filter]\n",
    "\n",
    "t.nuclides = ['U235']\n",
    "t.scores = ['total', 'fission', 'absorption', '(n,gamma)']"
   ]
  },
  {
   "cell_type": "markdown",
   "metadata": {},
   "source": [
    "Similar to the other files, we need to create a `Tallies` collection, register our tally, and then export it to XML."
   ]
  },
  {
   "cell_type": "code",
   "execution_count": 21,
   "metadata": {},
   "outputs": [
    {
     "name": "stdout",
     "output_type": "stream",
     "text": [
      "<?xml version='1.0' encoding='utf-8'?>\r\n",
      "<tallies>\r\n",
      "  <filter id=\"1\" type=\"cell\">\r\n",
      "    <bins>1</bins>\r\n",
      "  </filter>\r\n",
      "  <tally id=\"1\" name=\"fuel tally\">\r\n",
      "    <filters>1</filters>\r\n",
      "    <nuclides>U235</nuclides>\r\n",
      "    <scores>total fission absorption (n,gamma)</scores>\r\n",
      "  </tally>\r\n",
      "</tallies>\r\n"
     ]
    }
   ],
   "source": [
    "tallies = openmc.Tallies([t])\n",
    "tallies.export_to_xml()\n",
    "!cat tallies.xml"
   ]
  },
  {
   "cell_type": "markdown",
   "metadata": {},
   "source": [
    "## Running OpenMC\n",
    "\n",
    "Running OpenMC from Python can be done using the `openmc.run()` function. This function allows you to set the number of MPI processes and OpenMP threads, if need be."
   ]
  },
  {
   "cell_type": "code",
   "execution_count": 22,
   "metadata": {
    "scrolled": false
   },
   "outputs": [
    {
     "name": "stdout",
     "output_type": "stream",
     "text": [
      "                                %%%%%%%%%%%%%%%\n",
      "                           %%%%%%%%%%%%%%%%%%%%%%%%\n",
      "                        %%%%%%%%%%%%%%%%%%%%%%%%%%%%%%\n",
      "                      %%%%%%%%%%%%%%%%%%%%%%%%%%%%%%%%%%\n",
      "                    %%%%%%%%%%%%%%%%%%%%%%%%%%%%%%%%%%%%%%\n",
      "                   %%%%%%%%%%%%%%%%%%%%%%%%%%%%%%%%%%%%%%%%\n",
      "                                    %%%%%%%%%%%%%%%%%%%%%%%%\n",
      "                                     %%%%%%%%%%%%%%%%%%%%%%%%\n",
      "                 ###############      %%%%%%%%%%%%%%%%%%%%%%%%\n",
      "                ##################     %%%%%%%%%%%%%%%%%%%%%%%\n",
      "                ###################     %%%%%%%%%%%%%%%%%%%%%%%\n",
      "                ####################     %%%%%%%%%%%%%%%%%%%%%%\n",
      "                #####################     %%%%%%%%%%%%%%%%%%%%%\n",
      "                ######################     %%%%%%%%%%%%%%%%%%%%\n",
      "                #######################     %%%%%%%%%%%%%%%%%%\n",
      "                 #######################     %%%%%%%%%%%%%%%%%\n",
      "                 ######################     %%%%%%%%%%%%%%%%%\n",
      "                  ####################     %%%%%%%%%%%%%%%%%\n",
      "                    #################     %%%%%%%%%%%%%%%%%\n",
      "                     ###############     %%%%%%%%%%%%%%%%\n",
      "                       ############     %%%%%%%%%%%%%%%\n",
      "                          ########     %%%%%%%%%%%%%%\n",
      "                                      %%%%%%%%%%%\n",
      "\n",
      "                 | The OpenMC Monte Carlo Code\n",
      "       Copyright | 2011-2022 MIT, UChicago Argonne LLC, and contributors\n",
      "         License | https://docs.openmc.org/en/latest/license.html\n",
      "         Version | 0.13.0\n",
      "        Git SHA1 | 926cb818dc80533c95d0c46f0fc4261efe784179\n",
      "       Date/Time | 2022-06-08 15:51:45\n",
      "   MPI Processes | 1\n",
      "  OpenMP Threads | 1\n",
      "\n",
      " Reading settings XML file...\n",
      " Reading cross sections XML file...\n",
      " Reading materials XML file...\n",
      " Reading geometry XML file...\n",
      " Reading U235 from /projects/openmc/data/endfb80_hdf5/U235.h5\n",
      " Reading U238 from /projects/openmc/data/endfb80_hdf5/U238.h5\n",
      " Reading O18 from /projects/openmc/data/endfb80_hdf5/O18.h5\n",
      " Reading O16 from /projects/openmc/data/endfb80_hdf5/O16.h5\n",
      " Reading O17 from /projects/openmc/data/endfb80_hdf5/O17.h5\n",
      " Reading Zr90 from /projects/openmc/data/endfb80_hdf5/Zr90.h5\n",
      " Reading Zr91 from /projects/openmc/data/endfb80_hdf5/Zr91.h5\n",
      " Reading Zr92 from /projects/openmc/data/endfb80_hdf5/Zr92.h5\n",
      " Reading Zr96 from /projects/openmc/data/endfb80_hdf5/Zr96.h5\n",
      " WARNING: Negative value(s) found on probability table for nuclide Zr96 at 294K\n",
      " Reading Zr94 from /projects/openmc/data/endfb80_hdf5/Zr94.h5\n",
      " Reading H2 from /projects/openmc/data/endfb80_hdf5/H2.h5\n",
      " Reading H1 from /projects/openmc/data/endfb80_hdf5/H1.h5\n",
      " Reading c_H_in_H2O from /projects/openmc/data/endfb80_hdf5/c_H_in_H2O.h5\n",
      " Minimum neutron data temperature: 294 K\n",
      " Maximum neutron data temperature: 294 K\n",
      " Reading tallies XML file...\n",
      " Preparing distributed cell instances...\n",
      " Reading plot XML file...\n",
      " Writing summary.h5 file...\n",
      " Maximum neutron transport energy: 20000000 eV for O18\n",
      " Initializing source particles...\n",
      "\n",
      " ====================>     K EIGENVALUE SIMULATION     <====================\n",
      "\n",
      "  Bat./Gen.      k            Average k\n",
      "  =========   ========   ====================\n",
      "        1/1    1.35659\n",
      "        2/1    1.43968\n",
      "        3/1    1.48758\n",
      "        4/1    1.36225\n",
      "        5/1    1.28431\n",
      "        6/1    1.37158\n",
      "        7/1    1.41950\n",
      "        8/1    1.33665\n",
      "        9/1    1.35705\n",
      "       10/1    1.34249\n",
      "       11/1    1.35557\n",
      "       12/1    1.40114    1.37836 +/- 0.02279\n",
      "       13/1    1.47696    1.41122 +/- 0.03540\n",
      "       14/1    1.32604    1.38993 +/- 0.03287\n",
      "       15/1    1.41802    1.39555 +/- 0.02607\n",
      "       16/1    1.37958    1.39288 +/- 0.02145\n",
      "       17/1    1.34726    1.38637 +/- 0.01927\n",
      "       18/1    1.37951    1.38551 +/- 0.01671\n",
      "       19/1    1.32965    1.37930 +/- 0.01599\n",
      "       20/1    1.33044    1.37442 +/- 0.01511\n",
      "       21/1    1.41596    1.37819 +/- 0.01418\n",
      "       22/1    1.36996    1.37751 +/- 0.01296\n",
      "       23/1    1.44554    1.38274 +/- 0.01302\n",
      "       24/1    1.46089    1.38832 +/- 0.01329\n",
      "       25/1    1.34052    1.38514 +/- 0.01277\n",
      "       26/1    1.31959    1.38104 +/- 0.01263\n",
      "       27/1    1.38543    1.38130 +/- 0.01187\n",
      "       28/1    1.31072    1.37738 +/- 0.01186\n",
      "       29/1    1.33805    1.37531 +/- 0.01140\n",
      "       30/1    1.40685    1.37688 +/- 0.01093\n",
      "       31/1    1.41355    1.37863 +/- 0.01054\n",
      "       32/1    1.31029    1.37552 +/- 0.01052\n",
      "       33/1    1.38859    1.37609 +/- 0.01007\n",
      "       34/1    1.35279    1.37512 +/- 0.00969\n",
      "       35/1    1.33775    1.37363 +/- 0.00941\n",
      "       36/1    1.36181    1.37317 +/- 0.00906\n",
      "       37/1    1.41689    1.37479 +/- 0.00886\n",
      "       38/1    1.30341    1.37224 +/- 0.00891\n",
      "       39/1    1.32555    1.37063 +/- 0.00875\n",
      "       40/1    1.29787    1.36821 +/- 0.00879\n",
      "       41/1    1.43442    1.37034 +/- 0.00877\n",
      "       42/1    1.40963    1.37157 +/- 0.00858\n",
      "       43/1    1.39799    1.37237 +/- 0.00835\n",
      "       44/1    1.27945    1.36964 +/- 0.00855\n",
      "       45/1    1.38727    1.37014 +/- 0.00832\n",
      "       46/1    1.27588    1.36752 +/- 0.00850\n",
      "       47/1    1.39951    1.36839 +/- 0.00831\n",
      "       48/1    1.33799    1.36759 +/- 0.00813\n",
      "       49/1    1.41652    1.36884 +/- 0.00802\n",
      "       50/1    1.34427    1.36823 +/- 0.00784\n",
      "       51/1    1.40217    1.36906 +/- 0.00769\n",
      "       52/1    1.38169    1.36936 +/- 0.00751\n",
      "       53/1    1.37561    1.36950 +/- 0.00734\n",
      "       54/1    1.41609    1.37056 +/- 0.00724\n",
      "       55/1    1.32725    1.36960 +/- 0.00715\n",
      "       56/1    1.41188    1.37052 +/- 0.00705\n",
      "       57/1    1.35620    1.37021 +/- 0.00690\n",
      "       58/1    1.29288    1.36860 +/- 0.00695\n",
      "       59/1    1.39083    1.36906 +/- 0.00682\n",
      "       60/1    1.30466    1.36777 +/- 0.00681\n",
      "       61/1    1.36075    1.36763 +/- 0.00667\n",
      "       62/1    1.32823    1.36687 +/- 0.00659\n",
      "       63/1    1.49583    1.36931 +/- 0.00690\n",
      "       64/1    1.38152    1.36953 +/- 0.00678\n",
      "       65/1    1.42475    1.37054 +/- 0.00673\n",
      "       66/1    1.32636    1.36975 +/- 0.00666\n",
      "       67/1    1.25876    1.36780 +/- 0.00682\n",
      "       68/1    1.33897    1.36730 +/- 0.00672\n",
      "       69/1    1.32101    1.36652 +/- 0.00665\n",
      "       70/1    1.34986    1.36624 +/- 0.00655\n",
      "       71/1    1.35073    1.36599 +/- 0.00644\n",
      "       72/1    1.42236    1.36690 +/- 0.00640\n",
      "       73/1    1.32594    1.36625 +/- 0.00633\n",
      "       74/1    1.27991    1.36490 +/- 0.00638\n",
      "       75/1    1.36727    1.36493 +/- 0.00628\n",
      "       76/1    1.32791    1.36437 +/- 0.00621\n",
      "       77/1    1.34268    1.36405 +/- 0.00612\n",
      "       78/1    1.33527    1.36362 +/- 0.00605\n",
      "       79/1    1.40080    1.36416 +/- 0.00598\n",
      "       80/1    1.46220    1.36556 +/- 0.00606\n",
      "       81/1    1.37886    1.36575 +/- 0.00598\n",
      "       82/1    1.33949    1.36539 +/- 0.00591\n",
      "       83/1    1.36809    1.36542 +/- 0.00583\n",
      "       84/1    1.31675    1.36477 +/- 0.00578\n",
      "       85/1    1.36778    1.36481 +/- 0.00571\n",
      "       86/1    1.36563    1.36482 +/- 0.00563\n",
      "       87/1    1.41886    1.36552 +/- 0.00560\n",
      "       88/1    1.37813    1.36568 +/- 0.00553\n",
      "       89/1    1.32669    1.36519 +/- 0.00548\n",
      "       90/1    1.35049    1.36500 +/- 0.00542\n",
      "       91/1    1.35662    1.36490 +/- 0.00535\n",
      "       92/1    1.34285    1.36463 +/- 0.00529\n",
      "       93/1    1.43886    1.36553 +/- 0.00530\n",
      "       94/1    1.34133    1.36524 +/- 0.00525\n",
      "       95/1    1.41067    1.36577 +/- 0.00521\n",
      "       96/1    1.43783    1.36661 +/- 0.00522\n",
      "       97/1    1.33134    1.36620 +/- 0.00518\n",
      "       98/1    1.33583    1.36586 +/- 0.00513\n",
      "       99/1    1.49937    1.36736 +/- 0.00529\n",
      "      100/1    1.34526    1.36711 +/- 0.00523\n",
      " Creating state point statepoint.100.h5...\n",
      "\n",
      " =======================>     TIMING STATISTICS     <=======================\n",
      "\n",
      " Total time for initialization     = 8.1230e+00 seconds\n",
      "   Reading cross sections          = 7.8750e+00 seconds\n",
      " Total time in simulation          = 1.1626e+01 seconds\n",
      "   Time in transport only          = 8.1815e+00 seconds\n",
      "   Time in inactive batches        = 7.5207e-01 seconds\n",
      "   Time in active batches          = 1.0874e+01 seconds\n",
      "   Time synchronizing fission bank = 6.2946e-03 seconds\n",
      "     Sampling source sites         = 5.4128e-03 seconds\n",
      "     SEND/RECV source sites        = 6.2183e-04 seconds\n",
      "   Time accumulating tallies       = 2.3425e-04 seconds\n",
      "   Time writing statepoints        = 3.4353e+00 seconds\n",
      " Total time for finalization       = 1.9510e-03 seconds\n",
      " Total time elapsed                = 1.9760e+01 seconds\n",
      " Calculation Rate (inactive)       = 13296.6 particles/second\n",
      " Calculation Rate (active)         = 8276.61 particles/second\n",
      "\n",
      " ============================>     RESULTS     <============================\n",
      "\n",
      " k-effective (Collision)     = 1.36367 +/- 0.00408\n",
      " k-effective (Track-length)  = 1.36711 +/- 0.00523\n",
      " k-effective (Absorption)    = 1.36112 +/- 0.00376\n",
      " Combined k-effective        = 1.36248 +/- 0.00344\n",
      " Leakage Fraction            = 0.00000 +/- 0.00000\n",
      "\n"
     ]
    }
   ],
   "source": [
    "openmc.run()"
   ]
  },
  {
   "cell_type": "code",
   "execution_count": 23,
   "metadata": {},
   "outputs": [
    {
     "name": "stdout",
     "output_type": "stream",
     "text": [
      " ======================>     TALLY 1: FUEL TALLY     <======================\r\n",
      "\r\n",
      " Cell 1\r\n",
      "   U235\r\n",
      "     Total Reaction Rate                  0.732892 +/- 0.0026461\r\n",
      "     Fission Rate                         0.529601 +/- 0.00215268\r\n",
      "     Absorption Rate                      0.64285 +/- 0.00253021\r\n",
      "     (n,gamma)                            0.113249 +/- 0.000399712\r\n"
     ]
    }
   ],
   "source": [
    "!cat tallies.out"
   ]
  }
 ],
 "metadata": {
  "kernelspec": {
   "display_name": "Python 3 (ipykernel)",
   "language": "python",
   "name": "python3"
  },
  "language_info": {
   "codemirror_mode": {
    "name": "ipython",
    "version": 3
   },
   "file_extension": ".py",
   "mimetype": "text/x-python",
   "name": "python",
   "nbconvert_exporter": "python",
   "pygments_lexer": "ipython3",
   "version": "3.10.4"
  }
 },
 "nbformat": 4,
 "nbformat_minor": 1
}
