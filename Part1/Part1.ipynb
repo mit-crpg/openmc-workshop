{
 "cells": [
  {
   "cell_type": "markdown",
   "metadata": {},
   "source": [
    "# Part 1: OpenMC Basics\n",
    "\n",
    "Welcome to the OpenMC workshop. This part will show the very basics of input file syntax using OpenMC's Python API\n",
    "\n",
    "<span style=\"color:red\">HINTS:</span>\n",
    "* To run the commands, click on the relevant cell and hit the `shift + enter` keys simultaneously\n",
    "* You need to fill in some code indicated wih `#TODO`s\n",
    "\n",
    "Debugging tips\n",
    "* Did you run all of the cells above your current cell? Try `Run -> Run All Above Selected Cell` from the menu\n",
    "* Has the cell accidentally been switched from a `Code` cell to a `Raw` or `Markdown` cell? Check the dropdown menu that is to the far right of the save button\n",
    "* If all else fails, switch over to the filled-in .ipynb file."
   ]
  },
  {
   "cell_type": "markdown",
   "metadata": {},
   "source": [
    "# Materials"
   ]
  },
  {
   "cell_type": "markdown",
   "metadata": {},
   "source": [
    "We will start by defining the materials that we need for a pincell problem. Here are UO2 and zirconium materials, for example."
   ]
  },
  {
   "cell_type": "code",
   "execution_count": 1,
   "metadata": {},
   "outputs": [],
   "source": [
    "import openmc"
   ]
  },
  {
   "cell_type": "code",
   "execution_count": 2,
   "metadata": {},
   "outputs": [],
   "source": [
    "uo2 = openmc.Material()\n",
    "uo2.add_element('U', 1.0, enrichment=3.2)\n",
    "uo2.add_element('O', 2.0)\n",
    "uo2.set_density('g/cm3', 10.0)\n",
    "\n",
    "zirconium = openmc.Material()\n",
    "zirconium.add_element('Zr', 1.0)\n",
    "zirconium.set_density('g/cm3', 6.6)"
   ]
  },
  {
   "cell_type": "markdown",
   "metadata": {},
   "source": [
    "Now, you try adding the elements we need for H2O water."
   ]
  },
  {
   "cell_type": "code",
   "execution_count": 3,
   "metadata": {},
   "outputs": [],
   "source": [
    "water = openmc.Material()"
   ]
  },
  {
   "cell_type": "markdown",
   "metadata": {},
   "source": [
    "Try using Jupyter's auto-completion tools, type just `water.` then hit `tab` which should give you a dropdown menu. (You will need to evaluate the cell above first so that `water` is defined.)\n",
    "\n",
    "<span style=\"color:red\">Extra input is needed here</span>"
   ]
  },
  {
   "cell_type": "code",
   "execution_count": 4,
   "metadata": {},
   "outputs": [],
   "source": [
    "#TODO: add 2 H and 1 O to the water material.\n",
    "water.set_density('g/cm3', 0.7)"
   ]
  },
  {
   "cell_type": "markdown",
   "metadata": {},
   "source": [
    "For some materials like water, you will also need to add S($\\alpha$, $\\beta$) tables which describe thermal neutron cross sections for the combined molecule"
   ]
  },
  {
   "cell_type": "code",
   "execution_count": 5,
   "metadata": {},
   "outputs": [],
   "source": [
    "water.add_s_alpha_beta('c_H_in_H2O')"
   ]
  },
  {
   "cell_type": "markdown",
   "metadata": {},
   "source": [
    "Now we have defined our materials in Python, but we need to write them out to an XML file that the C++ physics solver can read. The `cat` command below will show you what the actual XML files look like."
   ]
  },
  {
   "cell_type": "code",
   "execution_count": 6,
   "metadata": {},
   "outputs": [],
   "source": [
    "materials = openmc.Materials([uo2, zirconium, water])\n",
    "materials.export_to_xml()"
   ]
  },
  {
   "cell_type": "code",
   "execution_count": 7,
   "metadata": {},
   "outputs": [
    {
     "name": "stdout",
     "output_type": "stream",
     "text": [
      "<?xml version='1.0' encoding='utf-8'?>\r\n",
      "<materials>\r\n",
      "  <material depletable=\"true\" id=\"1\">\r\n",
      "    <density units=\"g/cm3\" value=\"10.0\" />\r\n",
      "    <nuclide ao=\"0.0002895591829726249\" name=\"U234\" />\r\n",
      "    <nuclide ao=\"0.03239590764444486\" name=\"U235\" />\r\n",
      "    <nuclide ao=\"0.9671661443552968\" name=\"U238\" />\r\n",
      "    <nuclide ao=\"0.00014838881728587684\" name=\"U236\" />\r\n",
      "    <nuclide ao=\"1.999242\" name=\"O16\" />\r\n",
      "    <nuclide ao=\"0.000758\" name=\"O17\" />\r\n",
      "  </material>\r\n",
      "  <material id=\"2\">\r\n",
      "    <density units=\"g/cm3\" value=\"6.6\" />\r\n",
      "    <nuclide ao=\"0.5145\" name=\"Zr90\" />\r\n",
      "    <nuclide ao=\"0.1122\" name=\"Zr91\" />\r\n",
      "    <nuclide ao=\"0.1715\" name=\"Zr92\" />\r\n",
      "    <nuclide ao=\"0.1738\" name=\"Zr94\" />\r\n",
      "    <nuclide ao=\"0.028\" name=\"Zr96\" />\r\n",
      "  </material>\r\n",
      "  <material id=\"3\">\r\n",
      "    <density units=\"g/cm3\" value=\"0.7\" />\r\n",
      "    <sab name=\"c_H_in_H2O\" />\r\n",
      "  </material>\r\n",
      "</materials>\r\n"
     ]
    }
   ],
   "source": [
    "!cat materials.xml"
   ]
  },
  {
   "cell_type": "markdown",
   "metadata": {},
   "source": [
    "# Geometry\n",
    "\n",
    "Next, let's define the geometry, starting with the surfaces. OpenMC supports many basic shapes like planes, cylinders, and cones. Here are the cylinders we'll need for the pincell problem."
   ]
  },
  {
   "cell_type": "code",
   "execution_count": null,
   "metadata": {},
   "outputs": [],
   "source": [
    "fuel_or = openmc.ZCylinder(r=0.39)\n",
    "clad_ir = openmc.ZCylinder(r=0.40)\n",
    "clad_or = openmc.ZCylinder(r=0.46)"
   ]
  },
  {
   "cell_type": "markdown",
   "metadata": {},
   "source": [
    "Note that this is a Python script so we can easily define helper variables and do math directly in the input file.\n",
    "\n",
    "Specify a YPlane named `top` that is located at `pitch / 2`.\n",
    "\n",
    "<span style=\"color:red\">Extra input is needed here</span>"
   ]
  },
  {
   "cell_type": "code",
   "execution_count": null,
   "metadata": {},
   "outputs": [],
   "source": [
    "pitch = 1.26"
   ]
  },
  {
   "cell_type": "code",
   "execution_count": null,
   "metadata": {},
   "outputs": [],
   "source": [
    "left = openmc.XPlane(x0=-pitch/2)\n",
    "right = openmc.XPlane(x0=pitch/2)\n",
    "bottom = openmc.YPlane(y0=-pitch/2)\n",
    "#TODO: specify a YPlane named \"top\" with a y0 of pitch / 2."
   ]
  },
  {
   "cell_type": "markdown",
   "metadata": {},
   "source": [
    "We also need to specify boundary conditions on the surfaces, where appropriate. We can use `reflective`, `vacuum`, or `periodic` BCs."
   ]
  },
  {
   "cell_type": "code",
   "execution_count": null,
   "metadata": {},
   "outputs": [],
   "source": [
    "left.boundary_type = 'reflective'\n",
    "right.boundary_type = 'reflective'\n",
    "bottom.boundary_type = 'reflective'\n",
    "top.boundary_type = 'reflective'"
   ]
  },
  {
   "cell_type": "markdown",
   "metadata": {},
   "source": [
    "Next come the cells. Here we must specify what material is inside of each cell and what region of the geometry it covers.\n",
    "\n",
    "Regions are specified with Boolean logic. We use `+` and `-` to indicate which side of a surface we want (e.g. the `-` for the inside of a cylinder and `+` for the outside). We can the combine them with the operators `&, |, ~` (and, or, not). You can also use parentheses, `(, )`."
   ]
  },
  {
   "cell_type": "code",
   "execution_count": null,
   "metadata": {},
   "outputs": [],
   "source": [
    "fuel = openmc.Cell()\n",
    "fuel.fill = uo2\n",
    "fuel.region = -fuel_or"
   ]
  },
  {
   "cell_type": "code",
   "execution_count": null,
   "metadata": {},
   "outputs": [],
   "source": [
    "gap = openmc.Cell()\n",
    "gap.fill = None\n",
    "gap.region = +fuel_or & -clad_ir"
   ]
  },
  {
   "cell_type": "markdown",
   "metadata": {},
   "source": [
    "Try specifying a `clad` cell that contains `zirconium` and lies outside of the `clad_ir` surface and inside of the `clad_or` surface.\n",
    "\n",
    "<span style=\"color:red\">Extra input is needed here</span>"
   ]
  },
  {
   "cell_type": "code",
   "execution_count": null,
   "metadata": {},
   "outputs": [],
   "source": [
    "clad = openmc.Cell()\n",
    "#TODO: set the fill to zirconium\n",
    "#TODO: set the region to +clad_ir & -clad_or"
   ]
  },
  {
   "cell_type": "code",
   "execution_count": null,
   "metadata": {},
   "outputs": [],
   "source": [
    "coolant = openmc.Cell()\n",
    "coolant.fill = water\n",
    "coolant.region = +clad_or & +left & -right & +bottom & -top"
   ]
  },
  {
   "cell_type": "markdown",
   "metadata": {},
   "source": [
    "A collection of cells is called a universe. This is a useful concept because we can define multi-layered geometry by using a universe as a fill, e.g. `cell.fill = univ`. We can also put universes into rectangular or hexagonal lattices for repetitive structures like fuel assemblies."
   ]
  },
  {
   "cell_type": "code",
   "execution_count": null,
   "metadata": {},
   "outputs": [],
   "source": [
    "univ = openmc.Universe()\n",
    "univ.add_cells([fuel, gap, clad, coolant])"
   ]
  },
  {
   "cell_type": "markdown",
   "metadata": {},
   "source": [
    "You can also plot the geometry directly from Python."
   ]
  },
  {
   "cell_type": "code",
   "execution_count": null,
   "metadata": {},
   "outputs": [],
   "source": [
    "univ.plot(width=(pitch, pitch))"
   ]
  },
  {
   "cell_type": "code",
   "execution_count": null,
   "metadata": {},
   "outputs": [],
   "source": [
    "geom = openmc.Geometry(univ)\n",
    "geom.export_to_xml()"
   ]
  },
  {
   "cell_type": "markdown",
   "metadata": {},
   "source": [
    "# Starting source and settings\n",
    "\n",
    "Now come the settings. First, we will specify the initial source. Here we will just use a point source at the origin, but there are many options available here. You can specify multiple sources with different strengths and you can specify distributions for the energy and direction for each source."
   ]
  },
  {
   "cell_type": "code",
   "execution_count": null,
   "metadata": {},
   "outputs": [],
   "source": [
    "settings = openmc.Settings()"
   ]
  },
  {
   "cell_type": "code",
   "execution_count": null,
   "metadata": {},
   "outputs": [],
   "source": [
    "point = openmc.stats.Point((0, 0, 0))\n",
    "src = openmc.Source(space=point)\n",
    "settings.source = src"
   ]
  },
  {
   "cell_type": "markdown",
   "metadata": {},
   "source": [
    "Next, we need to specify how many batches to run, how many inactive batches, and how many particles per batch.\n",
    "\n",
    "Try setting the number of particles to 1000.\n",
    "\n",
    "<span style=\"color:red\">Extra input is needed here</span>"
   ]
  },
  {
   "cell_type": "code",
   "execution_count": null,
   "metadata": {},
   "outputs": [],
   "source": [
    "settings.batches = 100\n",
    "settings.inactive = 10\n",
    "#TODO: set the number of particles to 1000\n",
    "\n",
    "settings.export_to_xml()"
   ]
  },
  {
   "cell_type": "markdown",
   "metadata": {},
   "source": [
    "# Tallies\n",
    "\n",
    "Now for the last step: specifying tallies. Tallies will tell us information about the fluxes, currents, and reaction rates in the problem. We can use filters to discretize the tallies by cells, materials, universes, energy, spherical harmonics moments, and many other attributes."
   ]
  },
  {
   "cell_type": "code",
   "execution_count": 22,
   "metadata": {},
   "outputs": [],
   "source": [
    "cell_filter = openmc.CellFilter([fuel, clad, coolant])"
   ]
  },
  {
   "cell_type": "code",
   "execution_count": 23,
   "metadata": {},
   "outputs": [],
   "source": [
    "cell_tally = openmc.Tally()\n",
    "cell_tally.filters = [cell_filter]\n",
    "cell_tally.scores = ['total', 'fission', 'absorption']"
   ]
  },
  {
   "cell_type": "code",
   "execution_count": 24,
   "metadata": {},
   "outputs": [],
   "source": [
    "e_groups = openmc.mgxs.GROUP_STRUCTURES['CASMO-70']\n",
    "energy_filter = openmc.EnergyFilter(e_groups)"
   ]
  },
  {
   "cell_type": "code",
   "execution_count": 25,
   "metadata": {},
   "outputs": [],
   "source": [
    "flux_tally = openmc.Tally()\n",
    "flux_tally.filters = [energy_filter]\n",
    "flux_tally.scores = ['flux', 'fission']"
   ]
  },
  {
   "cell_type": "code",
   "execution_count": 26,
   "metadata": {},
   "outputs": [],
   "source": [
    "tallies = openmc.Tallies([cell_tally, flux_tally])"
   ]
  },
  {
   "cell_type": "markdown",
   "metadata": {},
   "source": [
    "# Tallies for multigroup cross sections\n",
    "\n",
    "A feature we want you to be aware of: OpenMC has automated pre- and post-processing features for generating MGXS (multigroup cross sections).\n",
    "\n",
    "Don't worry much about the syntax here; just know to look for these features if you need them!"
   ]
  },
  {
   "cell_type": "code",
   "execution_count": 27,
   "metadata": {},
   "outputs": [],
   "source": [
    "groups = openmc.mgxs.EnergyGroups()\n",
    "groups.group_edges = openmc.mgxs.GROUP_STRUCTURES['CASMO-25']"
   ]
  },
  {
   "cell_type": "code",
   "execution_count": 28,
   "metadata": {},
   "outputs": [],
   "source": [
    "mgxs_lib = openmc.mgxs.Library(geom)\n",
    "mgxs_lib.energy_groups = groups\n",
    "mgxs_lib.mgxs_types = ['total', 'absorption', 'nu-fission', 'fission', 'nu-transport',\n",
    "                       'nu-scatter matrix', 'multiplicity matrix', 'chi']"
   ]
  },
  {
   "cell_type": "code",
   "execution_count": 29,
   "metadata": {},
   "outputs": [],
   "source": [
    "mgxs_lib.domain_type = 'material'\n",
    "mgxs_lib.domains = materials"
   ]
  },
  {
   "cell_type": "code",
   "execution_count": 30,
   "metadata": {},
   "outputs": [],
   "source": [
    "mgxs_lib.build_library()\n",
    "mgxs_lib.add_to_tallies_file(tallies)"
   ]
  },
  {
   "cell_type": "code",
   "execution_count": 31,
   "metadata": {},
   "outputs": [
    {
     "name": "stderr",
     "output_type": "stream",
     "text": [
      "/home/shriwise/.pyenv/versions/3.8.0/lib/python3.8/site-packages/openmc/mixin.py:68: IDWarning: Another Filter instance already exists with id=86.\n",
      "  warn(msg, IDWarning)\n",
      "/home/shriwise/.pyenv/versions/3.8.0/lib/python3.8/site-packages/openmc/mixin.py:68: IDWarning: Another Filter instance already exists with id=4.\n",
      "  warn(msg, IDWarning)\n",
      "/home/shriwise/.pyenv/versions/3.8.0/lib/python3.8/site-packages/openmc/mixin.py:68: IDWarning: Another Filter instance already exists with id=13.\n",
      "  warn(msg, IDWarning)\n",
      "/home/shriwise/.pyenv/versions/3.8.0/lib/python3.8/site-packages/openmc/mixin.py:68: IDWarning: Another Filter instance already exists with id=14.\n",
      "  warn(msg, IDWarning)\n"
     ]
    }
   ],
   "source": [
    "tallies.export_to_xml()"
   ]
  },
  {
   "cell_type": "markdown",
   "metadata": {},
   "source": [
    "# Running OpenMC\n",
    "\n",
    "Okay, now we are finally ready to run the code! Here we will use the Python API's `run` function. We could instead call `openmc` (or maybe `mpiexec openmc`) from the terminal."
   ]
  },
  {
   "cell_type": "code",
   "execution_count": null,
   "metadata": {},
   "outputs": [],
   "source": [
    "openmc.run()"
   ]
  },
  {
   "cell_type": "markdown",
   "metadata": {},
   "source": [
    "We can see the eigenvalue from the output above. The more interesting output data---the tally results---are stored in an HDF5 statepoint file. We'll talk about how to analyze that in the next section of the workshop.\n",
    "\n",
    "But for simple datasets we can also use the `tallies.out` text file that is automatically written by the code. Here's what that looks like:"
   ]
  },
  {
   "cell_type": "code",
   "execution_count": null,
   "metadata": {},
   "outputs": [],
   "source": [
    "!cat tallies.out"
   ]
  }
 ],
 "metadata": {
  "kernelspec": {
   "display_name": "Python 3",
   "language": "python",
   "name": "python3"
  },
  "language_info": {
   "codemirror_mode": {
    "name": "ipython",
    "version": 3
   },
   "file_extension": ".py",
   "mimetype": "text/x-python",
   "name": "python",
   "nbconvert_exporter": "python",
   "pygments_lexer": "ipython3",
   "version": "3.8.0"
  }
 },
 "nbformat": 4,
 "nbformat_minor": 4
}
