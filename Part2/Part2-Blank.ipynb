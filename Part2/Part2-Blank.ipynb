{
 "cells": [
  {
   "cell_type": "markdown",
   "metadata": {},
   "source": [
    "# Lattice computations"
   ]
  },
  {
   "cell_type": "code",
   "execution_count": null,
   "metadata": {},
   "outputs": [],
   "source": [
    "import openmc\n",
    "import numpy as np\n",
    "from IPython.display import Image"
   ]
  },
  {
   "cell_type": "markdown",
   "metadata": {},
   "source": [
    "In this section, we will build one of the assemblies from the BEAVRS benchmark.  This is a PWR assembly with fuel pins, guide tubes, and borosilicate glass burnable poisons.  A diagram of the assembly is plotted below.  To make it a little easier (and improve our statistics!) we will only build one quarter of it."
   ]
  },
  {
   "cell_type": "code",
   "execution_count": null,
   "metadata": {},
   "outputs": [],
   "source": [
    "Image('assembly_diagram.png')"
   ]
  },
  {
   "cell_type": "markdown",
   "metadata": {},
   "source": [
    "## Materials\n",
    "\n",
    "Again we have UO2, Zr, and H2O.  We also have borosilicate glass (pyrex).  Note the shortcut for defining enriched uranium.  Also note that we can use `add_nuclide` and `add_element` directly with a string.  We do not have to create a `Nuclide` or `Element` object first."
   ]
  },
  {
   "cell_type": "code",
   "execution_count": null,
   "metadata": {},
   "outputs": [],
   "source": [
    "uo2 = openmc.Material(name='uo2')\n",
    "uo2.add_element('U', 1.0, enrichment=3.0)\n",
    "uo2.add_nuclide('O16', 2.0)\n",
    "uo2.set_density('g/cm3', 10.0)\n",
    "\n",
    "zirconium = openmc.Material(name='zirconium')\n",
    "zirconium.add_element('Zr', 1.0)\n",
    "zirconium.set_density('g/cm3', 6.55)\n",
    "\n",
    "water = openmc.Material(name='water')\n",
    "water.add_nuclide('H1', 2)\n",
    "water.add_nuclide('O16', 1)\n",
    "water.set_density('g/cm3', 0.701)\n",
    "water.add_s_alpha_beta('c_H_in_H2O')\n",
    "\n",
    "pyrex = openmc.Material(name='pyrex')\n",
    "pyrex.add_element('B', 0.49)\n",
    "pyrex.add_element('O', 4.7)\n",
    "pyrex.add_element('Al', 0.17)\n",
    "pyrex.add_element('Si', 1.8)\n",
    "pyrex.set_density('g/cm3', 2.26)"
   ]
  },
  {
   "cell_type": "code",
   "execution_count": null,
   "metadata": {},
   "outputs": [],
   "source": [
    "mf = openmc.Materials((uo2, zirconium, water, pyrex))\n",
    "#mf.cross_sections = \"/projects/openmc/data/jeff33_hdf5/cross_sections.xml\"\n",
    "mf.export_to_xml()"
   ]
  },
  {
   "cell_type": "markdown",
   "metadata": {},
   "source": [
    "Later in this example, we will make a bunch of geometry plots.  By default, every region is colored randomly and the results are not always pretty.  Since we know our materials, let's define a dictonary of colors to use when plotting our geometry."
   ]
  },
  {
   "cell_type": "code",
   "execution_count": null,
   "metadata": {},
   "outputs": [],
   "source": [
    "colors = {}\n",
    "colors[water] = (100, 200, 200)  # cyan\n",
    "colors[zirconium] = (150, 150, 150)  # gray\n",
    "colors[pyrex] = (100, 255, 100)  # slime green\n",
    "colors[uo2] = (255, 50, 50)  # dark red"
   ]
  },
  {
   "cell_type": "markdown",
   "metadata": {},
   "source": [
    "## Fuel pin\n",
    "\n",
    "This is similar to the pincell example, but we don't have boundary conditions.  This `fuel_pin` universe extends to infinity"
   ]
  },
  {
   "cell_type": "code",
   "execution_count": null,
   "metadata": {},
   "outputs": [],
   "source": [
    "pitch = 1.26\n",
    "\n",
    "fuel_or = openmc.ZCylinder(r=0.39)\n",
    "clad_ir = openmc.ZCylinder(r=0.40)\n",
    "clad_or = openmc.ZCylinder(r=0.46)\n",
    "\n",
    "fuel = openmc.Cell(1, 'fuel')\n",
    "fuel.fill = uo2\n",
    "fuel.region = -fuel_or\n",
    "\n",
    "gap = openmc.Cell(2, 'air gap')\n",
    "gap.fill = None\n",
    "gap.region = +fuel_or & -clad_ir\n",
    "\n",
    "clad = openmc.Cell(3, 'clad')\n",
    "clad.fill = zirconium\n",
    "clad.region = +clad_ir & -clad_or\n",
    "\n",
    "moderator = openmc.Cell(4, 'moderator')\n",
    "moderator.fill = water\n",
    "moderator.region = +clad_or\n",
    "\n",
    "fuel_pin = openmc.Universe()\n",
    "fuel_pin.add_cells((fuel, gap, clad, moderator))"
   ]
  },
  {
   "cell_type": "markdown",
   "metadata": {},
   "source": [
    "When building a complex geometry, it is helpful to plot each universe as you go along.  Let's plot this pincell now"
   ]
  },
  {
   "cell_type": "code",
   "execution_count": null,
   "metadata": {
    "collapsed": true
   },
   "outputs": [],
   "source": [
    "# We need a cell to contain the fuel_pin universe.\n",
    "main = openmc.Cell()\n",
    "main.fill = fuel_pin\n",
    "\n",
    "root = openmc.Universe()\n",
    "root.add_cell(main)\n",
    "\n",
    "g = openmc.Geometry()\n",
    "g.root_universe = root\n",
    "g.export_to_xml()"
   ]
  },
  {
   "cell_type": "code",
   "execution_count": null,
   "metadata": {},
   "outputs": [],
   "source": [
    "p = openmc.Plot()\n",
    "p.width = [pitch, pitch]\n",
    "p.pixels = [400, 400]\n",
    "p.color_by = 'material'\n",
    "p.colors = colors\n",
    "\n",
    "openmc.plot_inline(p)"
   ]
  },
  {
   "cell_type": "markdown",
   "metadata": {},
   "source": [
    "## Guide tube"
   ]
  },
  {
   "cell_type": "code",
   "execution_count": null,
   "metadata": {
    "collapsed": true
   },
   "outputs": [],
   "source": [
    "clad_ir = openmc.ZCylinder(r=0.56)\n",
    "clad_or = openmc.ZCylinder(r=0.60)\n",
    "\n",
    "inner = openmc.Cell()\n",
    "inner.fill = water\n",
    "inner.region = -clad_ir\n",
    "\n",
    "clad = openmc.Cell()\n",
    "clad.fill = zirconium\n",
    "clad.region = +clad_ir & -clad_or\n",
    "\n",
    "outer = openmc.Cell()\n",
    "outer.fill = water\n",
    "outer.region = +clad_or\n",
    "\n",
    "guide_tube = openmc.Universe()\n",
    "guide_tube.add_cells((inner, clad, outer))"
   ]
  },
  {
   "cell_type": "code",
   "execution_count": null,
   "metadata": {
    "collapsed": true
   },
   "outputs": [],
   "source": [
    "main = openmc.Cell()\n",
    "main.fill = guide_tube\n",
    "\n",
    "root = openmc.Universe()\n",
    "root.add_cell(main)\n",
    "\n",
    "g = openmc.Geometry()\n",
    "g.root_universe = root\n",
    "g.export_to_xml()"
   ]
  },
  {
   "cell_type": "code",
   "execution_count": null,
   "metadata": {},
   "outputs": [],
   "source": [
    "p = openmc.Plot()\n",
    "p.width = [pitch, pitch]\n",
    "p.pixels = [400, 400]\n",
    "p.color_by = 'material'\n",
    "p.colors = colors\n",
    "\n",
    "openmc.plot_inline(p)"
   ]
  },
  {
   "cell_type": "markdown",
   "metadata": {},
   "source": [
    "## Pyrex burnable poison"
   ]
  },
  {
   "cell_type": "code",
   "execution_count": null,
   "metadata": {},
   "outputs": [],
   "source": [
    "Image(\"pyrex_diagram.png\")"
   ]
  },
  {
   "cell_type": "code",
   "execution_count": null,
   "metadata": {},
   "outputs": [],
   "source": [
    "# Define the cylinders which bound each radial zone.\n",
    "radii = [0.21, 0.23, 0.24, 0.43, 0.44, 0.48, 0.56, 0.60]\n",
    "cyls = [openmc.ZCylinder(r=R) for R in radii]\n",
    "\n",
    "# Initialize a list of cells.\n",
    "bp_cells = []\n",
    "\n",
    "# Define the inner void zone first.\n",
    "c = openmc.Cell()\n",
    "c.region = -cyls[0]\n",
    "c.fill = None\n",
    "bp_cells.append(c)\n",
    "\n",
    "# Now all the sandwiched layers.\n",
    "mats = [zirconium, None, pyrex, None, zirconium, water, zirconium]\n",
    "for i in range(len(mats)):\n",
    "    c = openmc.Cell()\n",
    "    #TODO: Define the cell's region\n",
    "    c.fill = mats[i]\n",
    "    bp_cells.append(c)\n",
    "\n",
    "# And the outer moderator region.\n",
    "c = openmc.Cell()\n",
    "c.region = +cyls[-1]\n",
    "c.fill = water\n",
    "bp_cells.append(c)\n",
    "\n",
    "# Make a universe containing these cells\n",
    "burn = openmc.Universe()\n",
    "burn.add_cells(bp_cells)"
   ]
  },
  {
   "cell_type": "code",
   "execution_count": null,
   "metadata": {
    "collapsed": true
   },
   "outputs": [],
   "source": [
    "main = openmc.Cell()\n",
    "main.fill = burn\n",
    "\n",
    "root = openmc.Universe()\n",
    "root.add_cell(main)\n",
    "\n",
    "g = openmc.Geometry()\n",
    "g.root_universe = root\n",
    "g.export_to_xml()"
   ]
  },
  {
   "cell_type": "code",
   "execution_count": null,
   "metadata": {},
   "outputs": [],
   "source": [
    "p = openmc.Plot()\n",
    "p.width = [pitch, pitch]\n",
    "p.pixels = [400, 400]\n",
    "p.color_by = 'material'\n",
    "p.colors = colors\n",
    "\n",
    "openmc.plot_inline(p)"
   ]
  },
  {
   "cell_type": "markdown",
   "metadata": {},
   "source": [
    "## Lattices in OpenMC\n",
    "\n",
    "OpenMC has `RectLattice` and `HexLattice` objects.  This demo will use a `RectLattice`.  Let's look at a simple one before we do the quarter assembly.\n",
    "\n",
    "First, we also need to define a universe that is all water."
   ]
  },
  {
   "cell_type": "code",
   "execution_count": null,
   "metadata": {
    "collapsed": true
   },
   "outputs": [],
   "source": [
    "moderator = openmc.Cell()\n",
    "moderator.fill = water\n",
    "\n",
    "all_water = openmc.Universe()\n",
    "all_water.add_cell(moderator)"
   ]
  },
  {
   "cell_type": "code",
   "execution_count": null,
   "metadata": {},
   "outputs": [],
   "source": [
    "lattice = openmc.RectLattice()\n",
    "\n",
    "# First we specify the dimension---the number of lattice tiles in x and y.\n",
    "lattice.dimension = [2, 2]\n",
    "\n",
    "# Next are the xy-coordiantes of the lower-left corner of the lattice.\n",
    "lattice.lower_left = [0.0, 0.0]\n",
    "\n",
    "# Next is the pitch---the size of the lattice tiles in each direction.\n",
    "lattice.pitch = [pitch, pitch]\n",
    "\n",
    "# Now we specify what is actually inside the lattice.  This 2D lattice will be a\n",
    "# list of lists like\n",
    "# lattice.universes = [ [a1, a2, ...], [b1, b2, ...], ...]\n",
    "# The inner lists specify columns from left to right.  The outer lists specify\n",
    "# rows from top to bottom.\n",
    "lattice.universes = [\n",
    "#TODO: Define a 2x2 lattice from fuel_pin, guide_tube, etc.\n",
    "]\n",
    "\n",
    "# We also need to specify what is outside of the lattice.  In this case, it is\n",
    "# the infinite water universe.\n",
    "lattice.outer = all_water"
   ]
  },
  {
   "cell_type": "code",
   "execution_count": null,
   "metadata": {
    "collapsed": true
   },
   "outputs": [],
   "source": [
    "main = openmc.Cell()\n",
    "main.fill = lattice\n",
    "\n",
    "root = openmc.Universe()\n",
    "root.add_cell(main)\n",
    "\n",
    "g = openmc.Geometry()\n",
    "g.root_universe = root\n",
    "g.export_to_xml()"
   ]
  },
  {
   "cell_type": "code",
   "execution_count": null,
   "metadata": {},
   "outputs": [],
   "source": [
    "p = openmc.Plot()\n",
    "p.origin = (pitch, pitch, 0)\n",
    "p.width = (3*pitch, 3*pitch)\n",
    "p.pixels = (400, 400)\n",
    "p.color_by = 'material'\n",
    "p.colors = colors\n",
    "\n",
    "openmc.plot_inline(p)"
   ]
  },
  {
   "cell_type": "markdown",
   "metadata": {},
   "source": [
    "## What exactly does `outer` mean?\n",
    "\n",
    "We are taking that one universe and tiling it infinitely outside the lattice."
   ]
  },
  {
   "cell_type": "code",
   "execution_count": null,
   "metadata": {},
   "outputs": [],
   "source": [
    "# Try a different outer universe to see what I mean\n",
    "lattice.outer = guide_tube\n",
    "\n",
    "g.export_to_xml()\n",
    "\n",
    "openmc.plot_inline(p)"
   ]
  },
  {
   "cell_type": "markdown",
   "metadata": {},
   "source": [
    "## The BEAVRS assembly"
   ]
  },
  {
   "cell_type": "code",
   "execution_count": null,
   "metadata": {},
   "outputs": [],
   "source": [
    "Image('assembly_diagram.png')"
   ]
  },
  {
   "cell_type": "code",
   "execution_count": null,
   "metadata": {},
   "outputs": [],
   "source": [
    "lattice = openmc.RectLattice()\n",
    "\n",
    "lattice.dimension = [9, 9]\n",
    "lattice.pitch = [pitch, pitch]\n",
    "lattice.outer = all_water\n",
    "\n",
    "# I want (x0, y0) = (0, 0) to be the center of the instrument tube so that means\n",
    "# the lower-left will be -half a pin pitch in x and y.\n",
    "lattice.lower_left = [-pitch/2.0]*2\n",
    "\n",
    "# Most of the lattice positions are fuel pins so rather than type all of those\n",
    "# out, I will use a Python list comprehension to start with a 9x9 array of fuel.\n",
    "lattice.universes = [[fuel_pin for i in range(9)] for j in range(9)]\n",
    "\n",
    "# Then I will replace some fuel pins with guide tubes.  First index is the row,\n",
    "# starting from the top, and the second is the column (like a matrix).\n",
    "lattice.universes[2][0] = guide_tube\n",
    "lattice.universes[2][3] = guide_tube\n",
    "lattice.universes[5][0] = guide_tube\n",
    "lattice.universes[5][3] = guide_tube\n",
    "lattice.universes[5][6] = guide_tube\n",
    "lattice.universes[8][0] = guide_tube\n",
    "lattice.universes[8][3] = guide_tube\n",
    "lattice.universes[8][6] = guide_tube\n",
    "\n",
    "# And the burnable poison rod.\n",
    "#TODO: Set one of the lattice universes to `burn` (the Pyrex burnable absorber)"
   ]
  },
  {
   "cell_type": "markdown",
   "metadata": {},
   "source": [
    "Now we just have to add the boundary conditions and root universe to finish the geometry."
   ]
  },
  {
   "cell_type": "code",
   "execution_count": null,
   "metadata": {},
   "outputs": [],
   "source": [
    "height = 100 # Finite height is not strictly necessary but may avoid floating-point errors\n",
    "assembly_pitch = 21.5\n",
    "x0 = openmc.XPlane(x0=0.0, boundary_type='reflective')\n",
    "x1 = openmc.XPlane(x0=assembly_pitch/2.0, boundary_type='reflective')\n",
    "y0 = openmc.YPlane(y0=0.0, boundary_type='reflective')\n",
    "y1 = openmc.YPlane(y0=assembly_pitch/2.0, boundary_type='reflective')\n",
    "z0 = openmc.ZPlane(z0=-height/2.0, boundary_type='reflective')\n",
    "z1 = openmc.ZPlane(z0=height/2.0, boundary_type='reflective')\n",
    "\n",
    "main = openmc.Cell()\n",
    "main.region = +x0 & -x1 & +y0 & -y1 & +z0 & -z1\n",
    "main.fill = lattice"
   ]
  },
  {
   "cell_type": "code",
   "execution_count": null,
   "metadata": {
    "collapsed": true
   },
   "outputs": [],
   "source": [
    "root = openmc.Universe()\n",
    "root.add_cell(main)\n",
    "\n",
    "g = openmc.Geometry()\n",
    "g.root_universe = root\n",
    "g.export_to_xml()"
   ]
  },
  {
   "cell_type": "code",
   "execution_count": null,
   "metadata": {},
   "outputs": [],
   "source": [
    "p = openmc.Plot()\n",
    "p.origin = (0.25*assembly_pitch, 0.25*assembly_pitch, 0)\n",
    "p.width = (0.55*assembly_pitch, 0.55*assembly_pitch)\n",
    "p.pixels = (700, 700)\n",
    "p.color_by = 'material'\n",
    "p.colors = colors\n",
    "\n",
    "openmc.plot_inline(p)"
   ]
  },
  {
   "cell_type": "code",
   "execution_count": null,
   "metadata": {},
   "outputs": [],
   "source": [
    "settings = openmc.Settings()\n",
    "settings.source = openmc.Source(space=openmc.stats.Box((0.1, 0.1, 0), (0.49*assembly_pitch, 0.49*assembly_pitch, 0)))\n",
    "settings.batches = 50\n",
    "settings.inactive = 10\n",
    "settings.particles = 1000\n",
    "settings.export_to_xml()"
   ]
  },
  {
   "cell_type": "code",
   "execution_count": null,
   "metadata": {
    "scrolled": false
   },
   "outputs": [],
   "source": [
    "openmc.run()"
   ]
  },
  {
   "cell_type": "markdown",
   "metadata": {},
   "source": [
    "## Tallies\n",
    "\n",
    "Okay, that was cool, but $k_\\text{eff}$ isn't everyting.  We also want to know reaction rates so we can compute the power distribution, depletion rate, etc.  If we want pin-by-pin reaction rates, we have two options.  First, we can use a tally mesh.  This will lay a rectangular grid over the geometry and tally the reaction rates in each mesh bin."
   ]
  },
  {
   "cell_type": "code",
   "execution_count": null,
   "metadata": {},
   "outputs": [],
   "source": [
    "tallies = openmc.Tallies()\n",
    "\n",
    "mesh = openmc.RegularMesh()\n",
    "mesh.dimension = lattice.dimension \n",
    "mesh.lower_left = lattice.lower_left\n",
    "mesh.width = lattice.pitch\n",
    "\n",
    "mesh_filt = openmc.MeshFilter(mesh)\n",
    "\n",
    "t = openmc.Tally(1)\n",
    "t.filters = [mesh_filt]\n",
    "t.scores = ['total', 'fission']\n",
    "t.nuclides = ['total', 'U235']\n",
    "tallies.append(t)\n",
    "\n",
    "# Let's also create a tally to get the flux energy spectrum. \n",
    "# We will start by creating an energy filter\n",
    "e_min = None  # Set this to a low, but nonzero, energy\n",
    "e_max = None  # Set this to a very high energy\n",
    "groups = None # Set to enough groups to get good energy resolution\n",
    "energies = np.logspace(np.log10(e_min), np.log10(e_max), groups + 1)\n",
    "energy_filter = openmc.EnergyFilter(energies)\n",
    "spectrum_tally = openmc.Tally(3, name=\"flux spectrum\")\n",
    "spectrum_tally.filters = [energy_filter]\n",
    "spectrum_tally.scores = ['flux']\n",
    "tallies.append(spectrum_tally)"
   ]
  },
  {
   "cell_type": "markdown",
   "metadata": {},
   "source": [
    "Or we can use something called a \"distribcell\" filter.  Note that the bin specifies a cell id."
   ]
  },
  {
   "cell_type": "code",
   "execution_count": null,
   "metadata": {},
   "outputs": [],
   "source": [
    "dist_filt = openmc.DistribcellFilter(fuel.id)\n",
    "t = openmc.Tally(2)\n",
    "t.filters = [dist_filt]\n",
    "t.scores = ['total', 'fission']\n",
    "t.nuclides = ['total', 'U235']\n",
    "tallies.append(t)\n",
    "\n",
    "tallies.export_to_xml()"
   ]
  },
  {
   "cell_type": "markdown",
   "metadata": {},
   "source": [
    "One more thing. Let us tally [Shannon Entropy](https://docs.openmc.org/en/stable/usersguide/settings.html#shannon-entropy) across our problem. We will look at that in the next part."
   ]
  },
  {
   "cell_type": "code",
   "execution_count": null,
   "metadata": {},
   "outputs": [],
   "source": [
    "entropy_mesh = openmc.RegularMesh()\n",
    "entropy_mesh.lower_left  = lattice.lower_left\n",
    "entropy_mesh.width = lattice.pitch\n",
    "entropy_mesh.dimension = (9, 9)\n",
    "\n",
    "settings.entropy_mesh = entropy_mesh\n",
    "settings.export_to_xml()"
   ]
  },
  {
   "cell_type": "code",
   "execution_count": null,
   "metadata": {
    "scrolled": true
   },
   "outputs": [],
   "source": [
    "openmc.run()"
   ]
  },
  {
   "cell_type": "code",
   "execution_count": null,
   "metadata": {
    "scrolled": true
   },
   "outputs": [],
   "source": [
    "!cat tallies.out | head -n 15\n",
    "print('...')\n",
    "!cat tallies.out | tail -n 15"
   ]
  },
  {
   "cell_type": "markdown",
   "metadata": {},
   "source": [
    "Notice the Distributed Cell description showing the path from the root universe all the way down to the fuel cell. This path can become a lot more complicated as we build more complex geometries: for instance, we could take our BEAVRS assembly and place it into a lattice as well."
   ]
  },
  {
   "cell_type": "code",
   "execution_count": null,
   "metadata": {},
   "outputs": [],
   "source": [
    "Image(\"core_diagram.png\")"
   ]
  },
  {
   "cell_type": "markdown",
   "metadata": {
    "collapsed": true
   },
   "source": [
    "## Distributed materials\n",
    "\n",
    "In a depletion problem, every fuel pin might need its own unique material.  We have a feature called \"distributed materials\" which makes this easier."
   ]
  },
  {
   "cell_type": "code",
   "execution_count": null,
   "metadata": {},
   "outputs": [],
   "source": [
    "many_uo2_mats = []\n",
    "for i in range(72):\n",
    "    m = openmc.Material(name='uo2')\n",
    "    m.add_element('U', 1.0, enrichment=3.0)\n",
    "    m.add_nuclide('O16', 2.0)\n",
    "    m.set_density('g/cm3', 10.0)\n",
    "    many_uo2_mats.append(m)\n",
    "\n",
    "mf.extend(many_uo2_mats)\n",
    "mf.export_to_xml()"
   ]
  },
  {
   "cell_type": "code",
   "execution_count": null,
   "metadata": {},
   "outputs": [],
   "source": [
    "fuel.fill = many_uo2_mats\n",
    "g.export_to_xml()\n",
    "openmc.plot_inline(p)"
   ]
  }
 ],
 "metadata": {
  "celltoolbar": "Raw Cell Format",
  "kernelspec": {
   "display_name": "Python 3 (ipykernel)",
   "language": "python",
   "name": "python3"
  },
  "language_info": {
   "codemirror_mode": {
    "name": "ipython",
    "version": 3
   },
   "file_extension": ".py",
   "mimetype": "text/x-python",
   "name": "python",
   "nbconvert_exporter": "python",
   "pygments_lexer": "ipython3",
   "version": "3.10.4"
  }
 },
 "nbformat": 4,
 "nbformat_minor": 1
}
