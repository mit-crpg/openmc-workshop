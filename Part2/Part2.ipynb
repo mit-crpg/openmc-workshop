{
 "cells": [
  {
   "cell_type": "markdown",
   "id": "a3a877ed",
   "metadata": {},
   "source": [
    "# Part 2: Postprocessing\n",
    "\n",
    "In this section we'll explore postprocessing information in OpenMC's `StatePoint` files generated from OpenMC runs. These files contain a variety of information (tallies, timers, settings, etc.) from the simulation in a binary HDF5 format. The full set of information stored in these files can be found [here](https://docs.openmc.org/en/stable/io_formats/statepoint.html)."
   ]
  },
  {
   "cell_type": "markdown",
   "id": "46934261",
   "metadata": {},
   "source": [
    "<span style=\"color:red\">HINTS:</span>\n",
    "* To run the commands, click on the relevant cell and hit the `shift + enter` keys simultaneously\n",
    "\n",
    "Debugging tips\n",
    "* Did you run all of the cells above your current cell? Try `Run -> Run All Above Selected Cell` from the menu\n",
    "* Has the cell accidentally been switched from a `Code` cell to a `Raw` or `Markdown` cell? Check the dropdown menu that is to the far right of the save button\n",
    "* If all else fails, switch over to the filled-in .ipynb file."
   ]
  },
  {
   "cell_type": "code",
   "execution_count": null,
   "id": "3aaa5624",
   "metadata": {},
   "outputs": [],
   "source": [
    "import numpy as np\n",
    "import openmc\n",
    "import os\n",
    "from pathlib import Path"
   ]
  },
  {
   "cell_type": "code",
   "execution_count": null,
   "id": "26adfd91",
   "metadata": {},
   "outputs": [],
   "source": [
    "%matplotlib inline\n",
    "import matplotlib.pyplot as plt"
   ]
  },
  {
   "cell_type": "markdown",
   "id": "ad0fa8c0",
   "metadata": {},
   "source": [
    "## Looking at simulation parameters"
   ]
  },
  {
   "cell_type": "markdown",
   "id": "1bf86bfe",
   "metadata": {},
   "source": [
    "We'll begin by loading a statpoint file generated using the model from the previous section."
   ]
  },
  {
   "cell_type": "code",
   "execution_count": null,
   "id": "e1806552",
   "metadata": {},
   "outputs": [],
   "source": [
    "!ls"
   ]
  },
  {
   "cell_type": "code",
   "execution_count": null,
   "id": "91a08f12",
   "metadata": {},
   "outputs": [],
   "source": [
    "sp = openmc.StatePoint('statepoint.100.h5')"
   ]
  },
  {
   "cell_type": "code",
   "execution_count": null,
   "id": "9eee82e5",
   "metadata": {},
   "outputs": [],
   "source": [
    "sp.date_and_time"
   ]
  },
  {
   "cell_type": "code",
   "execution_count": null,
   "id": "69a54b27",
   "metadata": {},
   "outputs": [],
   "source": [
    "print(\"{}, {}, {}\".format(sp.n_batches, sp.n_inactive, sp.n_particles))"
   ]
  },
  {
   "cell_type": "markdown",
   "id": "ebe39f7d",
   "metadata": {},
   "source": [
    "Note that this simulation uses more particles per batch than we did in Part1 to reduce the error on the tally results."
   ]
  },
  {
   "cell_type": "markdown",
   "id": "34ba1616",
   "metadata": {},
   "source": [
    "## Global values"
   ]
  },
  {
   "cell_type": "markdown",
   "id": "4bca19c4",
   "metadata": {},
   "source": [
    "The `StatePoint` also contains information about $k_{eff}$ for eigenvalue problems -- both the final value"
   ]
  },
  {
   "cell_type": "code",
   "execution_count": null,
   "id": "543987cc",
   "metadata": {},
   "outputs": [],
   "source": [
    "k_eff_part1 = sp.k_combined\n",
    "print(k_eff_part1)"
   ]
  },
  {
   "cell_type": "markdown",
   "id": "774b1e61",
   "metadata": {},
   "source": [
    "and the $k_{eff}$ for each generation"
   ]
  },
  {
   "cell_type": "code",
   "execution_count": null,
   "id": "02f21e17",
   "metadata": {},
   "outputs": [],
   "source": [
    "plt.plot(sp.k_generation)"
   ]
  },
  {
   "cell_type": "markdown",
   "id": "865f0436",
   "metadata": {},
   "source": [
    "The k-eff plot indicates that this simulation ran fewer particles than would be ideal to get a well-converged solution, but for the purposes of the lesson it will do."
   ]
  },
  {
   "cell_type": "code",
   "execution_count": null,
   "id": "f932af77",
   "metadata": {},
   "outputs": [],
   "source": [
    "sp.tallies"
   ]
  },
  {
   "cell_type": "markdown",
   "id": "d97540d2",
   "metadata": {},
   "source": [
    "## Pandas Dataframes for tallies"
   ]
  },
  {
   "cell_type": "code",
   "execution_count": null,
   "id": "69e13b96",
   "metadata": {},
   "outputs": [],
   "source": [
    "cell_tally = sp.tallies[1]\n",
    "df = cell_tally.get_pandas_dataframe()"
   ]
  },
  {
   "cell_type": "code",
   "execution_count": null,
   "id": "450f2e80",
   "metadata": {},
   "outputs": [],
   "source": [
    "df"
   ]
  },
  {
   "cell_type": "code",
   "execution_count": null,
   "id": "94a17377",
   "metadata": {},
   "outputs": [],
   "source": [
    "indices = df[('score')] == 'absorption'\n",
    "sub_df = df[indices]\n",
    "sub_df"
   ]
  },
  {
   "cell_type": "code",
   "execution_count": null,
   "id": "d6e21fa8",
   "metadata": {},
   "outputs": [],
   "source": [
    "sub_df.plot(x='cell', y='mean', kind=\"bar\", grid=True, ylabel=\"Absorption\")"
   ]
  },
  {
   "cell_type": "code",
   "execution_count": null,
   "id": "ca683b28",
   "metadata": {},
   "outputs": [],
   "source": [
    "# TODO Create a plot of the fission tally in each cell"
   ]
  },
  {
   "cell_type": "markdown",
   "id": "87ae1a35",
   "metadata": {},
   "source": [
    "## Plotting a Flux Tally"
   ]
  },
  {
   "cell_type": "code",
   "execution_count": null,
   "id": "dbc49e73",
   "metadata": {},
   "outputs": [],
   "source": [
    "flux_tally = sp.tallies[2]\n",
    "flux_df = flux_tally.get_pandas_dataframe()"
   ]
  },
  {
   "cell_type": "code",
   "execution_count": null,
   "id": "52220c73",
   "metadata": {},
   "outputs": [],
   "source": [
    "flux_df.head(10)"
   ]
  },
  {
   "cell_type": "code",
   "execution_count": null,
   "id": "b263bb69",
   "metadata": {},
   "outputs": [],
   "source": [
    "energy_filter = flux_tally.find_filter(openmc.EnergyFilter)\n",
    "e_groups = energy_filter.values\n",
    "e_groups"
   ]
  },
  {
   "cell_type": "code",
   "execution_count": null,
   "id": "7eb12df0",
   "metadata": {},
   "outputs": [],
   "source": [
    "indices = flux_df[('score')] == 'flux'\n",
    "flux_vals = flux_df[indices]['mean'].values\n",
    "# insert a zero to start for matplotlib\n",
    "flux_vals = np.insert(flux_vals, 0, flux_vals[0])"
   ]
  },
  {
   "cell_type": "code",
   "execution_count": null,
   "id": "e698ceb4",
   "metadata": {},
   "outputs": [],
   "source": [
    "plt.loglog(e_groups, flux_vals, drawstyle='steps')\n",
    "plt.xlabel('Energy [eV]')\n",
    "plt.ylabel(r'Flux [$\\frac{n-cm}{source\\ particle}$]')"
   ]
  },
  {
   "cell_type": "markdown",
   "id": "bd63a709",
   "metadata": {},
   "source": [
    "## Other ways to access tally data"
   ]
  },
  {
   "cell_type": "markdown",
   "id": "54e0e52a",
   "metadata": {},
   "source": [
    "We can also access the mean, standard deviation, and relative error directly on the `Tally` object."
   ]
  },
  {
   "cell_type": "code",
   "execution_count": null,
   "id": "621ef44b",
   "metadata": {},
   "outputs": [],
   "source": [
    "fission_mean = flux_tally.get_values(value='mean', scores=['fission'])\n",
    "# insert a zero for matplotlib\n",
    "fission_mean = np.insert(fission_mean, 0, fission_mean[0])"
   ]
  },
  {
   "cell_type": "code",
   "execution_count": null,
   "id": "192bf49a",
   "metadata": {},
   "outputs": [],
   "source": [
    "plt.loglog(e_groups, fission_mean, drawstyle='steps')\n",
    "plt.xlabel('Energy [eV]')\n",
    "plt.ylabel(r'Fission [$\\frac{reactions}{source\\ particle}$]')"
   ]
  },
  {
   "cell_type": "markdown",
   "id": "785bb802",
   "metadata": {},
   "source": [
    "## Generating multi-group cross sections"
   ]
  },
  {
   "cell_type": "markdown",
   "id": "cfe5fff4",
   "metadata": {},
   "source": [
    "In Part 1 we created a multigroup cross section library and asked it to add all necessary tallies to the OpenMC simulation. Here, we'll extract those cross sections from the statepoint file."
   ]
  },
  {
   "cell_type": "markdown",
   "id": "318b073e",
   "metadata": {},
   "source": [
    "Many Monte Carlo particle transport codes, including OpenMC, use continuous-energy nuclear cross section data. However, most deterministic neutron transport codes use multi-group cross sections defined over discretized energy bins or energy groups. These cross sections are defined using a set of conserving reaction rates generated by the additional tallies we saw above.\n",
    "\n",
    "At a minimum, the library must contain the absorption cross section\n",
    "($\\sigma_{a,g}$) and a scattering matrix. If the problem is an eigenvalue\n",
    "problem then all fissionable materials must also contain either a fission\n",
    "production matrix cross section ($\\nu\\sigma_{f,g\\rightarrow g'}$), or both\n",
    "the fission spectrum data ($\\chi_{g'}$) and a fission production cross\n",
    "section ($\\nu\\sigma_{f,g}$), or, .  The library must also contain the\n",
    "fission cross section ($\\sigma_{f,g}$) or the fission energy release cross\n",
    "section ($\\kappa\\sigma_{f,g}$) if the associated tallies are required by\n",
    "the model using the library.\n",
    "\n",
    "After a scattering collision, the outgoing particle experiences a change in both\n",
    "energy and angle. The probability of a particle resulting in a given outgoing\n",
    "energy group ($g'$) given a certain incoming energy group ($g$) is provided by\n",
    "the scattering matrix data.  The angular information can be expressed either via\n",
    "Legendre expansion of the particle's change-in-angle ($\\mu$), a tabular\n",
    "representation of the probability distribution function of $\\mu$, or a\n",
    "histogram representation of the same PDF."
   ]
  },
  {
   "cell_type": "markdown",
   "id": "699c9d8d",
   "metadata": {},
   "source": [
    "First we'll want to re-create the multigroup cross section (MGXS) library from Part1. To do this we'll use the information from the `summary.h5` file that was loaded as part of the `StatePoint` object. The summary file contains the geometry, material, and cross section specifications for the problem as HDF5 data. The summary is added to the `StatePoint` whenever it is present in the same directory and is a useful way to extract information about a problem if the original XML inputs are not present. "
   ]
  },
  {
   "cell_type": "code",
   "execution_count": null,
   "id": "0e4bbf97",
   "metadata": {},
   "outputs": [],
   "source": [
    "sp_geom = sp.summary.geometry\n",
    "sp_mats = sp.summary.materials\n",
    "sp_mats"
   ]
  },
  {
   "cell_type": "markdown",
   "id": "93904c21",
   "metadata": {},
   "source": [
    "Here, we'll use the summary to get the geometry and materials so we can re-create the MGXS library from Part 1."
   ]
  },
  {
   "cell_type": "code",
   "execution_count": null,
   "id": "32e39e15",
   "metadata": {},
   "outputs": [],
   "source": [
    "mgxs_lib = openmc.mgxs.Library(sp_geom)\n",
    "mgxs_lib.domain_type = \"material\"\n",
    "mgxs_lib.domains = sp_mats"
   ]
  },
  {
   "cell_type": "code",
   "execution_count": null,
   "id": "297e0b6d",
   "metadata": {},
   "outputs": [],
   "source": [
    "mgxs_lib.energy_groups = openmc.mgxs.EnergyGroups(openmc.mgxs.GROUP_STRUCTURES['CASMO-25'])\n",
    "mgxs_lib.mgxs_types = ['total', 'absorption', 'nu-fission', 'fission', 'nu-transport',\n",
    "                       'nu-scatter matrix', 'multiplicity matrix', 'chi']\n",
    "mgxs_lib.build_library()"
   ]
  },
  {
   "cell_type": "markdown",
   "id": "9793ea4b",
   "metadata": {},
   "source": [
    "Now that we have build the MGXS library, we can load all the necessary information from the `StatePoint` object with a simple call."
   ]
  },
  {
   "cell_type": "code",
   "execution_count": null,
   "id": "636000fd",
   "metadata": {},
   "outputs": [],
   "source": [
    "mgxs_lib.load_from_statepoint(sp)"
   ]
  },
  {
   "cell_type": "markdown",
   "id": "c3a4fed5",
   "metadata": {},
   "source": [
    "This command uses the information from the MGXS library to locate the correct set of tallies in the `StatePoint` file, extract the relevant tally data for the material and reaction types we've specified, and add multigroup cross sections to the library.\n",
    "\n",
    "From here, we can examine the generated cross sections."
   ]
  },
  {
   "cell_type": "code",
   "execution_count": null,
   "id": "d0f8f55f",
   "metadata": {},
   "outputs": [],
   "source": [
    "nu_fission = mgxs_lib.get_mgxs(sp_mats[0], 'nu-fission')"
   ]
  },
  {
   "cell_type": "code",
   "execution_count": null,
   "id": "9457b6cd",
   "metadata": {},
   "outputs": [],
   "source": [
    "nu_fission_df = nu_fission.get_pandas_dataframe()"
   ]
  },
  {
   "cell_type": "code",
   "execution_count": null,
   "id": "4662145c",
   "metadata": {},
   "outputs": [],
   "source": [
    "nu_fission_df.head(10)"
   ]
  },
  {
   "cell_type": "markdown",
   "id": "f9924246",
   "metadata": {},
   "source": [
    "## Applying multi-group cross sections to the model"
   ]
  },
  {
   "cell_type": "markdown",
   "id": "998a198d",
   "metadata": {},
   "source": [
    "OpenMC can also perform simulations with a discretized energy space using the cross sections we've generated above."
   ]
  },
  {
   "cell_type": "markdown",
   "id": "0c664f6b",
   "metadata": {},
   "source": [
    "First, we'll create a new directory to perform this run, so we don't write over the existing files in case we want to redo this exercise later."
   ]
  },
  {
   "cell_type": "code",
   "execution_count": null,
   "id": "33dae4e9",
   "metadata": {},
   "outputs": [],
   "source": [
    "Path('./mg_run').mkdir(exist_ok=True)\n",
    "os.chdir('./mg_run')"
   ]
  },
  {
   "cell_type": "markdown",
   "id": "de2cc296",
   "metadata": {},
   "source": [
    "Recall that when we created the MGXS Library, we provided both the original geometry and materials from the summary file. The `create_mg_mode` method of the library will generate new materials and geometry for the model that apply the multi-group cross sections we've generated here."
   ]
  },
  {
   "cell_type": "code",
   "execution_count": null,
   "id": "dc462585",
   "metadata": {},
   "outputs": [],
   "source": [
    "mgxs_file, mg_materials, mg_geometry = mgxs_lib.create_mg_mode(xsdata_names=['uo2', 'zirc', 'water'])"
   ]
  },
  {
   "cell_type": "code",
   "execution_count": null,
   "id": "5012325a",
   "metadata": {},
   "outputs": [],
   "source": [
    "mg_materials"
   ]
  },
  {
   "cell_type": "markdown",
   "id": "5659e0ce",
   "metadata": {},
   "source": [
    "We can then apply these cross sections to our existing materials by setting the `cross_sections` parameter of the `materials` object. The multi-group cross sections will also need to be exported to OpenMC's HDF5 format."
   ]
  },
  {
   "cell_type": "code",
   "execution_count": null,
   "id": "d0f68583",
   "metadata": {},
   "outputs": [],
   "source": [
    "mgxs_file.export_to_hdf5()  # default filename is 'mgxs.h5'"
   ]
  },
  {
   "cell_type": "code",
   "execution_count": null,
   "id": "19ba72e5",
   "metadata": {},
   "outputs": [],
   "source": [
    "!ls"
   ]
  },
  {
   "cell_type": "code",
   "execution_count": null,
   "id": "e89e54f5",
   "metadata": {},
   "outputs": [],
   "source": [
    "mg_materials.cross_sections = './mgxs.h5'"
   ]
  },
  {
   "cell_type": "code",
   "execution_count": null,
   "id": "e82cc53c",
   "metadata": {},
   "outputs": [],
   "source": [
    "settings = openmc.Settings()\n",
    "point = openmc.stats.Point((0, 0, 0))\n",
    "src = openmc.Source(space=point)\n",
    "settings.source = src\n",
    "settings.batches = 150\n",
    "settings.inactive = 10\n",
    "settings.particles = 1000"
   ]
  },
  {
   "cell_type": "code",
   "execution_count": null,
   "id": "64114b16",
   "metadata": {},
   "outputs": [],
   "source": [
    "# set mode to mult-group\n",
    "settings.energy_mode = 'multi-group'\n",
    "settings.export_to_xml()"
   ]
  },
  {
   "cell_type": "code",
   "execution_count": null,
   "id": "b6b808fc",
   "metadata": {},
   "outputs": [],
   "source": [
    "!ls"
   ]
  },
  {
   "cell_type": "code",
   "execution_count": null,
   "id": "015eb46a",
   "metadata": {},
   "outputs": [],
   "source": [
    "openmc.run()"
   ]
  },
  {
   "cell_type": "code",
   "execution_count": null,
   "id": "b148d5d9",
   "metadata": {},
   "outputs": [],
   "source": [
    "#TODO: Generate the missing input files needed to run OpenMC"
   ]
  },
  {
   "cell_type": "code",
   "execution_count": null,
   "id": "6e486706",
   "metadata": {},
   "outputs": [],
   "source": [
    "openmc.run()"
   ]
  },
  {
   "cell_type": "markdown",
   "id": "0dad30df",
   "metadata": {},
   "source": [
    "\n",
    "## <span style=\"color:red\">Best practices when working with StatePoint files </span>\n"
   ]
  },
  {
   "cell_type": "markdown",
   "id": "dd8e146d",
   "metadata": {},
   "source": [
    "For the purposes of the workshop we've been working with a `StatePoint` object throughout the notebook. This has allowed us to interactively examine data stored in the file, but generally it's best to gather what information is needed from the `StatePoint` inside a context-manager like so:\n",
    "\n",
    "```python\n",
    "with openmc.StatePoint('statepoint.100.h5') as sp:\n",
    "    keff = sp.k_combined\n",
    "    tallies = sp.tallies\n",
    "```\n",
    "\n",
    "This ensures that the file handles of the HDF5 `statepoint.100.h5` and `summary.h5` files are released and another OpenMC simulation that overwrites these files can be performed withtout error.\n",
    "\n",
    "Alternatively, one can use a `StatePoint` object as we have here and delete the `StatePoint` object to free these file handles.\n",
    "\n",
    "```python\n",
    "del sp\n",
    "```"
   ]
  },
  {
   "cell_type": "code",
   "execution_count": null,
   "id": "1b2d5a8c",
   "metadata": {},
   "outputs": [],
   "source": [
    "with openmc.StatePoint('statepoint.150.h5') as multigroup_sp:\n",
    "    k_eff_part2 = multigroup_sp.k_combined"
   ]
  },
  {
   "cell_type": "code",
   "execution_count": null,
   "id": "32063fb9",
   "metadata": {},
   "outputs": [],
   "source": [
    "print(\"Continuous Energy k-eff: {}\".format(k_eff_part1))\n",
    "print(\"Multigroup k-eff: {}\".format(k_eff_part2))\n",
    "k_eff_diff = k_eff_part1 - k_eff_part2\n",
    "print(\"Difference: {}\".format(k_eff_diff))"
   ]
  }
 ],
 "metadata": {
  "kernelspec": {
   "display_name": "Python 3",
   "language": "python",
   "name": "python3"
  },
  "language_info": {
   "codemirror_mode": {
    "name": "ipython",
    "version": 3
   },
   "file_extension": ".py",
   "mimetype": "text/x-python",
   "name": "python",
   "nbconvert_exporter": "python",
   "pygments_lexer": "ipython3",
   "version": "3.8.0"
  }
 },
 "nbformat": 4,
 "nbformat_minor": 5
}
