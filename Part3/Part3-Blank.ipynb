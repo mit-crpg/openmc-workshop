{
 "cells": [
  {
   "cell_type": "code",
   "execution_count": null,
   "metadata": {},
   "outputs": [],
   "source": [
    "%matplotlib inline\n",
    "import matplotlib.pyplot as plt\n",
    "import numpy as np\n",
    "import seaborn as sns  # This optional package makes plots prettier\n",
    "\n",
    "import openmc"
   ]
  },
  {
   "cell_type": "markdown",
   "metadata": {},
   "source": [
    "## The statepoint file\n",
    "\n",
    "Let's begin by loading the statepoint HDF5 file for batch 50 into the Python API's `openmc.StatePoint` class:"
   ]
  },
  {
   "cell_type": "code",
   "execution_count": null,
   "metadata": {},
   "outputs": [],
   "source": [
    "!cp ../Part2/statepoint.50.h5 ../Part2/summary.h5 ."
   ]
  },
  {
   "cell_type": "code",
   "execution_count": null,
   "metadata": {},
   "outputs": [],
   "source": [
    "sp = openmc.StatePoint('statepoint.50.h5')"
   ]
  },
  {
   "cell_type": "markdown",
   "metadata": {},
   "source": [
    "The statepoint file contains some metadata like the date and time that it was written."
   ]
  },
  {
   "cell_type": "code",
   "execution_count": null,
   "metadata": {},
   "outputs": [],
   "source": [
    "sp.date_and_time"
   ]
  },
  {
   "cell_type": "markdown",
   "metadata": {},
   "source": [
    "OpenMC computes a number of estimators for the multiplication factor $k_\\text{eff}$. Each of these estimators is stored as an attribute in the `StatePoint` class. We can report an ensemble-averaged estimator through the `StatePoint.k_combined` property with an `ndarray` storing the mean and uncertainty."
   ]
  },
  {
   "cell_type": "code",
   "execution_count": null,
   "metadata": {},
   "outputs": [],
   "source": [
    "sp.k_combined"
   ]
  },
  {
   "cell_type": "markdown",
   "metadata": {},
   "source": [
    "## Convergence of k and entropy\n",
    "\n",
    "The statepoint file records the $k_\\text{eff}$ and entropy values for every neutron generation.  These values should be converged in the inactive batches.  Let's plot them with Matplotlib."
   ]
  },
  {
   "cell_type": "code",
   "execution_count": null,
   "metadata": {},
   "outputs": [],
   "source": [
    "plt.plot(sp.k_generation)"
   ]
  },
  {
   "cell_type": "code",
   "execution_count": null,
   "metadata": {},
   "outputs": [],
   "source": [
    "plt.plot(sp.entropy)"
   ]
  },
  {
   "cell_type": "markdown",
   "metadata": {},
   "source": [
    "It looks like entropy still had some long-term trends in the active batches between about 10 and 40.  That means are tallies probably have some bias in them.  A proper calculation should use more inactive batches (or a better initial guess on the source distribution), but this is good enough for demonstration purposes."
   ]
  },
  {
   "cell_type": "markdown",
   "metadata": {},
   "source": [
    "## Getting Tally objects from the statepoint\n",
    "\n",
    "Our `StatePoint` also has a number of different `Tally` objects stored in the `StatePoint.tallies` as a `dict`. We can inspect one the `Tally` objects by directly indexing into `tallies` with the appropriate ID:"
   ]
  },
  {
   "cell_type": "code",
   "execution_count": null,
   "metadata": {},
   "outputs": [],
   "source": [
    "sp.tallies.keys()"
   ]
  },
  {
   "cell_type": "code",
   "execution_count": null,
   "metadata": {
    "scrolled": true
   },
   "outputs": [],
   "source": [
    "sp.tallies[1]"
   ]
  },
  {
   "cell_type": "markdown",
   "metadata": {},
   "source": [
    "Sometimes you may not know the ID number of the tally.  So in order to find the tally you need, there is a `get_tally(...)` method which allows one to retrieve a `Tally` object with an arbitrary subset or combination of the following information:\n",
    "\n",
    "* integer ID\n",
    "* string name\n",
    "* one or more string scores\n",
    "* one or more `Filter` objects\n",
    "* one or more string nuclides\n",
    "\n",
    "As an example, let's retrieve the `Tally` using its string name:"
   ]
  },
  {
   "cell_type": "code",
   "execution_count": null,
   "metadata": {},
   "outputs": [],
   "source": [
    "mesh_fiss = sp.get_tally(name='mesh fission')"
   ]
  },
  {
   "cell_type": "markdown",
   "metadata": {},
   "source": [
    "As we can see, this has extracted the `Tally` with the name `\"mesh_fiss\"` into a new Python variable called `mesh_fiss`. Let's extract a few other `Tally` objects into their own respective variables. Docs: https://docs.openmc.org/en/stable/pythonapi/generated/openmc.StatePoint.html#openmc.StatePoint.get_tally"
   ]
  },
  {
   "cell_type": "code",
   "execution_count": null,
   "metadata": {},
   "outputs": [],
   "source": [
    "distribcell = sp.get_tally(name='distribcell')\n",
    "# There are many ways to locate tallies, including scores.\n",
    "flux = sp.get_tally(scores=['flux'])"
   ]
  },
  {
   "cell_type": "markdown",
   "metadata": {},
   "source": [
    "## Pandas DataFames for tallies\n",
    "\n",
    "The easiest way to analyze tallies in the Python API is with the [Pandas](http://pandas.pydata.org/) Python package."
   ]
  },
  {
   "cell_type": "code",
   "execution_count": null,
   "metadata": {},
   "outputs": [],
   "source": [
    "df = mesh_fiss.get_pandas_dataframe()\n",
    "df.head(10)  # Show the first 10 rows"
   ]
  },
  {
   "cell_type": "code",
   "execution_count": null,
   "metadata": {},
   "outputs": [],
   "source": [
    "df = flux.get_pandas_dataframe()\n",
    "df.head(10)"
   ]
  },
  {
   "cell_type": "code",
   "execution_count": null,
   "metadata": {},
   "outputs": [],
   "source": [
    "df = distribcell.get_pandas_dataframe()\n",
    "df.head(10)"
   ]
  },
  {
   "cell_type": "markdown",
   "metadata": {},
   "source": [
    "Pandas does more than just format tables.  Pandas is a very powerful data processing tool.  One of the most important features is \"fancy indexing\".  This allows you to quickly isolate the data you want using a Boolean expression.  For example, here's how to focus on reaction rates for U-235."
   ]
  },
  {
   "cell_type": "code",
   "execution_count": null,
   "metadata": {},
   "outputs": [],
   "source": [
    "df = mesh_fiss.get_pandas_dataframe()\n",
    "indices = df['nuclide'] == 'U235'\n",
    "indices.head(5)"
   ]
  },
  {
   "cell_type": "code",
   "execution_count": null,
   "metadata": {},
   "outputs": [],
   "source": [
    "sub_df = df[df['nuclide'] == 'U235']\n",
    "sub_df.head(5)"
   ]
  },
  {
   "cell_type": "markdown",
   "metadata": {},
   "source": [
    "Now consider the case where we wish to select from `sub_df` those mesh cells which have a \"fission\" rate that is above the average:"
   ]
  },
  {
   "cell_type": "code",
   "execution_count": null,
   "metadata": {},
   "outputs": [],
   "source": [
    "# Replace 0's with NaN to eliminate them from average.\n",
    "sub_df = sub_df.replace(0, np.nan)\n",
    "\n",
    "# Extract rows corresponding to above-average fission rates.\n",
    "indices = sub_df['mean'] > sub_df['mean'].mean()\n",
    "above_avg = sub_df[indices]\n",
    "above_avg.head(5)"
   ]
  },
  {
   "cell_type": "markdown",
   "metadata": {},
   "source": [
    "Finally, let's use Pandas fancy indexing to select the data corresponding to those mesh cells in the lower left triangle of the mesh:"
   ]
  },
  {
   "cell_type": "code",
   "execution_count": null,
   "metadata": {
    "scrolled": true
   },
   "outputs": [],
   "source": [
    "indices = df[('mesh 1', 'x')] > df[('mesh 1', 'y')]\n",
    "lower = df[indices]\n",
    "lower.head(5)"
   ]
  },
  {
   "cell_type": "markdown",
   "metadata": {},
   "source": [
    "## Plotting flux tallies\n",
    "\n",
    "Next, let's use Matplotlib to plot the flux energy spectrum.  The first step is to get the DataFrame for the flux tally and extract the mean values."
   ]
  },
  {
   "cell_type": "code",
   "execution_count": null,
   "metadata": {},
   "outputs": [],
   "source": [
    "df = flux.get_pandas_dataframe()\n",
    "df.head(5)"
   ]
  },
  {
   "cell_type": "code",
   "execution_count": null,
   "metadata": {
    "collapsed": true
   },
   "outputs": [],
   "source": [
    "# Extract the flux mean values array.\n",
    "fluxes = df['mean'].values"
   ]
  },
  {
   "cell_type": "markdown",
   "metadata": {},
   "source": [
    "We also need an array of the energy grid points.  We could get that array from the `'energy low [eV]'` and the `'energy high [eV]'` columns of the DataFrame, but it is easier to extract from the `EnergyFilter` attached to the tally."
   ]
  },
  {
   "cell_type": "code",
   "execution_count": null,
   "metadata": {},
   "outputs": [],
   "source": [
    "# Extract the energy bins from the Tally's EnergyFilter\n",
    "energy_filter = flux.find_filter(openmc.EnergyFilter)\n",
    "energies = energy_filter.bins"
   ]
  },
  {
   "cell_type": "code",
   "execution_count": null,
   "metadata": {
    "scrolled": false
   },
   "outputs": [],
   "source": [
    "fig = plt.figure()\n",
    "plt.loglog(energies, fluxes, drawstyle='steps', c='r')\n",
    "plt.xlabel('Energy [eV]')\n",
    "plt.ylabel('Flux')"
   ]
  },
  {
   "cell_type": "markdown",
   "metadata": {},
   "source": [
    "## Potting mesh tallies\n",
    "\n",
    "Mesh tallies can be quickly plotted with the `matplotlib.imshow` function."
   ]
  },
  {
   "cell_type": "code",
   "execution_count": null,
   "metadata": {},
   "outputs": [],
   "source": [
    "df = mesh_fiss.get_pandas_dataframe()\n",
    "df.head(5)"
   ]
  },
  {
   "cell_type": "code",
   "execution_count": null,
   "metadata": {},
   "outputs": [],
   "source": [
    "ufiss = df[(df['nuclide'] == 'U235') & (df['score'] == 'fission')]\n",
    "mean = ufiss['mean'].values\n",
    "rel_err = ufiss['std. dev.'].values / mean\n",
    "\n",
    "# Reshape the arrays.\n",
    "mean.shape = (9, 9) #(17, 17)\n",
    "rel_err.shape = (9, 9) #(17, 17)\n",
    "\n",
    "# The edges are half-width; account for that.\n",
    "mean[0, :] *= 2\n",
    "mean[:, 0] *= 2\n",
    "\n",
    "# Transpose them to match the order expected by imshow.\n",
    "mean = mean.T\n",
    "rel_err = rel_err.T"
   ]
  },
  {
   "cell_type": "code",
   "execution_count": null,
   "metadata": {},
   "outputs": [],
   "source": [
    "# Plot the mean on the left.\n",
    "fig = plt.subplot(121)\n",
    "plt.imshow(mean, interpolation='none', cmap='jet')\n",
    "plt.ylim(plt.ylim()[::-1])  # Invert the y-axis.\n",
    "plt.title('Mean')\n",
    "plt.grid(False)\n",
    "\n",
    "# Plot the uncertainty on the right.\n",
    "fig2 = plt.subplot(122)\n",
    "plt.imshow(rel_err, interpolation='none', cmap='jet')\n",
    "plt.ylim(plt.ylim()[::-1])  # Invert the y-axis.\n",
    "plt.title('Rel. Unc.')\n",
    "plt.grid(False)"
   ]
  },
  {
   "cell_type": "markdown",
   "metadata": {},
   "source": [
    "This mesh tally of fission rates particularly informative since the dark blue guide tube do not have any fission and skew the color bar. We can rectify this issue with a little trick to Matplotlib's color scheme as follows."
   ]
  },
  {
   "cell_type": "code",
   "execution_count": null,
   "metadata": {
    "scrolled": false
   },
   "outputs": [],
   "source": [
    "# Assign a NaN to zero fission rates in guide tubes\n",
    "# Matplotlib will ignore \"bad\" values in the colorbar\n",
    "mean[mean == 0.] = np.nan\n",
    "cmap = plt.get_cmap('jet').copy()\n",
    "cmap.set_bad(alpha=0.)\n",
    "\n",
    "# Plot the mean on the left.\n",
    "fig = plt.subplot(121)\n",
    "plt.imshow(mean, interpolation='none', cmap='jet')\n",
    "plt.ylim(plt.ylim()[::-1])  # Invert the y-axis.\n",
    "plt.title('Mean')\n",
    "plt.grid(False)\n",
    "\n",
    "# Plot the uncertainty on the right.\n",
    "fig2 = plt.subplot(122)\n",
    "plt.imshow(rel_err, interpolation='none', cmap='jet')\n",
    "plt.ylim(plt.ylim()[::-1])  # Invert the y-axis.\n",
    "plt.title('Rel. Unc.')\n",
    "plt.grid(False)"
   ]
  },
  {
   "cell_type": "markdown",
   "metadata": {},
   "source": [
    "## Other ways to get tally data\n",
    "\n",
    "Note that Pandas DataFrames are not the only way to interact with tally data!  If DataFrames do not work with your use case, try the `Tally.get_value()` method or accessing `Tally.mean` and `Tally.std_dev` directly."
   ]
  }
 ],
 "metadata": {
  "kernelspec": {
   "display_name": "Python 3 (ipykernel)",
   "language": "python",
   "name": "python3"
  },
  "language_info": {
   "codemirror_mode": {
    "name": "ipython",
    "version": 3
   },
   "file_extension": ".py",
   "mimetype": "text/x-python",
   "name": "python",
   "nbconvert_exporter": "python",
   "pygments_lexer": "ipython3",
   "version": "3.10.4"
  }
 },
 "nbformat": 4,
 "nbformat_minor": 1
}
