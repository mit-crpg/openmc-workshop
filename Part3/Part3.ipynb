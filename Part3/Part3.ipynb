{
 "cells": [
  {
   "cell_type": "markdown",
   "metadata": {},
   "source": [
    "# Part 3: The OpenMC C-API\n",
    "\n",
    "Welcome to the third part of the OpenMC workshop. This section will show the basics of using OpenMC's C-API for performing multiphysics coupling. OpenMC's C-API allows you to interact with an OpenMC simulation in-memory by changing cell temperatures and densities, adding/removing tallies, and much more - all without re-initializing OpenMC between multiphysics feedback steps.\n",
    "\n",
    "<span style=\"color:red\">HINTS:</span>\n",
    "* To run the commands, click on the relevant cell and hit the `shift + enter` keys simultaneously\n",
    "\n",
    "Debugging tips\n",
    "* Did you run all of the cells above your current cell? Try `Run -> Run All Above Selected Cell` from the menu\n",
    "* Has the cell accidentally been switched from a `Code` cell to a `Raw` or `Markdown` cell? Check the dropdown menu that is to the far right of the save button\n",
    "* If all else fails, switch over to the filled-in .ipynb file."
   ]
  },
  {
   "cell_type": "markdown",
   "metadata": {},
   "source": [
    "# Problem Description\n",
    "\n",
    "This example will couple OpenMC to a basic thermal-fluids solver for a UO2 pincell in water. \n",
    "\n",
    "![](setup.png)\n",
    "\n",
    "OpenMC will send a volumetric heat source to the thermal-fluids solver, which will use this heat source to compute temperatures and densities that will be sent back to OpenMC. The two physics (OpenMC, thermal-fluids) will then be iterated several times in-memory.\n",
    "\n",
    "We will divide the problem into $N$ axial cells in both OpenMC and the T/H app, with coupling between layer $i$ in OpenMC and layer $i$ in the T/H app. We will not couple solid _density_ to this problem because to properly conserve the fissile mass, this would require re-generation of the geometry (i.e. larger or smaller pin radii) with each coupled physics iteration.\n",
    "\n",
    "To keep our main focus on OpenMC, all of the T/H physics is located in a separate Python module, `part3_backend`. This module contains functions that compute the fluid temperature, fluid density, and solid temperature based on steady state energy conservation. If you are interested in the models used for the thermal physics, please peruse this backend after the workshop!\n",
    "\n",
    "\n"
   ]
  },
  {
   "cell_type": "code",
   "execution_count": 1,
   "metadata": {},
   "outputs": [
    {
     "ename": "AttributeError",
     "evalue": "dlsym(0x7fb52b4cc810, openmc_rectilinear_mesh_get_grid): symbol not found",
     "output_type": "error",
     "traceback": [
      "\u001b[0;31m---------------------------------------------------------------------------\u001b[0m",
      "\u001b[0;31mAttributeError\u001b[0m                            Traceback (most recent call last)",
      "\u001b[0;32m<ipython-input-1-f16a7432ecce>\u001b[0m in \u001b[0;36m<module>\u001b[0;34m\u001b[0m\n\u001b[1;32m      8\u001b[0m \u001b[0;34m\u001b[0m\u001b[0m\n\u001b[1;32m      9\u001b[0m \u001b[0;32mimport\u001b[0m \u001b[0mopenmc\u001b[0m\u001b[0;34m\u001b[0m\u001b[0;34m\u001b[0m\u001b[0m\n\u001b[0;32m---> 10\u001b[0;31m \u001b[0;32mimport\u001b[0m \u001b[0mopenmc\u001b[0m\u001b[0;34m.\u001b[0m\u001b[0mlib\u001b[0m\u001b[0;34m\u001b[0m\u001b[0;34m\u001b[0m\u001b[0m\n\u001b[0m\u001b[1;32m     11\u001b[0m \u001b[0;34m\u001b[0m\u001b[0m\n\u001b[1;32m     12\u001b[0m \u001b[0;31m# import the T/H physics\u001b[0m\u001b[0;34m\u001b[0m\u001b[0;34m\u001b[0m\u001b[0;34m\u001b[0m\u001b[0m\n",
      "\u001b[0;32m~/miniconda3/envs/moose/lib/python3.7/site-packages/openmc/lib/__init__.py\u001b[0m in \u001b[0;36m<module>\u001b[0;34m\u001b[0m\n\u001b[1;32m     51\u001b[0m \u001b[0;32mfrom\u001b[0m \u001b[0;34m.\u001b[0m\u001b[0mmaterial\u001b[0m \u001b[0;32mimport\u001b[0m \u001b[0;34m*\u001b[0m\u001b[0;34m\u001b[0m\u001b[0;34m\u001b[0m\u001b[0m\n\u001b[1;32m     52\u001b[0m \u001b[0;32mfrom\u001b[0m \u001b[0;34m.\u001b[0m\u001b[0mcell\u001b[0m \u001b[0;32mimport\u001b[0m \u001b[0;34m*\u001b[0m\u001b[0;34m\u001b[0m\u001b[0;34m\u001b[0m\u001b[0m\n\u001b[0;32m---> 53\u001b[0;31m \u001b[0;32mfrom\u001b[0m \u001b[0;34m.\u001b[0m\u001b[0mmesh\u001b[0m \u001b[0;32mimport\u001b[0m \u001b[0;34m*\u001b[0m\u001b[0;34m\u001b[0m\u001b[0;34m\u001b[0m\u001b[0m\n\u001b[0m\u001b[1;32m     54\u001b[0m \u001b[0;32mfrom\u001b[0m \u001b[0;34m.\u001b[0m\u001b[0mfilter\u001b[0m \u001b[0;32mimport\u001b[0m \u001b[0;34m*\u001b[0m\u001b[0;34m\u001b[0m\u001b[0;34m\u001b[0m\u001b[0m\n\u001b[1;32m     55\u001b[0m \u001b[0;32mfrom\u001b[0m \u001b[0;34m.\u001b[0m\u001b[0mtally\u001b[0m \u001b[0;32mimport\u001b[0m \u001b[0;34m*\u001b[0m\u001b[0;34m\u001b[0m\u001b[0;34m\u001b[0m\u001b[0m\n",
      "\u001b[0;32m~/miniconda3/envs/moose/lib/python3.7/site-packages/openmc/lib/mesh.py\u001b[0m in \u001b[0;36m<module>\u001b[0;34m\u001b[0m\n\u001b[1;32m     32\u001b[0m _dll.openmc_rectilinear_mesh_get_grid.argtypes = [c_int32,\n\u001b[1;32m     33\u001b[0m     \u001b[0mPOINTER\u001b[0m\u001b[0;34m(\u001b[0m\u001b[0mPOINTER\u001b[0m\u001b[0;34m(\u001b[0m\u001b[0mc_double\u001b[0m\u001b[0;34m)\u001b[0m\u001b[0;34m)\u001b[0m\u001b[0;34m,\u001b[0m \u001b[0mPOINTER\u001b[0m\u001b[0;34m(\u001b[0m\u001b[0mc_int\u001b[0m\u001b[0;34m)\u001b[0m\u001b[0;34m,\u001b[0m \u001b[0mPOINTER\u001b[0m\u001b[0;34m(\u001b[0m\u001b[0mPOINTER\u001b[0m\u001b[0;34m(\u001b[0m\u001b[0mc_double\u001b[0m\u001b[0;34m)\u001b[0m\u001b[0;34m)\u001b[0m\u001b[0;34m,\u001b[0m\u001b[0;34m\u001b[0m\u001b[0;34m\u001b[0m\u001b[0m\n\u001b[0;32m---> 34\u001b[0;31m     POINTER(c_int), POINTER(POINTER(c_double)), POINTER(c_int)]\n\u001b[0m\u001b[1;32m     35\u001b[0m \u001b[0m_dll\u001b[0m\u001b[0;34m.\u001b[0m\u001b[0mopenmc_rectilinear_mesh_get_grid\u001b[0m\u001b[0;34m.\u001b[0m\u001b[0mrestype\u001b[0m \u001b[0;34m=\u001b[0m \u001b[0mc_int\u001b[0m\u001b[0;34m\u001b[0m\u001b[0;34m\u001b[0m\u001b[0m\n\u001b[1;32m     36\u001b[0m \u001b[0m_dll\u001b[0m\u001b[0;34m.\u001b[0m\u001b[0mopenmc_rectilinear_mesh_get_grid\u001b[0m\u001b[0;34m.\u001b[0m\u001b[0merrcheck\u001b[0m \u001b[0;34m=\u001b[0m \u001b[0m_error_handler\u001b[0m\u001b[0;34m\u001b[0m\u001b[0;34m\u001b[0m\u001b[0m\n",
      "\u001b[0;32m~/miniconda3/envs/moose/lib/python3.7/ctypes/__init__.py\u001b[0m in \u001b[0;36m__getattr__\u001b[0;34m(self, name)\u001b[0m\n\u001b[1;32m    375\u001b[0m         \u001b[0;32mif\u001b[0m \u001b[0mname\u001b[0m\u001b[0;34m.\u001b[0m\u001b[0mstartswith\u001b[0m\u001b[0;34m(\u001b[0m\u001b[0;34m'__'\u001b[0m\u001b[0;34m)\u001b[0m \u001b[0;32mand\u001b[0m \u001b[0mname\u001b[0m\u001b[0;34m.\u001b[0m\u001b[0mendswith\u001b[0m\u001b[0;34m(\u001b[0m\u001b[0;34m'__'\u001b[0m\u001b[0;34m)\u001b[0m\u001b[0;34m:\u001b[0m\u001b[0;34m\u001b[0m\u001b[0;34m\u001b[0m\u001b[0m\n\u001b[1;32m    376\u001b[0m             \u001b[0;32mraise\u001b[0m \u001b[0mAttributeError\u001b[0m\u001b[0;34m(\u001b[0m\u001b[0mname\u001b[0m\u001b[0;34m)\u001b[0m\u001b[0;34m\u001b[0m\u001b[0;34m\u001b[0m\u001b[0m\n\u001b[0;32m--> 377\u001b[0;31m         \u001b[0mfunc\u001b[0m \u001b[0;34m=\u001b[0m \u001b[0mself\u001b[0m\u001b[0;34m.\u001b[0m\u001b[0m__getitem__\u001b[0m\u001b[0;34m(\u001b[0m\u001b[0mname\u001b[0m\u001b[0;34m)\u001b[0m\u001b[0;34m\u001b[0m\u001b[0;34m\u001b[0m\u001b[0m\n\u001b[0m\u001b[1;32m    378\u001b[0m         \u001b[0msetattr\u001b[0m\u001b[0;34m(\u001b[0m\u001b[0mself\u001b[0m\u001b[0;34m,\u001b[0m \u001b[0mname\u001b[0m\u001b[0;34m,\u001b[0m \u001b[0mfunc\u001b[0m\u001b[0;34m)\u001b[0m\u001b[0;34m\u001b[0m\u001b[0;34m\u001b[0m\u001b[0m\n\u001b[1;32m    379\u001b[0m         \u001b[0;32mreturn\u001b[0m \u001b[0mfunc\u001b[0m\u001b[0;34m\u001b[0m\u001b[0;34m\u001b[0m\u001b[0m\n",
      "\u001b[0;32m~/miniconda3/envs/moose/lib/python3.7/ctypes/__init__.py\u001b[0m in \u001b[0;36m__getitem__\u001b[0;34m(self, name_or_ordinal)\u001b[0m\n\u001b[1;32m    380\u001b[0m \u001b[0;34m\u001b[0m\u001b[0m\n\u001b[1;32m    381\u001b[0m     \u001b[0;32mdef\u001b[0m \u001b[0m__getitem__\u001b[0m\u001b[0;34m(\u001b[0m\u001b[0mself\u001b[0m\u001b[0;34m,\u001b[0m \u001b[0mname_or_ordinal\u001b[0m\u001b[0;34m)\u001b[0m\u001b[0;34m:\u001b[0m\u001b[0;34m\u001b[0m\u001b[0;34m\u001b[0m\u001b[0m\n\u001b[0;32m--> 382\u001b[0;31m         \u001b[0mfunc\u001b[0m \u001b[0;34m=\u001b[0m \u001b[0mself\u001b[0m\u001b[0;34m.\u001b[0m\u001b[0m_FuncPtr\u001b[0m\u001b[0;34m(\u001b[0m\u001b[0;34m(\u001b[0m\u001b[0mname_or_ordinal\u001b[0m\u001b[0;34m,\u001b[0m \u001b[0mself\u001b[0m\u001b[0;34m)\u001b[0m\u001b[0;34m)\u001b[0m\u001b[0;34m\u001b[0m\u001b[0;34m\u001b[0m\u001b[0m\n\u001b[0m\u001b[1;32m    383\u001b[0m         \u001b[0;32mif\u001b[0m \u001b[0;32mnot\u001b[0m \u001b[0misinstance\u001b[0m\u001b[0;34m(\u001b[0m\u001b[0mname_or_ordinal\u001b[0m\u001b[0;34m,\u001b[0m \u001b[0mint\u001b[0m\u001b[0;34m)\u001b[0m\u001b[0;34m:\u001b[0m\u001b[0;34m\u001b[0m\u001b[0;34m\u001b[0m\u001b[0m\n\u001b[1;32m    384\u001b[0m             \u001b[0mfunc\u001b[0m\u001b[0;34m.\u001b[0m\u001b[0m__name__\u001b[0m \u001b[0;34m=\u001b[0m \u001b[0mname_or_ordinal\u001b[0m\u001b[0;34m\u001b[0m\u001b[0;34m\u001b[0m\u001b[0m\n",
      "\u001b[0;31mAttributeError\u001b[0m: dlsym(0x7fb52b4cc810, openmc_rectilinear_mesh_get_grid): symbol not found"
     ]
    }
   ],
   "source": [
    "# import all of the modules we will need\n",
    "import numpy as np\n",
    "import matplotlib\n",
    "import matplotlib.pyplot as plt\n",
    "import os\n",
    "import sys\n",
    "\n",
    "import openmc\n",
    "import openmc.lib\n",
    "\n",
    "# import the T/H physics\n",
    "import part3_backend"
   ]
  },
  {
   "cell_type": "markdown",
   "metadata": {},
   "source": [
    "## Set up Thermal-Fluids Solver"
   ]
  },
  {
   "cell_type": "markdown",
   "metadata": {},
   "source": [
    "Next, define the material properties and boundary conditions related to the thermal-hydraulic solver.\n",
    "These values shown here roughly correspond to Pressurized Water Reactor (PWR) conditions."
   ]
  },
  {
   "cell_type": "code",
   "execution_count": 2,
   "metadata": {},
   "outputs": [],
   "source": [
    "R = 0.97 / 2.0           # outer radius of the pincell (cm)\n",
    "Rf = 0.825 / 2.0         # outer radius of the pellet (cm)\n",
    "pitch = 1.28             # pitch between pincells (cm)\n",
    "height = 381.0           # height of the pincell (cm)\n",
    "\n",
    "power = 60.0e3           # total power produced by pincell (W)\n",
    "T_inlet = 573.0          # inlet water temperature (K)"
   ]
  },
  {
   "cell_type": "markdown",
   "metadata": {},
   "source": [
    "Next, specify the number of layers we want to build in our model. Note that the more layers you add, the more particles you will need to see acceptable tally statistics in each layer!"
   ]
  },
  {
   "cell_type": "code",
   "execution_count": 4,
   "metadata": {},
   "outputs": [
    {
     "ename": "NameError",
     "evalue": "name 'height' is not defined",
     "output_type": "error",
     "traceback": [
      "\u001b[0;31m---------------------------------------------------------------------------\u001b[0m",
      "\u001b[0;31mNameError\u001b[0m                                 Traceback (most recent call last)",
      "\u001b[0;32m<ipython-input-4-7317ff0522cd>\u001b[0m in \u001b[0;36m<module>\u001b[0;34m\u001b[0m\n\u001b[1;32m      1\u001b[0m \u001b[0mN\u001b[0m \u001b[0;34m=\u001b[0m \u001b[0;36m10\u001b[0m                    \u001b[0;31m# number of coupling layers\u001b[0m\u001b[0;34m\u001b[0m\u001b[0;34m\u001b[0m\u001b[0m\n\u001b[0;32m----> 2\u001b[0;31m \u001b[0mH\u001b[0m \u001b[0;34m=\u001b[0m \u001b[0mheight\u001b[0m \u001b[0;34m/\u001b[0m \u001b[0mN\u001b[0m            \u001b[0;31m# height of each coupling layer\u001b[0m\u001b[0;34m\u001b[0m\u001b[0;34m\u001b[0m\u001b[0m\n\u001b[0m",
      "\u001b[0;31mNameError\u001b[0m: name 'height' is not defined"
     ]
    }
   ],
   "source": [
    "N = 10                    # number of coupling layers         \n",
    "H = height / N            # height of each coupling layer"
   ]
  },
  {
   "cell_type": "markdown",
   "metadata": {},
   "source": [
    "# Materials"
   ]
  },
  {
   "cell_type": "markdown",
   "metadata": {},
   "source": [
    "Now, let's define the materials we need for the pincell problem.\n",
    "\n",
    "In OpenMC, a cell temperature can be changed without any underlying changes to the material that _fills_ that cell. For the solid regions where we are changing temperatures, but not densities, we only need a single material to represent the UO$_2$ and zircaloy."
   ]
  },
  {
   "cell_type": "code",
   "execution_count": 9,
   "metadata": {},
   "outputs": [],
   "source": [
    "# To save us some typing, we will create all the duplicated coolant materials\n",
    "# in a loop, so first make a list to which we can append all of our materials\n",
    "all_materials = []\n",
    "\n",
    "# Then, add the materials for UO2 and zircaloy\n",
    "uo2 = openmc.Material(name = 'UO2')\n",
    "uo2.set_density('g/cm3', 10.29769)\n",
    "uo2.add_element('U', 1.0, enrichment = 2.5)\n",
    "uo2.add_element('O', 2.0)\n",
    "all_materials.append(uo2)\n",
    "\n",
    "zircaloy = openmc.Material(material_id=3, name='Zircaloy 4')\n",
    "zircaloy.set_density('g/cm3', 6.55)\n",
    "zircaloy.add_element('Sn', 0.014, 'wo')\n",
    "zircaloy.add_element('Fe', 0.00165, 'wo')\n",
    "zircaloy.add_element('Cr', 0.001, 'wo')\n",
    "zircaloy.add_element('Zr', 0.98335, 'wo')\n",
    "all_materials.append(zircaloy)"
   ]
  },
  {
   "cell_type": "markdown",
   "metadata": {},
   "source": [
    "However, OpenMC treats density as tied to a particular material, so if we want to set $N$ different densities in the fluid, we need to create $N$ different fluid materials (even if _physically_, the coolant is water everywhere in the core)."
   ]
  },
  {
   "cell_type": "code",
   "execution_count": 11,
   "metadata": {},
   "outputs": [],
   "source": [
    "water_materials = []\n",
    "\n",
    "for i in range(N):\n",
    "  water = openmc.Material(name = 'water{:n}'.format(i))\n",
    "  water.set_density('g/cm3', part3_backend.water_density(T_inlet))\n",
    "  water.add_element('H', 2.0)\n",
    "  water.add_element('O', 1.0)\n",
    "  water.add_s_alpha_beta('c_H_in_H2O')\n",
    "\n",
    "  water_materials.append(water)\n",
    "  all_materials.append(water)"
   ]
  },
  {
   "cell_type": "markdown",
   "metadata": {},
   "source": [
    "Now, we simply need to register all of these materials in OpenMC and export them to XML for the C++ driver."
   ]
  },
  {
   "cell_type": "code",
   "execution_count": null,
   "metadata": {},
   "outputs": [],
   "source": [
    "materials = openmc.Materials(all_materials)\n",
    "materials.export_to_xml()"
   ]
  },
  {
   "cell_type": "markdown",
   "metadata": {},
   "source": [
    "# Geometry\n",
    "\n",
    "Next, let's define the geometry, starting with the surfaces. Recall that because we are coupling temperatures and densities in $N$ layers, we will need to set up surfaces that bound each of these planes so that we can create separate cells for each coupling layer. So, after setting up the surfaces bounding the pincell surface, the pellet surface, and the rectangular prism forming the outer boundary, add one surface for each plane."
   ]
  },
  {
   "cell_type": "code",
   "execution_count": 15,
   "metadata": {},
   "outputs": [],
   "source": [
    "pincell_surface = openmc.ZCylinder(r = R, name = 'Pincell outer radius')\n",
    "pellet_surface = openmc.ZCylinder(r = Rf, name = 'Pellet outer radius')\n",
    "rectangular_prism = openmc.model.rectangular_prism(width = pitch, height = pitch, axis = 'z', origin = (0.0, 0.0), boundary_type = 'reflective')\n",
    "\n",
    "# loop over all the surfaces needed to define the pincell (N + 1 for the N layers)\n",
    "planes = np.linspace(0.0, height, N + 1)\n",
    "\n",
    "plane_surfaces = []\n",
    "for i in range(N + 1):\n",
    "  plane_surfaces.append(openmc.ZPlane(z0 = planes[i]))"
   ]
  },
  {
   "cell_type": "markdown",
   "metadata": {},
   "source": [
    "If not specified, OpenMC assumes that the boundary condition on all surfaces is reflective. For our example, we would instead like vacuum boundaries on the topmost and bottommost surfaces."
   ]
  },
  {
   "cell_type": "code",
   "execution_count": 16,
   "metadata": {},
   "outputs": [],
   "source": [
    "plane_surfaces[0].boundary_type = 'vacuum'\n",
    "plane_surfaces[-1].boundary_type = 'vacuum'"
   ]
  },
  {
   "cell_type": "markdown",
   "metadata": {},
   "source": [
    "Now that we have set up all the surfaces in our problem, we can add cells. Because we coupling on $N$ layers, we'll form these cells in a loop."
   ]
  },
  {
   "cell_type": "code",
   "execution_count": 17,
   "metadata": {},
   "outputs": [],
   "source": [
    "fuel_cells = []\n",
    "clad_cells = []\n",
    "water_cells = []\n",
    "\n",
    "for i in range(N):\n",
    "  # these are the two planes that bound the current layer on top and bottom\n",
    "  layer = +plane_surfaces[i] & -plane_surfaces[i + 1]\n",
    "\n",
    "  fuel_cells.append(openmc.Cell(fill = uo2, region = -pellet_surface & layer, name = 'Fuel{:n}'.format(i)))\n",
    "    \n",
    "  clad_cells.append(openmc.Cell(fill = zircaloy, region = +pellet_surface & -pincell_surface & layer, name = 'Clad{:n}'.format(i)))\n",
    "  \n",
    "  # we need to get the correct water material that belongs to this layer\n",
    "  water_material = water_materials[i]\n",
    "  water_cells.append(openmc.Cell(fill = water, region = +pincell_surface & layer & rectangular_prism, name = 'Water{:n}'.format(i)))"
   ]
  },
  {
   "cell_type": "markdown",
   "metadata": {},
   "source": [
    "Now, we simply need to add all these cells to the root Universe for the problem and export to XML for the C++ driver."
   ]
  },
  {
   "cell_type": "code",
   "execution_count": 18,
   "metadata": {},
   "outputs": [],
   "source": [
    "root = openmc.Universe(name = 'root')\n",
    "root.add_cells(fuel_cells)\n",
    "root.add_cells(clad_cells)\n",
    "root.add_cells(water_cells)\n",
    "\n",
    "geometry = openmc.Geometry(root)\n",
    "geometry.export_to_xml()"
   ]
  },
  {
   "cell_type": "markdown",
   "metadata": {},
   "source": [
    "## Tallies\n",
    "\n",
    "In order to provide a power to our T/H app, we need to extract the fission power from OpenMC. We therefore need to add tallies for the recoverable fission energy that is deposited in each layer. \n",
    "\n",
    "In addition, while our thermal-fluids solver requires input of a heat source in units of Watts, OpenMC's recoverable fission energy release tally, denoted by the score `kappa-fission`, are eV per source particle. In order to convert between these units and the Watts expected by the thermal-fluids solver, we will normalize according to:\n",
    "\n",
    "$q_i=\\frac{\\kappa_i}{\\kappa_\\text{total}}P$\n",
    "\n",
    "where $\\kappa_i$ is the kappa-fission tally in layer $i$, $\\kappa_\\text{total}$ is a kappa-fission tally over the entire domain, $P$ is a specified power, and $q_i$ is the heat source (Watts) in layer $i$. Therefore, we require two tallies for this problem - one that tallies the total fission energy release over the problem (for normalization), and the second that tallies the fission energy release in each layer $i$."
   ]
  },
  {
   "cell_type": "code",
   "execution_count": 20,
   "metadata": {},
   "outputs": [],
   "source": [
    "# Total fission energy\n",
    "total_fission_tally = openmc.Tally(tally_id = 1)\n",
    "total_fission_tally.scores = ['kappa-fission']\n",
    "\n",
    "# Fission energy in each layer\n",
    "cell_filter = openmc.CellFilter(fuel_cells)\n",
    "fission_tally = openmc.Tally(tally_id = 2)\n",
    "fission_tally.filters.append(cell_filter)\n",
    "fission_tally.scores = ['kappa-fission']"
   ]
  },
  {
   "cell_type": "markdown",
   "metadata": {},
   "source": [
    "Now, we simply need to register these two tallies and export to XML."
   ]
  },
  {
   "cell_type": "code",
   "execution_count": 22,
   "metadata": {},
   "outputs": [],
   "source": [
    "tallies = openmc.Tallies([total_fission_tally, fission_tally])\n",
    "tallies.export_to_xml()"
   ]
  },
  {
   "cell_type": "markdown",
   "metadata": {},
   "source": [
    "# Starting source and settings\n",
    "\n",
    "Now come the settings. First, we will specify the initial source. Here we will just use a uniform source over all of the fissionable regions in the problem - i.e. the cylinder fuel pellet."
   ]
  },
  {
   "cell_type": "code",
   "execution_count": 23,
   "metadata": {},
   "outputs": [],
   "source": [
    "settings = openmc.Settings()\n",
    "\n",
    "# Create an initial uniform spatial source distribution over fissionable zones\n",
    "lower_left = (-pitch, -pitch, 0.0)\n",
    "upper_right = (pitch, pitch, height)\n",
    "uniform_dist = openmc.stats.Box(lower_left, upper_right, only_fissionable = True)\n",
    "\n",
    "settings.source = openmc.source.Source(space=uniform_dist)"
   ]
  },
  {
   "cell_type": "markdown",
   "metadata": {},
   "source": [
    "An important consideration for our multiphysics problem is how to incorporate temperature feedback from our thermal-fluids solver. For our multiphysics iterations, we will run OpenMC first, so we need to set an initial condition for the temperature. We can do this quickly by setting the `default` on `settings.temperature` - here, we can set the default temperature to the fluid inlet temperature just to have a guess at the eventual converged temperature distribution.\n",
    "\n",
    "Next, we want to be sure to load cross section data over a fairly wide range in temperatures - we're not sure exactly how hot the fuel is going to be for the coupled case until we run it! So we can set a `range` from 294 K to something high - say, 3000 K. This should hopefully cover all the temperatures we encounter in our coupled run.\n",
    "\n",
    "Finally, we need to set the method by which the cross section data responds to changes in temperature. Here, we use the `interpolation` method. This means that, if a cell is at temperature $T$, that the microscopic cross section is evaluated based on a stochastic interpolation between the cross sections at $T_i$ and $T_{i+1}$, where $T_i$ and $T_{i+1}$ are the temperatures that bound $T$ for which cross section data is loaded."
   ]
  },
  {
   "cell_type": "code",
   "execution_count": 2,
   "metadata": {},
   "outputs": [
    {
     "ename": "NameError",
     "evalue": "name 'settings' is not defined",
     "output_type": "error",
     "traceback": [
      "\u001b[0;31m---------------------------------------------------------------------------\u001b[0m",
      "\u001b[0;31mNameError\u001b[0m                                 Traceback (most recent call last)",
      "\u001b[0;32m<ipython-input-2-abb7ffe68bd6>\u001b[0m in \u001b[0;36m<module>\u001b[0;34m\u001b[0m\n\u001b[0;32m----> 1\u001b[0;31m \u001b[0msettings\u001b[0m\u001b[0;34m.\u001b[0m\u001b[0mbatches\u001b[0m \u001b[0;34m=\u001b[0m \u001b[0;36m300\u001b[0m\u001b[0;34m\u001b[0m\u001b[0;34m\u001b[0m\u001b[0m\n\u001b[0m\u001b[1;32m      2\u001b[0m \u001b[0msettings\u001b[0m\u001b[0;34m.\u001b[0m\u001b[0minactive\u001b[0m \u001b[0;34m=\u001b[0m \u001b[0;36m100\u001b[0m\u001b[0;34m\u001b[0m\u001b[0;34m\u001b[0m\u001b[0m\n\u001b[1;32m      3\u001b[0m \u001b[0msettings\u001b[0m\u001b[0;34m.\u001b[0m\u001b[0mparticles\u001b[0m \u001b[0;34m=\u001b[0m \u001b[0;36m5000\u001b[0m\u001b[0;34m\u001b[0m\u001b[0;34m\u001b[0m\u001b[0m\n\u001b[1;32m      4\u001b[0m \u001b[0;34m\u001b[0m\u001b[0m\n\u001b[1;32m      5\u001b[0m settings.temperature = {'default': T_inlet,\n",
      "\u001b[0;31mNameError\u001b[0m: name 'settings' is not defined"
     ]
    }
   ],
   "source": [
    "settings.batches = 50\n",
    "settings.inactive = 10\n",
    "settings.particles = 500\n",
    "\n",
    "settings.temperature = {'default': T_inlet,\n",
    "                        'method': 'interpolation',\n",
    "                        'multipole': True,\n",
    "                        'range': (294.0, 3000.0)}"
   ]
  },
  {
   "cell_type": "markdown",
   "metadata": {},
   "source": [
    "Now, simply export to XML."
   ]
  },
  {
   "cell_type": "code",
   "execution_count": 25,
   "metadata": {},
   "outputs": [],
   "source": [
    "settings.export_to_xml()"
   ]
  },
  {
   "cell_type": "markdown",
   "metadata": {},
   "source": [
    "# Running OpenMC: All-at-Once\n",
    "\n",
    "In Part 1, we ran OpenMC with the command `openmc.run()`, like this:"
   ]
  },
  {
   "cell_type": "code",
   "execution_count": null,
   "metadata": {},
   "outputs": [],
   "source": [
    "openmc.run()"
   ]
  },
  {
   "cell_type": "markdown",
   "metadata": {},
   "source": [
    "# Running OpenMC : Step-by-Step\n",
    "\n",
    "Okay, now we are finally ready to run the code! Unfortunately, while Jupyter Notebook _will_ show what is printed to the screen when running `openmc.run()`, Jupyter doesn't like the screen printing parts of the C-API - which makes this tutorial a bit more difficult to explain what the C-API is doing. To help explain the C-API, we'll refer back to the all-at-once run method with `openmc.run()`.\n",
    "\n",
    "Running OpenMC with the C-API includes the following major steps:\n",
    "\n",
    "1. Initializing OpenMC (loading cross section data, building the geometry, etc.)\n",
    "2. Clearing any tally data\n",
    "3. Running OpenMC (stochastic transport for the batches, accumulating tallies, etc.)\n",
    "4. Finalizing OpenMC (freeing dynamically-allocated memory, closing the parallel communicator, etc.)"
   ]
  },
  {
   "cell_type": "code",
   "execution_count": 26,
   "metadata": {},
   "outputs": [
    {
     "ename": "AttributeError",
     "evalue": "module 'openmc' has no attribute 'lib'",
     "output_type": "error",
     "traceback": [
      "\u001b[0;31m---------------------------------------------------------------------------\u001b[0m",
      "\u001b[0;31mAttributeError\u001b[0m                            Traceback (most recent call last)",
      "\u001b[0;32m<ipython-input-26-196af0122759>\u001b[0m in \u001b[0;36m<module>\u001b[0;34m\u001b[0m\n\u001b[0;32m----> 1\u001b[0;31m \u001b[0mopenmc\u001b[0m\u001b[0;34m.\u001b[0m\u001b[0mlib\u001b[0m\u001b[0;34m.\u001b[0m\u001b[0minit\u001b[0m\u001b[0;34m(\u001b[0m\u001b[0;34m)\u001b[0m\u001b[0;34m\u001b[0m\u001b[0;34m\u001b[0m\u001b[0m\n\u001b[0m",
      "\u001b[0;31mAttributeError\u001b[0m: module 'openmc' has no attribute 'lib'"
     ]
    }
   ],
   "source": [
    "openmc.lib.init()"
   ]
  },
  {
   "cell_type": "markdown",
   "metadata": {},
   "source": [
    "This function reads all of the XML files associated with this run and loads cross section data. This function is \"responsible\" for this part of the screen output of OpenMC:\n",
    "\n",
    "```\n",
    "                                %%%%%%%%%%%%%%%\n",
    "                           %%%%%%%%%%%%%%%%%%%%%%%%\n",
    "                        %%%%%%%%%%%%%%%%%%%%%%%%%%%%%%\n",
    "                      %%%%%%%%%%%%%%%%%%%%%%%%%%%%%%%%%%\n",
    "                     %%%%%%%%%%%%%%%%%%%%%%%%%%%%%%%%%%%%%%\n",
    "                   %%%%%%%%%%%%%%%%%%%%%%%%%%%%%%%%%%%%%%%%\n",
    "                                    %%%%%%%%%%%%%%%%%%%%%%%%\n",
    "                                     %%%%%%%%%%%%%%%%%%%%%%%%\n",
    "                 ###############      %%%%%%%%%%%%%%%%%%%%%%%%\n",
    "                ##################     %%%%%%%%%%%%%%%%%%%%%%%\n",
    "                ###################     %%%%%%%%%%%%%%%%%%%%%%%\n",
    "                ####################     %%%%%%%%%%%%%%%%%%%%%%\n",
    "                #####################     %%%%%%%%%%%%%%%%%%%%%\n",
    "                ######################     %%%%%%%%%%%%%%%%%%%%\n",
    "                #######################     %%%%%%%%%%%%%%%%%%\n",
    "                 #######################     %%%%%%%%%%%%%%%%%\n",
    "                 ######################     %%%%%%%%%%%%%%%%%\n",
    "                  ####################     %%%%%%%%%%%%%%%%%\n",
    "                    #################     %%%%%%%%%%%%%%%%%\n",
    "                     ###############     %%%%%%%%%%%%%%%%\n",
    "                       ############     %%%%%%%%%%%%%%%\n",
    "                          ########     %%%%%%%%%%%%%%\n",
    "                                      %%%%%%%%%%%\n",
    "\n",
    "                   | The OpenMC Monte Carlo Code\n",
    "         Copyright | 2011-2021 MIT and OpenMC contributors\n",
    "           License | https://docs.openmc.org/en/latest/license.html\n",
    "           Version | 0.13.0-dev\n",
    "          Git SHA1 | c25512c9152cd01580a8b74305d3e476a6cad499\n",
    "         Date/Time | 2021-04-06 12:32:58\n",
    "     MPI Processes | 1\n",
    "    OpenMP Threads | 96\n",
    "\n",
    " Reading settings XML file...\n",
    " Reading cross sections XML file...\n",
    " Reading materials XML file...\n",
    " Reading geometry XML file...\n",
    " Reading U234 from /home/anovak/cross_sections/endfb71_hdf5/U234.h5\n",
    " Reading U234 WMP data from\n",
    " /home/anovak/cross_sections/endfb71_hdf5/wmp/092234.h5\n",
    " Reading U235 from /home/anovak/cross_sections/endfb71_hdf5/U235.h5\n",
    " Reading U235 WMP data from\n",
    " /home/anovak/cross_sections/endfb71_hdf5/wmp/092235.h5\n",
    " Reading U238 from /home/anovak/cross_sections/endfb71_hdf5/U238.h5\n",
    " Reading U238 WMP data from\n",
    " /home/anovak/cross_sections/endfb71_hdf5/wmp/092238.h5\n",
    " Reading U236 from /home/anovak/cross_sections/endfb71_hdf5/U236.h5\n",
    " Reading U236 WMP data from\n",
    " /home/anovak/cross_sections/endfb71_hdf5/wmp/092236.h5\n",
    " Reading O16 from /home/anovak/cross_sections/endfb71_hdf5/O16.h5\n",
    " Reading O16 WMP data from\n",
    " /home/anovak/cross_sections/endfb71_hdf5/wmp/008016.h5\n",
    " Reading O17 from /home/anovak/cross_sections/endfb71_hdf5/O17.h5\n",
    " Reading O17 WMP data from\n",
    " /home/anovak/cross_sections/endfb71_hdf5/wmp/008017.h5\n",
    " Reading H1 from /home/anovak/cross_sections/endfb71_hdf5/H1.h5\n",
    " Reading H1 WMP data from /home/anovak/cross_sections/endfb71_hdf5/wmp/001001.h5\n",
    " Reading H2 from /home/anovak/cross_sections/endfb71_hdf5/H2.h5\n",
    " Reading H2 WMP data from /home/anovak/cross_sections/endfb71_hdf5/wmp/001002.h5\n",
    " Reading Sn112 from /home/anovak/cross_sections/endfb71_hdf5/Sn112.h5\n",
    " Reading Sn112 WMP data from\n",
    " /home/anovak/cross_sections/endfb71_hdf5/wmp/050112.h5\n",
    " Reading Sn114 from /home/anovak/cross_sections/endfb71_hdf5/Sn114.h5\n",
    " Reading Sn114 WMP data from\n",
    " /home/anovak/cross_sections/endfb71_hdf5/wmp/050114.h5\n",
    " Reading Sn115 from /home/anovak/cross_sections/endfb71_hdf5/Sn115.h5\n",
    " Reading Sn115 WMP data from\n",
    " /home/anovak/cross_sections/endfb71_hdf5/wmp/050115.h5\n",
    " Reading Sn116 from /home/anovak/cross_sections/endfb71_hdf5/Sn116.h5\n",
    " Reading Sn116 WMP data from\n",
    " /home/anovak/cross_sections/endfb71_hdf5/wmp/050116.h5\n",
    " Reading Sn117 from /home/anovak/cross_sections/endfb71_hdf5/Sn117.h5\n",
    " Reading Sn117 WMP data from\n",
    " /home/anovak/cross_sections/endfb71_hdf5/wmp/050117.h5\n",
    " Reading Sn118 from /home/anovak/cross_sections/endfb71_hdf5/Sn118.h5\n",
    " Reading Sn118 WMP data from\n",
    " /home/anovak/cross_sections/endfb71_hdf5/wmp/050118.h5\n",
    " Reading Sn119 from /home/anovak/cross_sections/endfb71_hdf5/Sn119.h5\n",
    " Reading Sn119 WMP data from\n",
    " /home/anovak/cross_sections/endfb71_hdf5/wmp/050119.h5\n",
    " Reading Sn120 from /home/anovak/cross_sections/endfb71_hdf5/Sn120.h5\n",
    " Reading Sn120 WMP data from\n",
    " /home/anovak/cross_sections/endfb71_hdf5/wmp/050120.h5\n",
    " Reading Sn122 from /home/anovak/cross_sections/endfb71_hdf5/Sn122.h5\n",
    " Reading Sn122 WMP data from\n",
    " /home/anovak/cross_sections/endfb71_hdf5/wmp/050122.h5\n",
    " Reading Sn124 from /home/anovak/cross_sections/endfb71_hdf5/Sn124.h5\n",
    " Reading Sn124 WMP data from\n",
    " /home/anovak/cross_sections/endfb71_hdf5/wmp/050124.h5\n",
    " Reading Fe54 from /home/anovak/cross_sections/endfb71_hdf5/Fe54.h5\n",
    " Reading Fe54 WMP data from\n",
    " /home/anovak/cross_sections/endfb71_hdf5/wmp/026054.h5\n",
    " Reading Fe56 from /home/anovak/cross_sections/endfb71_hdf5/Fe56.h5\n",
    " Reading Fe56 WMP data from\n",
    " /home/anovak/cross_sections/endfb71_hdf5/wmp/026056.h5\n",
    " Reading Fe57 from /home/anovak/cross_sections/endfb71_hdf5/Fe57.h5\n",
    " Reading Fe57 WMP data from\n",
    " /home/anovak/cross_sections/endfb71_hdf5/wmp/026057.h5\n",
    " Reading Fe58 from /home/anovak/cross_sections/endfb71_hdf5/Fe58.h5\n",
    " Reading Fe58 WMP data from\n",
    " /home/anovak/cross_sections/endfb71_hdf5/wmp/026058.h5\n",
    " Reading Cr50 from /home/anovak/cross_sections/endfb71_hdf5/Cr50.h5\n",
    " Reading Cr50 WMP data from\n",
    " /home/anovak/cross_sections/endfb71_hdf5/wmp/024050.h5\n",
    " Reading Cr52 from /home/anovak/cross_sections/endfb71_hdf5/Cr52.h5\n",
    " Reading Cr52 WMP data from\n",
    " /home/anovak/cross_sections/endfb71_hdf5/wmp/024052.h5\n",
    " Reading Cr53 from /home/anovak/cross_sections/endfb71_hdf5/Cr53.h5\n",
    " Reading Cr53 WMP data from\n",
    " /home/anovak/cross_sections/endfb71_hdf5/wmp/024053.h5\n",
    " Reading Cr54 from /home/anovak/cross_sections/endfb71_hdf5/Cr54.h5\n",
    " Reading Cr54 WMP data from\n",
    " /home/anovak/cross_sections/endfb71_hdf5/wmp/024054.h5\n",
    " Reading Zr90 from /home/anovak/cross_sections/endfb71_hdf5/Zr90.h5\n",
    " Reading Zr90 WMP data from\n",
    " /home/anovak/cross_sections/endfb71_hdf5/wmp/040090.h5\n",
    " Reading Zr91 from /home/anovak/cross_sections/endfb71_hdf5/Zr91.h5\n",
    " Reading Zr91 WMP data from\n",
    " /home/anovak/cross_sections/endfb71_hdf5/wmp/040091.h5\n",
    " Reading Zr92 from /home/anovak/cross_sections/endfb71_hdf5/Zr92.h5\n",
    " Reading Zr92 WMP data from\n",
    " /home/anovak/cross_sections/endfb71_hdf5/wmp/040092.h5\n",
    " Reading Zr94 from /home/anovak/cross_sections/endfb71_hdf5/Zr94.h5\n",
    " Reading Zr94 WMP data from\n",
    " /home/anovak/cross_sections/endfb71_hdf5/wmp/040094.h5\n",
    " Reading Zr96 from /home/anovak/cross_sections/endfb71_hdf5/Zr96.h5\n",
    " Reading Zr96 WMP data from\n",
    " /home/anovak/cross_sections/endfb71_hdf5/wmp/040096.h5\n",
    " Reading c_H_in_H2O from /home/anovak/cross_sections/endfb71_hdf5/c_H_in_H2O.h5\n",
    " Minimum neutron data temperature: 294.0 K\n",
    " Maximum neutron data temperature: 2500.0 K\n",
    " Reading tallies XML file...\n",
    " Preparing distributed cell instances...\n",
    " Writing summary.h5 file...\n",
    "```"
   ]
  },
  {
   "cell_type": "markdown",
   "metadata": {},
   "source": [
    "Next, clear any tally data:"
   ]
  },
  {
   "cell_type": "code",
   "execution_count": null,
   "metadata": {},
   "outputs": [],
   "source": [
    "openmc.lib.reset()"
   ]
  },
  {
   "cell_type": "markdown",
   "metadata": {},
   "source": [
    "Next, let's run OpenMC for the batches we have specified."
   ]
  },
  {
   "cell_type": "code",
   "execution_count": null,
   "metadata": {},
   "outputs": [],
   "source": [
    "openmc.lib.run()"
   ]
  },
  {
   "cell_type": "markdown",
   "metadata": {},
   "source": [
    "This function is \"responsible\" for this part of the screen output of OpenMC:\n",
    "\n",
    "```\n",
    " Maximum neutron transport energy: 20000000.0 eV for U235\n",
    " Initializing source particles...\n",
    "\n",
    " ====================>     K EIGENVALUE SIMULATION     <====================\n",
    "\n",
    "  Bat./Gen.      k            Average k\n",
    "  =========   ========   ====================\n",
    "        1/1    1.28121\n",
    "        2/1    1.29937\n",
    "        3/1    1.24205\n",
    "        4/1    1.34018\n",
    "        5/1    1.29029\n",
    "        6/1    1.24823\n",
    "        7/1    1.28843\n",
    "        8/1    1.21612\n",
    "        9/1    1.28206\n",
    "       10/1    1.33301\n",
    "       11/1    1.26580\n",
    "       12/1    1.22219\n",
    "       13/1    1.33066\n",
    "       14/1    1.23147\n",
    "       15/1    1.28394\n",
    "       16/1    1.28153\n",
    "       17/1    1.25478\n",
    "       18/1    1.33106\n",
    "       19/1    1.23682\n",
    "       20/1    1.26478\n",
    "       21/1    1.27162\n",
    "       22/1    1.36046\n",
    "       23/1    1.36478\n",
    "       24/1    1.33330\n",
    "       25/1    1.34529\n",
    "       26/1    1.17753\n",
    "       27/1    1.25490\n",
    "       28/1    1.26704\n",
    "       29/1    1.22171\n",
    "       30/1    1.28283\n",
    "       31/1    1.26946\n",
    "       32/1    1.38552\n",
    "       33/1    1.32376\n",
    "       34/1    1.32099\n",
    "       35/1    1.21678\n",
    "       36/1    1.32369\n",
    "       37/1    1.39141\n",
    "       38/1    1.22461\n",
    "       39/1    1.24379\n",
    "       40/1    1.28330\n",
    "       41/1    1.24977\n",
    "       42/1    1.32121\n",
    "       43/1    1.23254\n",
    "       44/1    1.37117\n",
    "       45/1    1.27239\n",
    "       46/1    1.24375\n",
    "       47/1    1.28714\n",
    "       48/1    1.32709\n",
    "       49/1    1.22626\n",
    "       50/1    1.31000\n",
    "       51/1    1.23100\n",
    "       52/1    1.27122    1.25111 +/- 0.02011\n",
    "       53/1    1.25585    1.25269 +/- 0.01172\n",
    "       54/1    1.20543    1.24088 +/- 0.01443\n",
    "       55/1    1.24702    1.24210 +/- 0.01125\n",
    "       56/1    1.29381    1.25072 +/- 0.01259\n",
    "       57/1    1.30034    1.25781 +/- 0.01279\n",
    "       58/1    1.30587    1.26382 +/- 0.01260\n",
    "       59/1    1.27689    1.26527 +/- 0.01121\n",
    "       60/1    1.35612    1.27436 +/- 0.01353\n",
    "       61/1    1.23652    1.27092 +/- 0.01271\n",
    "       62/1    1.30003    1.27334 +/- 0.01185\n",
    "       63/1    1.25101    1.27162 +/- 0.01104\n",
    "       64/1    1.23541    1.26904 +/- 0.01054\n",
    "       65/1    1.29958    1.27107 +/- 0.01002\n",
    "       66/1    1.26014    1.27039 +/- 0.00940\n",
    "       67/1    1.24462    1.26887 +/- 0.00896\n",
    "       68/1    1.24360    1.26747 +/- 0.00856\n",
    "       69/1    1.34716    1.27166 +/- 0.00912\n",
    "       70/1    1.24978    1.27057 +/- 0.00872\n",
    "       71/1    1.30235    1.27208 +/- 0.00843\n",
    "       72/1    1.25318    1.27122 +/- 0.00809\n",
    "       73/1    1.38060    1.27598 +/- 0.00907\n",
    "       74/1    1.21944    1.27362 +/- 0.00900\n",
    "       75/1    1.26885    1.27343 +/- 0.00863\n",
    "       76/1    1.26276    1.27302 +/- 0.00831\n",
    "       77/1    1.31789    1.27468 +/- 0.00816\n",
    "       78/1    1.25483    1.27398 +/- 0.00790\n",
    "       79/1    1.31038    1.27523 +/- 0.00772\n",
    "       80/1    1.26652    1.27494 +/- 0.00747\n",
    "       81/1    1.25554    1.27431 +/- 0.00725\n",
    "       82/1    1.22499    1.27277 +/- 0.00719\n",
    "       83/1    1.21351    1.27098 +/- 0.00719\n",
    "       84/1    1.38166    1.27423 +/- 0.00770\n",
    "       85/1    1.27206    1.27417 +/- 0.00748\n",
    "       86/1    1.23749    1.27315 +/- 0.00734\n",
    "       87/1    1.30657    1.27405 +/- 0.00719\n",
    "       88/1    1.23744    1.27309 +/- 0.00707\n",
    "       89/1    1.32974    1.27454 +/- 0.00704\n",
    "       90/1    1.18032    1.27219 +/- 0.00725\n",
    "       91/1    1.29936    1.27285 +/- 0.00710\n",
    "       92/1    1.30504    1.27362 +/- 0.00697\n",
    "       93/1    1.28436    1.27387 +/- 0.00681\n",
    "       94/1    1.12601    1.27051 +/- 0.00746\n",
    "       95/1    1.29354    1.27102 +/- 0.00731\n",
    "       96/1    1.25732    1.27072 +/- 0.00715\n",
    "       97/1    1.25301    1.27034 +/- 0.00701\n",
    "       98/1    1.28239    1.27059 +/- 0.00687\n",
    "       99/1    1.27352    1.27065 +/- 0.00673\n",
    "      100/1    1.35531    1.27235 +/- 0.00680\n",
    "      101/1    1.20879    1.27110 +/- 0.00678\n",
    "      102/1    1.30953    1.27184 +/- 0.00669\n",
    "      103/1    1.35776    1.27346 +/- 0.00676\n",
    "      104/1    1.23775    1.27280 +/- 0.00667\n",
    "      105/1    1.27046    1.27276 +/- 0.00655\n",
    "      106/1    1.20091    1.27147 +/- 0.00656\n",
    "      107/1    1.18655    1.26999 +/- 0.00661\n",
    "      108/1    1.25948    1.26980 +/- 0.00650\n",
    "      109/1    1.27782    1.26994 +/- 0.00639\n",
    "      110/1    1.28110    1.27013 +/- 0.00628\n",
    "      111/1    1.34932    1.27142 +/- 0.00631\n",
    "      112/1    1.29368    1.27178 +/- 0.00622\n",
    "      113/1    1.33815    1.27284 +/- 0.00621\n",
    "      114/1    1.23631    1.27227 +/- 0.00614\n",
    "      115/1    1.31619    1.27294 +/- 0.00608\n",
    "      116/1    1.24599    1.27253 +/- 0.00600\n",
    "      117/1    1.33263    1.27343 +/- 0.00598\n",
    "      118/1    1.23118    1.27281 +/- 0.00593\n",
    "      119/1    1.23749    1.27230 +/- 0.00586\n",
    "      120/1    1.19292    1.27116 +/- 0.00589\n",
    "      121/1    1.24391    1.27078 +/- 0.00582\n",
    "      122/1    1.33178    1.27163 +/- 0.00580\n",
    "      123/1    1.36831    1.27295 +/- 0.00587\n",
    "      124/1    1.31979    1.27358 +/- 0.00582\n",
    "      125/1    1.25515    1.27334 +/- 0.00575\n",
    "      126/1    1.28461    1.27349 +/- 0.00568\n",
    "      127/1    1.30413    1.27388 +/- 0.00562\n",
    "      128/1    1.30625    1.27430 +/- 0.00556\n",
    "      129/1    1.29025    1.27450 +/- 0.00549\n",
    "      130/1    1.26432    1.27437 +/- 0.00543\n",
    "      131/1    1.24918    1.27406 +/- 0.00537\n",
    "      132/1    1.20639    1.27324 +/- 0.00536\n",
    "      133/1    1.25851    1.27306 +/- 0.00530\n",
    "      134/1    1.27254    1.27305 +/- 0.00524\n",
    "      135/1    1.26874    1.27300 +/- 0.00518\n",
    "      136/1    1.26874    1.27295 +/- 0.00512\n",
    "      137/1    1.32812    1.27359 +/- 0.00510\n",
    "      138/1    1.18370    1.27257 +/- 0.00514\n",
    "      139/1    1.24417    1.27225 +/- 0.00509\n",
    "      140/1    1.22644    1.27174 +/- 0.00506\n",
    "      141/1    1.32514    1.27232 +/- 0.00504\n",
    "      142/1    1.33500    1.27301 +/- 0.00503\n",
    "      143/1    1.28267    1.27311 +/- 0.00498\n",
    "      144/1    1.32909    1.27371 +/- 0.00496\n",
    "      145/1    1.25430    1.27350 +/- 0.00491\n",
    "      146/1    1.36988    1.27451 +/- 0.00496\n",
    "      147/1    1.29692    1.27474 +/- 0.00492\n",
    "      148/1    1.28495    1.27484 +/- 0.00487\n",
    "      149/1    1.26155    1.27471 +/- 0.00482\n",
    "      150/1    1.24635    1.27442 +/- 0.00478\n",
    "      151/1    1.18421    1.27353 +/- 0.00482\n",
    "      152/1    1.28283    1.27362 +/- 0.00477\n",
    "      153/1    1.28690    1.27375 +/- 0.00473\n",
    "      154/1    1.29709    1.27397 +/- 0.00469\n",
    "      155/1    1.23181    1.27357 +/- 0.00466\n",
    "      156/1    1.17477    1.27264 +/- 0.00471\n",
    "      157/1    1.40278    1.27386 +/- 0.00482\n",
    "      158/1    1.21769    1.27334 +/- 0.00480\n",
    "      159/1    1.34066    1.27395 +/- 0.00480\n",
    "      160/1    1.26241    1.27385 +/- 0.00476\n",
    "      161/1    1.29542    1.27404 +/- 0.00472\n",
    "      162/1    1.26478    1.27396 +/- 0.00467\n",
    "      163/1    1.34510    1.27459 +/- 0.00468\n",
    "      164/1    1.26603    1.27452 +/- 0.00464\n",
    "      165/1    1.31133    1.27484 +/- 0.00461\n",
    "      166/1    1.26131    1.27472 +/- 0.00457\n",
    "      167/1    1.31628    1.27507 +/- 0.00454\n",
    "      168/1    1.18630    1.27432 +/- 0.00457\n",
    "      169/1    1.31865    1.27469 +/- 0.00454\n",
    "      170/1    1.29392    1.27485 +/- 0.00451\n",
    "      171/1    1.35901    1.27555 +/- 0.00452\n",
    "      172/1    1.30817    1.27582 +/- 0.00449\n",
    "      173/1    1.19467    1.27516 +/- 0.00451\n",
    "      174/1    1.32122    1.27553 +/- 0.00449\n",
    "      175/1    1.31685    1.27586 +/- 0.00446\n",
    "      176/1    1.36732    1.27659 +/- 0.00449\n",
    "      177/1    1.27414    1.27657 +/- 0.00445\n",
    "      178/1    1.26904    1.27651 +/- 0.00442\n",
    "      179/1    1.28543    1.27658 +/- 0.00438\n",
    "      180/1    1.30681    1.27681 +/- 0.00435\n",
    "      181/1    1.32135    1.27715 +/- 0.00433\n",
    "      182/1    1.20844    1.27663 +/- 0.00433\n",
    "      183/1    1.34246    1.27712 +/- 0.00433\n",
    "      184/1    1.31446    1.27740 +/- 0.00430\n",
    "      185/1    1.23028    1.27705 +/- 0.00429\n",
    "      186/1    1.31090    1.27730 +/- 0.00426\n",
    "      187/1    1.26044    1.27718 +/- 0.00423\n",
    "      188/1    1.31018    1.27742 +/- 0.00421\n",
    "      189/1    1.28060    1.27744 +/- 0.00418\n",
    "      190/1    1.35521    1.27800 +/- 0.00419\n",
    "      191/1    1.26299    1.27789 +/- 0.00416\n",
    "      192/1    1.31535    1.27815 +/- 0.00414\n",
    "      193/1    1.34309    1.27861 +/- 0.00413\n",
    "      194/1    1.27323    1.27857 +/- 0.00410\n",
    "      195/1    1.25028    1.27838 +/- 0.00408\n",
    "      196/1    1.34718    1.27885 +/- 0.00408\n",
    "      197/1    1.35709    1.27938 +/- 0.00409\n",
    "      198/1    1.26917    1.27931 +/- 0.00406\n",
    "      199/1    1.25052    1.27912 +/- 0.00404\n",
    "      200/1    1.28121    1.27913 +/- 0.00401\n",
    " Creating state point statepoint.200.h5...\n",
    "\n",
    " =======================>     TIMING STATISTICS     <=======================\n",
    "\n",
    " Total time for initialization     = 2.8314e+00 seconds\n",
    "   Reading cross sections          = 2.7641e+00 seconds\n",
    " Total time in simulation          = 2.3734e+00 seconds\n",
    "   Time in transport only          = 2.3246e+00 seconds\n",
    "   Time in inactive batches        = 2.1529e-01 seconds\n",
    "   Time in active batches          = 2.1581e+00 seconds\n",
    "   Time synchronizing fission bank = 1.4260e-02 seconds\n",
    "     Sampling source sites         = 1.1015e-02 seconds\n",
    "     SEND/RECV source sites        = 2.5885e-03 seconds\n",
    "   Time accumulating tallies       = 1.1986e-02 seconds\n",
    "   Time writing statepoints        = 3.8858e-03 seconds\n",
    " Total time for finalization       = 1.2571e-04 seconds\n",
    " Total time elapsed                = 5.2820e+00 seconds\n",
    " Calculation Rate (inactive)       = 232243.0 particles/second\n",
    " Calculation Rate (active)         = 69504.7 particles/second\n",
    "\n",
    " ============================>     RESULTS     <============================\n",
    "\n",
    " k-effective (Collision)     = 1.28250 +/- 0.00329\n",
    " k-effective (Track-length)  = 1.27913 +/- 0.00401\n",
    " k-effective (Absorption)    = 1.27917 +/- 0.00268\n",
    " Combined k-effective        = 1.28011 +/- 0.00241\n",
    " Leakage Fraction            = 0.00249 +/- 0.00017\n",
    "```"
   ]
  },
  {
   "cell_type": "markdown",
   "metadata": {},
   "source": [
    "To wrap up the simulation, finalize OpenMC:"
   ]
  },
  {
   "cell_type": "code",
   "execution_count": null,
   "metadata": {},
   "outputs": [],
   "source": [
    "openmc.lib.finalize()"
   ]
  },
  {
   "cell_type": "markdown",
   "metadata": {},
   "source": [
    "# Running OpenMC: Multiphysics iteration\n",
    "\n",
    "As you can see from the example above, the C-API lets us separate the overall OpenMC calculation into separate steps, where we can insert other behavior between steps, while also skipping the same initialization and finalization steps we don't need for in-memory coupling. In this section, we build a simple multiphysics example with temperature, density, and heat source iteration with the thermal-fluids solver. First, let's specify the number of iterations we'd like to perform."
   ]
  },
  {
   "cell_type": "code",
   "execution_count": 27,
   "metadata": {},
   "outputs": [],
   "source": [
    "n_iterations = 3"
   ]
  },
  {
   "cell_type": "markdown",
   "metadata": {},
   "source": [
    "For each iteration, we want to save the temperatures, densities, and heat source computed by our coupled simulation for plotting later. So, we declare a few lists that will be used for saving the solution for each iteration."
   ]
  },
  {
   "cell_type": "code",
   "execution_count": null,
   "metadata": {},
   "outputs": [],
   "source": [
    "q_iterations = []\n",
    "fluid_temp_iterations = []\n",
    "solid_temp_iterations = []\n",
    "fluid_density_iterations = []"
   ]
  },
  {
   "cell_type": "markdown",
   "metadata": {},
   "source": [
    "As we iterate between Monte Carlo transport and thermal-fluids, we can improve the stability by _relaxing_ the heat source computed by OpenMC - all that means is that in iteration $j$, we compute the heat source as an average of the heat source _just_ computed by OpenMC and that of the previous iterate:\n",
    "\n",
    "$q_j=(1-\\alpha)q_{j-1}+\\alpha \\Phi_j$\n",
    "\n",
    "where $\\Phi$ indicates the Monte Carlo \"operation.\" All we need to do here is define $\\alpha$, which we'll just take as 0.5:"
   ]
  },
  {
   "cell_type": "code",
   "execution_count": 30,
   "metadata": {},
   "outputs": [],
   "source": [
    "alpha = 0.5"
   ]
  },
  {
   "cell_type": "markdown",
   "metadata": {},
   "source": [
    "A classic difficulty with multiphysics calculations is mapping data between the Monte Carlo code and the thermal-fluids code - what cell in OpenMC corresponds to the node/element/quadrature point in my thermal-fluids application? OpenMC's C-API provides several convenient functions to find the cell and material at a given position in space. Although in this example we built the thermal-fluids mesh to exactly match OpenMC's cell division, we'll highlight how the C-API could be used to determine the mapping in an automated fashion. \n",
    "\n",
    "To do this, we'll define coordinates in each of the coupling regions - the fluid, the clad, and the fuel. Under the hood, OpenMC uses its cell lookup routines to find which cell the point is in - because our thermal-fluids data computes volume-averaged quantities, we just need to identify _one_ point in each layer."
   ]
  },
  {
   "cell_type": "code",
   "execution_count": 3,
   "metadata": {},
   "outputs": [
    {
     "ename": "NameError",
     "evalue": "name 'H' is not defined",
     "output_type": "error",
     "traceback": [
      "\u001b[0;31m---------------------------------------------------------------------------\u001b[0m",
      "\u001b[0;31mNameError\u001b[0m                                 Traceback (most recent call last)",
      "\u001b[0;32m<ipython-input-3-ff675ea92735>\u001b[0m in \u001b[0;36m<module>\u001b[0;34m\u001b[0m\n\u001b[1;32m      1\u001b[0m \u001b[0;31m# z-coordinates of each layer, H is the layer height\u001b[0m\u001b[0;34m\u001b[0m\u001b[0;34m\u001b[0m\u001b[0;34m\u001b[0m\u001b[0m\n\u001b[0;32m----> 2\u001b[0;31m \u001b[0mcell_centers\u001b[0m \u001b[0;34m=\u001b[0m \u001b[0mnp\u001b[0m\u001b[0;34m.\u001b[0m\u001b[0mlinspace\u001b[0m\u001b[0;34m(\u001b[0m\u001b[0mH\u001b[0m \u001b[0;34m/\u001b[0m \u001b[0;36m2.0\u001b[0m\u001b[0;34m,\u001b[0m \u001b[0mheight\u001b[0m \u001b[0;34m-\u001b[0m \u001b[0mH\u001b[0m \u001b[0;34m/\u001b[0m \u001b[0;36m2.0\u001b[0m\u001b[0;34m,\u001b[0m \u001b[0mN\u001b[0m\u001b[0;34m)\u001b[0m\u001b[0;34m\u001b[0m\u001b[0;34m\u001b[0m\u001b[0m\n\u001b[0m\u001b[1;32m      3\u001b[0m \u001b[0;34m\u001b[0m\u001b[0m\n\u001b[1;32m      4\u001b[0m \u001b[0;31m# an x-coordinate in each of the various regions\u001b[0m\u001b[0;34m\u001b[0m\u001b[0;34m\u001b[0m\u001b[0;34m\u001b[0m\u001b[0m\n\u001b[1;32m      5\u001b[0m \u001b[0mx_fuel\u001b[0m \u001b[0;34m=\u001b[0m \u001b[0;36m0.0\u001b[0m\u001b[0;34m\u001b[0m\u001b[0;34m\u001b[0m\u001b[0m\n",
      "\u001b[0;31mNameError\u001b[0m: name 'H' is not defined"
     ]
    }
   ],
   "source": [
    "# z-coordinates of each layer, H is the layer height\n",
    "cell_centers = np.linspace(H / 2.0, height - H / 2.0, N)\n",
    "\n",
    "# an x-coordinate in each of the various regions\n",
    "x_fuel = 0.0\n",
    "x_clad = Rf + 0.001 # just a little bit outside the pellet surface\n",
    "x_fluid = R + 0.001 # just a little bit outside the pincell surface"
   ]
  },
  {
   "cell_type": "markdown",
   "metadata": {},
   "source": [
    "## The Multiphysics Loop\n",
    "\n",
    "For our multiphysics calculation, we want to exchange data with our thermal-fluids application in-memory. The alternative approach - sometimes referred to as \"external coupling,\" would instead faciltate multiphysics by \n",
    "\n",
    "1. Initializing, running, and finalizing OpenMC\n",
    "2. Writing an OpenMC output file\n",
    "3. Using a script to parse OpenMC's output file and write a new thermal-fluids app input file\n",
    "4. Initializing, running, and finalizing the thermal-fluids app\n",
    "5. Using a script to parse the thermal-fluids app's output file and write a new OpenMC input file\n",
    "\n",
    "A downside of this approach is that many steps are repeated for each iteration even though they're not required - such as reading cross section data. A second downside of the external coupling approach is that you need to write scripts to handle I/O.\n",
    "\n",
    "### A Convenient Context Manager\n",
    "\n",
    "Previously, we ran the four steps of an OpenMC simulation separately  - `init()`, `reset()`, `run()`, and `finalize()`. The C-API offers a convenient context manager that actually handles the initialization and finalization for you, such that all you need to do to run OpenMC multiple times in memory is:\n",
    "\n",
    "      with openmc.lib.run_in_memory():\n",
    "        for i in range(n_iterations):\n",
    "          openmc.lib.reset()\n",
    "          openmc.lib.run()\n",
    "    \n",
    "          # DO STUFF - such as multiphysics!\n",
    "\n",
    "Below is our code for multiphysics feedback in OpenMC. Let's walk through it step-by-step.\n",
    "\n",
    "1. First, we reset the tallies (because now we are running OpenMC in a loop, and for this problem we want the tallies to be separate for each run) and then run OpenMC (based on whatever temperatures and densities are set in OpenMC's model).\n",
    "\n",
    "2. Second, we normalize the kappa fission tally computed by OpenMC, and store the normalized power (with units of Watts) in `q`.\n",
    "\n",
    "3. Third, we solve our thermal-fluids app by calling the `fluid_temperature`, `fluid_density`, and `solid_temperature` functions we defined at the very beginning of this notebook.\n",
    "\n",
    "4. Fourth, use the results of the thermal-fluid app to update the temperatures and densities used in OpenMC. For this, we use the C-API functions to first (a) find the cell/material we need to modify based on a coordinate in the cell-of-interest and (b) write the cell/material temperature or density.\n",
    "\n",
    "### Setting Temperatures\n",
    "\n",
    "To find the cell that corresponds to the point `(x_fuel, 0, z)`, we use the function `openmc.lib.find_cell`, which returns a reference to the cell and the instance of that cell (for this problem, all of our cells have a single instance, but for more information on the meaning of a cell instance please consult the OpenMC documentation). Once we've found the cell, then we can call `set_temperature` for that cell to apply the temperature from our thermal-fluids app.\n",
    "\n",
    "### Setting Densities\n",
    "\n",
    "The procedure is quite similar for setting densities, except that we need to set the density of a _material_, and not a cell. So, we use `openmc.lib.find_material` to find the material at a particular point in space. Finally, we call the `set_density` function for that material to apply the density from our thermal-fluids app."
   ]
  },
  {
   "cell_type": "code",
   "execution_count": 31,
   "metadata": {},
   "outputs": [
    {
     "ename": "AttributeError",
     "evalue": "module 'openmc' has no attribute 'lib'",
     "output_type": "error",
     "traceback": [
      "\u001b[0;31m---------------------------------------------------------------------------\u001b[0m",
      "\u001b[0;31mAttributeError\u001b[0m                            Traceback (most recent call last)",
      "\u001b[0;32m<ipython-input-31-2a3202aa4c4c>\u001b[0m in \u001b[0;36m<module>\u001b[0;34m\u001b[0m\n\u001b[0;32m----> 1\u001b[0;31m \u001b[0;32mwith\u001b[0m \u001b[0mopenmc\u001b[0m\u001b[0;34m.\u001b[0m\u001b[0mlib\u001b[0m\u001b[0;34m.\u001b[0m\u001b[0mrun_in_memory\u001b[0m\u001b[0;34m(\u001b[0m\u001b[0;34m)\u001b[0m\u001b[0;34m:\u001b[0m\u001b[0;34m\u001b[0m\u001b[0;34m\u001b[0m\u001b[0m\n\u001b[0m\u001b[1;32m      2\u001b[0m   \u001b[0;32mfor\u001b[0m \u001b[0mi\u001b[0m \u001b[0;32min\u001b[0m \u001b[0mrange\u001b[0m\u001b[0;34m(\u001b[0m\u001b[0mn_iterations\u001b[0m\u001b[0;34m)\u001b[0m\u001b[0;34m:\u001b[0m\u001b[0;34m\u001b[0m\u001b[0;34m\u001b[0m\u001b[0m\n\u001b[1;32m      3\u001b[0m     \u001b[0;31m# reset the values of all the tallies, timers, and pseudo-random generator\u001b[0m\u001b[0;34m\u001b[0m\u001b[0;34m\u001b[0m\u001b[0;34m\u001b[0m\u001b[0m\n\u001b[1;32m      4\u001b[0m     \u001b[0mopenmc\u001b[0m\u001b[0;34m.\u001b[0m\u001b[0mlib\u001b[0m\u001b[0;34m.\u001b[0m\u001b[0mreset\u001b[0m\u001b[0;34m(\u001b[0m\u001b[0;34m)\u001b[0m\u001b[0;34m\u001b[0m\u001b[0;34m\u001b[0m\u001b[0m\n\u001b[1;32m      5\u001b[0m \u001b[0;34m\u001b[0m\u001b[0m\n",
      "\u001b[0;31mAttributeError\u001b[0m: module 'openmc' has no attribute 'lib'"
     ]
    }
   ],
   "source": [
    "with openmc.lib.run_in_memory():\n",
    "  for i in range(n_iterations):\n",
    "    openmc.lib.reset()\n",
    "\n",
    "    openmc.lib.run()\n",
    "\n",
    "    # ---- Multiphysics feedback part ---- #\n",
    "    \n",
    "    # get the total kappa fission computed by OpenMC over the entire domain\n",
    "    total_kappa_fission = openmc.lib.tallies[1].mean\n",
    "\n",
    "    # power (W) in each layer of the solid\n",
    "    q = np.zeros(N)\n",
    "\n",
    "    for j in range(N):\n",
    "      q[j] = openmc.lib.tallies[2].mean[j] / total_kappa_fission\n",
    "\n",
    "      # to get in units of W, multiply by the total power\n",
    "      q[j] *= power\n",
    "\n",
    "      # for greater than the first iteration, relax\n",
    "      if (i > 0):\n",
    "        q[j] = (1.0 - alpha) * q_iterations[i - 1][j] + alpha * q[j]\n",
    "\n",
    "    # compute the fluid temps, fluid densities, and solid temps\n",
    "    fluid_temps = part3_backend.fluid_temperature(q, T_inlet, N)\n",
    "    fluid_densities = part3_backend.fluid_density(fluid_temps, N)\n",
    "    solid_temps = part3_backend.solid_temperature(q, fluid_temps, N, R, Rf, H)\n",
    "    \n",
    "    print(\"\\nIteration {:3n}\".format(i))\n",
    "    for j in range(N):\n",
    "      print(\"Layer {:3n}:  Percent power: {:5.1f}  Fluid T: {:7.1f}  Solid T: {:7.1f}  Fluid density: {:5.2f}\".format(j, q[j] / power * 100, fluid_temps[j], solid_temps[j], fluid_densities[j]))\n",
    "\n",
    "      z = cell_centers[j]\n",
    "\n",
    "      # solid temperature\n",
    "      cell_s, instance_s = openmc.lib.find_cell((x_fuel, 0, z))\n",
    "      cell_s.set_temperature(solid_temps[j], instance_s)\n",
    "\n",
    "      # clad temperature (just set to fluid temperature)\n",
    "      cell_c, instance_c = openmc.lib.find_cell((x_clad, 0, z))\n",
    "      cell_c.set_temperature(fluid_temps[j], instance_c)\n",
    "\n",
    "      # get a point in the fluid phase to find the fluid cell\n",
    "      cell_f, instance_f = openmc.lib.find_cell((x_fluid, 0, z))\n",
    "      cell_f.set_temperature(fluid_temps[j], instance_f)\n",
    "\n",
    "      # find the material in the fluid cell\n",
    "      material = openmc.lib.find_material((x_fluid, 0, z))\n",
    "      material.set_density(fluid_densities[j], 'g/cc')\n",
    "        \n",
    "    # save all of the fields computed from this iteration for plotting later\n",
    "    q_iterations.append(q)\n",
    "    fluid_temp_iterations.append(fluid_temps)\n",
    "    fluid_density_iterations.append(fluid_densities)\n",
    "    solid_temp_iterations.append(solid_temps)"
   ]
  },
  {
   "cell_type": "markdown",
   "metadata": {},
   "source": [
    "The above runs OpenMC $N$ times, with the initialization step (where the big OpenMC logo prints and cross-sections are loaded) only performed once at the beginning. Because we use the `openmc.lib.run_in_memory()` context manager, we don't need to worry about initializing and finalizing OpenMC, and instead can focus just on what we want to simulate for each iteration.\n",
    "\n",
    "Finally, let's plot our multiphysics simulation for all of the iterations."
   ]
  },
  {
   "cell_type": "code",
   "execution_count": 32,
   "metadata": {},
   "outputs": [
    {
     "ename": "NameError",
     "evalue": "name 'normalized_cell_centers' is not defined",
     "output_type": "error",
     "traceback": [
      "\u001b[0;31m---------------------------------------------------------------------------\u001b[0m",
      "\u001b[0;31mNameError\u001b[0m                                 Traceback (most recent call last)",
      "\u001b[0;32m<ipython-input-32-1fcae11d0752>\u001b[0m in \u001b[0;36m<module>\u001b[0;34m\u001b[0m\n\u001b[1;32m      5\u001b[0m \u001b[0;34m\u001b[0m\u001b[0m\n\u001b[1;32m      6\u001b[0m \u001b[0;32mfor\u001b[0m \u001b[0mi\u001b[0m \u001b[0;32min\u001b[0m \u001b[0mrange\u001b[0m\u001b[0;34m(\u001b[0m\u001b[0mn_iterations\u001b[0m\u001b[0;34m)\u001b[0m\u001b[0;34m:\u001b[0m\u001b[0;34m\u001b[0m\u001b[0;34m\u001b[0m\u001b[0m\n\u001b[0;32m----> 7\u001b[0;31m   \u001b[0maxs\u001b[0m\u001b[0;34m[\u001b[0m\u001b[0;36m0\u001b[0m\u001b[0;34m,\u001b[0m \u001b[0;36m0\u001b[0m\u001b[0;34m]\u001b[0m\u001b[0;34m.\u001b[0m\u001b[0mplot\u001b[0m\u001b[0;34m(\u001b[0m\u001b[0mnormalized_cell_centers\u001b[0m\u001b[0;34m,\u001b[0m \u001b[0mq_iterations\u001b[0m\u001b[0;34m[\u001b[0m\u001b[0mi\u001b[0m\u001b[0;34m]\u001b[0m\u001b[0;34m,\u001b[0m \u001b[0mlabel\u001b[0m \u001b[0;34m=\u001b[0m \u001b[0;34m'iteration {:2n}'\u001b[0m\u001b[0;34m.\u001b[0m\u001b[0mformat\u001b[0m\u001b[0;34m(\u001b[0m\u001b[0mi\u001b[0m\u001b[0;34m)\u001b[0m\u001b[0;34m)\u001b[0m\u001b[0;34m\u001b[0m\u001b[0;34m\u001b[0m\u001b[0m\n\u001b[0m\u001b[1;32m      8\u001b[0m   \u001b[0maxs\u001b[0m\u001b[0;34m[\u001b[0m\u001b[0;36m0\u001b[0m\u001b[0;34m,\u001b[0m \u001b[0;36m0\u001b[0m\u001b[0;34m]\u001b[0m\u001b[0;34m.\u001b[0m\u001b[0mset_ylabel\u001b[0m\u001b[0;34m(\u001b[0m\u001b[0;34m'$q$ (W)'\u001b[0m\u001b[0;34m)\u001b[0m\u001b[0;34m\u001b[0m\u001b[0;34m\u001b[0m\u001b[0m\n\u001b[1;32m      9\u001b[0m \u001b[0;34m\u001b[0m\u001b[0m\n",
      "\u001b[0;31mNameError\u001b[0m: name 'normalized_cell_centers' is not defined"
     ]
    },
    {
     "data": {
      "image/png": "[encoded data removed]",
      "text/plain": [
       "<Figure size 720x720 with 4 Axes>"
      ]
     },
     "metadata": {
      "needs_background": "light"
     },
     "output_type": "display_data"
    }
   ],
   "source": [
    "normalized_cell_centers = np.array([c / height for c in cell_centers])\n",
    "font = {'size' : 10}\n",
    "matplotlib.rc('font', **font)\n",
    "\n",
    "fig, axs = plt.subplots(2, 2, figsize=(12,12))\n",
    "\n",
    "for i in range(n_iterations):\n",
    "  axs[0, 0].plot(normalized_cell_centers, q_iterations[i], label = 'iteration {:2n}'.format(i))\n",
    "  axs[0, 0].set_ylabel('$q$ (W)')\n",
    "\n",
    "  axs[0, 1].plot(normalized_cell_centers, solid_temp_iterations[i], label = 'iteration {:2n}'.format(i))\n",
    "  axs[0, 1].set_ylabel('$T_s$ (K)')\n",
    "\n",
    "  axs[1, 0].plot(normalized_cell_centers, fluid_temp_iterations[i], label = 'iteration {:2n}'.format(i))\n",
    "  axs[1, 0].set_ylabel('$T_f$ (K)')\n",
    "\n",
    "  axs[1, 1].plot(normalized_cell_centers, fluid_density_iterations[i], label = 'iteration {:2n}'.format(i))\n",
    "  axs[1, 1].set_ylabel('$\\\\rho_f$ (g/cm$^3$)')\n",
    "\n",
    "for ax in axs.flat:\n",
    "  ax.set(xlabel = 'Normalized Axial Coordinate')\n",
    "  ticks = np.arange(H / height / 2.0, 1.0, H / height)\n",
    "  ax.set_xticks([0.0, 0.25, 0.5, 0.75, 1.0])\n",
    "  ax.set_xticks(ticks, minor = True)\n",
    "  ax.legend()\n",
    "  ax.grid()"
   ]
  },
  {
   "cell_type": "code",
   "execution_count": null,
   "metadata": {},
   "outputs": [],
   "source": []
  }
 ],
 "metadata": {
  "kernelspec": {
   "display_name": "Python 3",
   "language": "python",
   "name": "python3"
  },
  "language_info": {
   "codemirror_mode": {
    "name": "ipython",
    "version": 3
   },
   "file_extension": ".py",
   "mimetype": "text/x-python",
   "name": "python",
   "nbconvert_exporter": "python",
   "pygments_lexer": "ipython3",
   "version": "3.7.9"
  }
 },
 "nbformat": 4,
 "nbformat_minor": 4
}
